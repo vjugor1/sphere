{
 "cells": [
  {
   "cell_type": "markdown",
   "metadata": {},
   "source": [
    "Постановка задачи:\n",
    "$$\\underset{x \\in S}{min} \\; f(x) = \\frac{1}{2} (x, Ax) + (b, x)$$\n",
    "$$S = \\{ x \\in \\mathbb{R}^n : (x,x) = 1 \\}$$"
   ]
  },
  {
   "cell_type": "markdown",
   "metadata": {},
   "source": [
    "Поскольку аналитически решение такой задачи получить не представляется возможным, решим ее методом сопряженных градиентов:\n",
    "\\begin{equation} \n",
    "x^{k+1} = P_S(x^k - \\alpha_k p^k) = \\frac{x^k - \\alpha_k p^k}{\\| x^k - \\alpha_k p^k \\|},\n",
    "\\end{equation}\n",
    "где $\\alpha_k$, $p^k$ определяются следующим образом:\n",
    "\\begin{equation}\n",
    "\\begin{aligned}\n",
    "\\alpha_k &= \\underset{\\alpha}{argmin} \\; f(P_S(x^k + \\alpha p^k))  = \\\\\n",
    "&= \\underset{\\alpha}{argmin}\\Bigg\\{ \\frac{1}{2} \\frac{(x^k + \\alpha p^k, A(x^k + \\alpha p^k))}{\\| x^k + \\alpha p^k \\|^2} + \\frac{(b, x^k + \\alpha p^k)}{\\| x^k + \\alpha p^k \\|} \\Bigg\\},\\; x_0 \\in S \\\\\n",
    "p^k &= P_S(-\\nabla f(x^k) - \\beta_k p^{k-1}) = \\frac{-(Ax^k + b) - \\beta_k p^{k-1}}{\\| -(Ax^k + b) - \\beta_k p^{k-1} \\|}, \\; p^0 = -\\frac{Ax^0 + b}{\\| Ax^0 + b \\|}, \\\\\n",
    "\\beta_k &= \\frac{\\| P_S(\\nabla f(x^k)) \\|^2}{\\| P_S(\\nabla f(x^{k-1}))\\|^2} = 1\n",
    "\\end{aligned}\n",
    "\\end{equation}"
   ]
  },
  {
   "cell_type": "code",
   "execution_count": 1,
   "metadata": {
    "collapsed": true
   },
   "outputs": [],
   "source": [
    "import numpy as np\n",
    "from matplotlib import pyplot as plt\n",
    "%matplotlib inline"
   ]
  },
  {
   "cell_type": "code",
   "execution_count": 2,
   "metadata": {},
   "outputs": [
    {
     "name": "stdout",
     "output_type": "stream",
     "text": [
      "[[   1.    1.    1.]\n",
      " [   1. -100.    1.]\n",
      " [   1.    1.    1.]]\n",
      "[ 1.  2.  3.]\n"
     ]
    }
   ],
   "source": [
    "A = np.array([[1., 1., 1.], [1., -100., 1.], [1., 1., 1.]])\n",
    "b = np.array([1., 2., 3.])\n",
    "print A\n",
    "print b"
   ]
  },
  {
   "cell_type": "code",
   "execution_count": 3,
   "metadata": {
    "collapsed": true
   },
   "outputs": [],
   "source": [
    "x0 = np.array([0., 0., 1.])\n",
    "x0 = x0 / np.linalg.norm(x0)\n",
    "p0 = - (np.dot(A, x0) + b) / (np.linalg.norm(np.dot(A, x0) + b))"
   ]
  },
  {
   "cell_type": "code",
   "execution_count": 4,
   "metadata": {
    "collapsed": true
   },
   "outputs": [],
   "source": [
    "def getFuncValue(x):\n",
    "    return x.dot(np.dot(A, x)) + np.dot(b,x)"
   ]
  },
  {
   "cell_type": "code",
   "execution_count": 5,
   "metadata": {
    "collapsed": true
   },
   "outputs": [],
   "source": [
    "def getXkk(xk, alphak, pk):\n",
    "    return (xk - alphak * pk) / np.linalg.norm(xk - alphak * pk)\n",
    "def getPkk(pk, xk):\n",
    "    return (np.dot(-A, xk) - b - pk) / np.linalg.norm(np.dot(-A, xk) - b - pk)\n",
    "def gradAlpha(xk, pk, alpha):\n",
    "    first = ((xk + alpha * pk).dot(np.dot(A, pk)) * np.linalg.norm(xk + alpha * pk) ** 2 - 2 * np.dot(xk + alpha * pk, pk) * (xk + alpha * pk).dot(np.dot(A, xk + alpha * pk))) / (np.linalg.norm(xk + alpha * pk) ** 4)\n",
    "    second = (np.dot(b, pk) * np.linalg.norm(xk + alpha * pk) - (np.dot(xk + alpha * pk, pk))/(np.linalg.norm(xk + alpha * pk)) * np.dot(b, xk + alpha * pk)) / (np.linalg.norm(xk + alpha * pk) ** 2)\n",
    "    return first + second"
   ]
  },
  {
   "cell_type": "markdown",
   "metadata": {},
   "source": [
    "Для вычисления шага $\\alpha_k$ будем делать градиентный спуск с априорным выбором шага. Последовательность шагов будет такова, что ряд из шагов расходится, а из квадратов сходится."
   ]
  },
  {
   "cell_type": "code",
   "execution_count": 6,
   "metadata": {
    "collapsed": true
   },
   "outputs": [],
   "source": [
    "def getNewAlpha(xk, pk, eps, lRate):\n",
    "    alphak = 0.\n",
    "    n = 1\n",
    "    notEnough = True\n",
    "    while (notEnough):\n",
    "        if (1. / n) * gradAlpha(xk, pk, alphak) < eps:\n",
    "            notEnough = False\n",
    "        alphakk = alphak -lRate * (1. / n) * gradAlpha(xk, pk, alphak)\n",
    "        alphak = alphakk\n",
    "        n = n + 1\n",
    "        if (n % 100 == 0):\n",
    "            print 'alpha iternum = ', n\n",
    "            print 'alphak = ', alphak\n",
    "    return alphakk"
   ]
  },
  {
   "cell_type": "code",
   "execution_count": 7,
   "metadata": {},
   "outputs": [
    {
     "name": "stdout",
     "output_type": "stream",
     "text": [
      "167.125804359\n",
      "0.174071719823\n"
     ]
    }
   ],
   "source": [
    "#test cell\n",
    "alphat = getNewAlpha(x0, p0, 1e-5, 100.)\n",
    "print alphat\n",
    "gradalphat = gradAlpha(x0, p0, alphat)\n",
    "print gradalphat"
   ]
  },
  {
   "cell_type": "code",
   "execution_count": 8,
   "metadata": {
    "collapsed": true
   },
   "outputs": [],
   "source": [
    "def sphereCGM(x0, p0, eps, epsalpha, xs, fs):\n",
    "    notEnough = True\n",
    "    xk = x0\n",
    "    pk = p0\n",
    "    lRate = 1.\n",
    "    i = 0\n",
    "    xs.append(x0)\n",
    "    fs.append(getFuncValue(x0))\n",
    "    while (notEnough):\n",
    "        alphak = getNewAlpha(xk, pk, epsalpha, lRate)\n",
    "        xkk = getXkk(xk, alphak, pk)\n",
    "        if np.linalg.norm(xkk - xk) < eps:\n",
    "            notEnough = True\n",
    "        pk = getPkk(xk, pk)\n",
    "        \n",
    "        if (i % 100 == 0):\n",
    "            print 'x iternum = ', i\n",
    "            print 'xk = ', xk\n",
    "            print 'xkk = ', xkk\n",
    "        xk = xkk\n",
    "        i = i + 1\n",
    "        xs.append(xk)\n",
    "        fs.append(getFuncValue(xk))\n",
    "        if i > 20: break\n",
    "    return xk\n",
    "        \n",
    "        "
   ]
  },
  {
   "cell_type": "code",
   "execution_count": 9,
   "metadata": {},
   "outputs": [
    {
     "name": "stdout",
     "output_type": "stream",
     "text": [
      "x iternum =  0\n",
      "xk =  [ 0.57735027  0.57735027  0.57735027]\n",
      "xkk =  [ 0.07322826 -0.99118893  0.11037267]\n",
      "[ 0.01977454 -0.99899714  0.04017063]\n"
     ]
    }
   ],
   "source": [
    "x0 = np.array([1., 1., 1.])\n",
    "x0 = x0 / np.linalg.norm(x0)\n",
    "p0 = - (np.dot(A, x0) + b) / (np.linalg.norm(np.dot(A, x0) + b))\n",
    "xs = []\n",
    "fs = []\n",
    "print sphereCGM(x0, p0, 1e-2, 1e-2, xs, fs)"
   ]
  },
  {
   "cell_type": "code",
   "execution_count": 10,
   "metadata": {},
   "outputs": [
    {
     "name": "stderr",
     "output_type": "stream",
     "text": [
      "/home/rectangle/anaconda2/lib/python2.7/site-packages/ipykernel_launcher.py:3: RuntimeWarning: divide by zero encountered in log\n",
      "  This is separate from the ipykernel package so we can avoid doing imports until\n"
     ]
    },
    {
     "data": {
      "image/png": "[encoded data removed]",
      "text/plain": [
       "<matplotlib.figure.Figure at 0x7f98636b9a90>"
      ]
     },
     "metadata": {},
     "output_type": "display_data"
    }
   ],
   "source": [
    "fstar = fs[np.argmin(fs)]\n",
    "fminfstar = fs - np.ones(len(fs)) * fstar\n",
    "logf = np.log(fminfstar[:len(fs) - 1])\n",
    "\n",
    "plt.figure()\n",
    "plt.scatter(range(len(logf)), logf)\n",
    "plt.xlabel('iteration number')\n",
    "plt.ylabel('log(f)')\n",
    "plt.title('semilog')\n",
    "plt.show()"
   ]
  }
 ],
 "metadata": {
  "kernelspec": {
   "display_name": "Python 2",
   "language": "python",
   "name": "python2"
  },
  "language_info": {
   "codemirror_mode": {
    "name": "ipython",
    "version": 2
   },
   "file_extension": ".py",
   "mimetype": "text/x-python",
   "name": "python",
   "nbconvert_exporter": "python",
   "pygments_lexer": "ipython2",
   "version": "2.7.13"
  }
 },
 "nbformat": 4,
 "nbformat_minor": 2
}
