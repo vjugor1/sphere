{
 "cells": [
  {
   "cell_type": "markdown",
   "metadata": {},
   "source": [
    "Постановка задачи:\n",
    "$$\\underset{x \\in S}{min} \\; f(x) = \\frac{1}{2} (x, Ax) + (b, x)$$\n",
    "$$S = \\{ x \\in \\mathbb{R}^n : (x,x) = 1 \\}$$"
   ]
  },
  {
   "cell_type": "code",
   "execution_count": 2,
   "metadata": {
    "collapsed": true
   },
   "outputs": [],
   "source": [
    "import numpy as np\n",
    "from scipy import linalg\n",
    "from matplotlib import pyplot as plt\n",
    "%matplotlib inline"
   ]
  },
  {
   "cell_type": "markdown",
   "metadata": {},
   "source": [
    "Далее определим матрицу $A$, вектор-стоблец $b$, размерность пространства (автоматически из размерности $A$)"
   ]
  },
  {
   "cell_type": "code",
   "execution_count": 3,
   "metadata": {},
   "outputs": [
    {
     "name": "stdout",
     "output_type": "stream",
     "text": [
      "[[ 1.  0.  2.]\n",
      " [ 0.  2.  1.]\n",
      " [ 2.  1.  5.]]\n",
      "[-1. -1. -1.]\n"
     ]
    }
   ],
   "source": [
    "A = np.array([[1., 0., 2.], [0., 2., 1.], [2., 1., 5.]])\n",
    "b = np.array([-1., -1., -1.])\n",
    "print A\n",
    "print b\n",
    "n = A.shape[0]"
   ]
  },
  {
   "cell_type": "code",
   "execution_count": 4,
   "metadata": {
    "collapsed": true
   },
   "outputs": [],
   "source": [
    "def F(x):\n",
    "    return 0.5 * x.dot(np.dot(A, x)) + np.dot(b,x)"
   ]
  },
  {
   "cell_type": "code",
   "execution_count": 5,
   "metadata": {
    "collapsed": true
   },
   "outputs": [],
   "source": [
    "x0 = np.array([1., 1., 1.])\n",
    "x0 = x0 / np.linalg.norm(x0)\n",
    "G0 = A.dot(x0) + b - x0*(np.dot(A.dot(x0) + b, x0))\n",
    "H0 = - G0"
   ]
  },
  {
   "cell_type": "code",
   "execution_count": 18,
   "metadata": {},
   "outputs": [],
   "source": [
    "def armijoRule(f, gradf, tau):\n",
    "    alpha = 0.9\n",
    "    eps = 0.9\n",
    "    ro = 0.5\n",
    "    i = 0\n",
    "    #print 'ARMIJO DEBUG:'\n",
    "    #print 'tau = ', tau\n",
    "    #print 'first arg = ', tau - alpha * gradf(tau)\n",
    "    #print 'gradf(tau) = ', gradf(tau)\n",
    "    #print 'f(tau) = ', f(tau)\n",
    "    while (f(tau - alpha * gradf(tau)) - f(tau) > - eps * alpha * gradf(tau) * gradf(tau)) and (i < 100):\n",
    "        #if i % 10 == 0:\n",
    "            #print 'Armijo iteration number: ', i\n",
    "        alpha = alpha * ro\n",
    "        i += 1\n",
    "    return alpha"
   ]
  },
  {
   "cell_type": "code",
   "execution_count": 20,
   "metadata": {
    "collapsed": true
   },
   "outputs": [],
   "source": [
    "def GetNewMN(x, H, Q, R, A, b, t0 = 0):\n",
    "    #QR dec of vector is Q = unit vector and R is its norm\n",
    "    Ahat = x.dot(H)\n",
    "    #toBeQRed = (np.eye(len(x)) - np.dot(x.reshape(len(x), 1),x.reshape(1, len(x)))).dot(H)\n",
    "    #Q = toBeQRed / np.linalg.norm(toBeQRed)\n",
    "    #R = np.linalg.norm(toBeQRed)\n",
    "    #print 'GetNewT DEBUG: '\n",
    "    #print 'x shape = ', x.shape\n",
    "    underExp = np.array([[Ahat, -R], [R, 0]])\n",
    "    expm = lambda t: linalg.expm(t * underExp)\n",
    "    M = lambda t: expm(t)[0][0]\n",
    "    N = lambda t: expm(t)[1][0]\n",
    "    gradMinT = lambda t: (x * M(t) + Q * N(t)).dot(np.dot(A, x * (underExp.dot(expm(t)))[0][0] + Q * (underExp.dot(expm(t)))[1][0])) + np.dot(b, x * (underExp.dot(expm(t)))[0][0] + Q * (underExp.dot(expm(t)))[1][0]) \n",
    "    MinT = lambda t: 0.5 * np.dot((x * M(t) + Q * N(t)), A.dot(x * M(t) + Q * N(t))) + b.dot(x * M(t) + Q * N(t))\n",
    "    tk = t0\n",
    "    #print 'gradMinT(1) = ', gradMinT(1)\n",
    "    #print 'underExp.dot(expm(t))[0][0] = ', underExp.dot(expm(10.))[0][0]\n",
    "    #print 'gradMinT shape  = ', gradMinT(tk).shape\n",
    "    #print 'backtracking line search shape = ', len(backtracking_line_search(MinT, gradMinT, tk))\n",
    "    #tkk = tk + backtracking_line_search(MinT, gradMinT, tk) * gradMinT(tk)\n",
    "    tkk = tk - armijoRule(MinT, gradMinT, tk) * gradMinT(tk)\n",
    "    j = 0\n",
    "    #print 'GetNewMN before while: tk = ', tk\n",
    "    #print 'GetNewMN before while: tkk = ', tkk\n",
    "    while (np.abs(tk - tkk) > 1e-2):\n",
    "        #print 'GetNewMN while iter num = ', j\n",
    "        tk = tkk\n",
    "        #print 'GetNewMN in while: tk = ', tk\n",
    "        #print 'GetNewMN in while: MinT = ', MinT(tk)\n",
    "        #print 'GetNewMN in while: MinT arg: '\n",
    "        #print (x * expm(tk)[0][0] + Q * expm(tk)[1][0])\n",
    "        tkk = tk - armijoRule(MinT, gradMinT, tk) * gradMinT(tk)\n",
    "        j += 1\n",
    "    #print tkk\n",
    "    return M(tkk), N(tkk)\n",
    "        \n",
    "    "
   ]
  },
  {
   "cell_type": "code",
   "execution_count": 8,
   "metadata": {
    "collapsed": true
   },
   "outputs": [],
   "source": [
    "def innerProd(x, y, Y):\n",
    "    return np.trace( np.atleast_2d(np.dot(x, np.dot(np.eye(Y.shape[0]) - 0.5 * np.dot(Y, np.atleast_2d(Y).T), y))))"
   ]
  },
  {
   "cell_type": "code",
   "execution_count": 9,
   "metadata": {
    "collapsed": true
   },
   "outputs": [],
   "source": [
    "def StiefelCGM(x0, A, b, xs, fs, eps = 1e-4, iter_num = 48):\n",
    "    xk = x0 / np.linalg.norm(x0)\n",
    "    Gk = A.dot(xk) + b - xk*(np.dot(A.dot(xk) + b, xk))\n",
    "    Hk = - Gk\n",
    "    toBeQRed = (np.eye(len(xk)) - np.atleast_2d(xk).dot(np.atleast_2d(xk).T)).dot(Hk)\n",
    "    Q = toBeQRed / np.linalg.norm(toBeQRed)\n",
    "    R = np.linalg.norm(toBeQRed)\n",
    "    #xtk = lambda t: xk * expm(t)[0][0] + Q * expm(t)[1][0]\n",
    "    tk = 0.\n",
    "    for i in range(iter_num):\n",
    "        #print 'METHOD DEBUG in FOR iter num = ', i\n",
    "        Mtk, Ntk = GetNewMN(xk, Hk, Q, R, A, b)\n",
    "        #print 'Mtk = ', Mtk\n",
    "        #print 'Ntk = ', Ntk\n",
    "        xk = xk * Mtk + Q * Ntk\n",
    "        toBeQRed = (np.eye(len(xk)) - np.atleast_2d(xk).dot(np.atleast_2d(xk).T)).dot(Hk)\n",
    "        Q = toBeQRed / np.linalg.norm(toBeQRed)\n",
    "        R = np.linalg.norm(toBeQRed)\n",
    "        #print 'xk = ', xk\n",
    "        #print 'xk.norm = ', np.linalg.norm(xk)\n",
    "        tauGk = Gk\n",
    "        Gk = A.dot(xk) + b - xk * np.dot((A.dot(xk) + b), xk)\n",
    "        tauHk = Hk * Mtk - xk * R * Ntk\n",
    "        #set tauGk = 0\n",
    "        gammak = innerProd(Gk , Gk, xk) / innerProd(tauGk, tauGk, xk)\n",
    "        Hk = -Gk + gammak * tauHk\n",
    "        if ((i + 1) % (n- 1)) == 0:\n",
    "            Hk = -Gk\n",
    "        #print 'F(xk) = ', F(xk)\n",
    "        xs.append(xk) \n",
    "        fs.append(F(xk))\n",
    "    return xk\n",
    "\n",
    "        \n",
    "        "
   ]
  },
  {
   "cell_type": "code",
   "execution_count": 21,
   "metadata": {},
   "outputs": [
    {
     "name": "stdout",
     "output_type": "stream",
     "text": [
      "Начальное приближение\n",
      "[ 0.00219942  0.83352916 -0.55247109]\n"
     ]
    }
   ],
   "source": [
    "x0 = np.random.randn(3)\n",
    "x0 = np.array( x0 / np.linalg.norm(x0))\n",
    "print 'Начальное приближение'\n",
    "print x0\n",
    "#x0 = np.array([1., 0.,  0.])"
   ]
  },
  {
   "cell_type": "code",
   "execution_count": 22,
   "metadata": {
    "scrolled": true
   },
   "outputs": [
    {
     "name": "stdout",
     "output_type": "stream",
     "text": [
      "[ 0.24721629  1.09658821 -0.23571139]\n"
     ]
    }
   ],
   "source": [
    "xs = []\n",
    "fs = []\n",
    "ans = StiefelCGM(x0, A, b, xs, fs, iter_num=12)\n",
    "print ans"
   ]
  },
  {
   "cell_type": "code",
   "execution_count": 40,
   "metadata": {},
   "outputs": [
    {
     "name": "stdout",
     "output_type": "stream",
     "text": [
      "x* =  [ 1.02960592  0.61004039 -0.21726383]\n",
      "F(x*) =  -0.982112057923\n",
      "norm check: 1.21632281525\n"
     ]
    }
   ],
   "source": [
    "print 'x* = ', ans\n",
    "print 'F(x*) = ', F(ans)\n",
    "print 'norm check:', np.linalg.norm(ans)"
   ]
  },
  {
   "cell_type": "code",
   "execution_count": 24,
   "metadata": {
    "scrolled": false
   },
   "outputs": [
    {
     "data": {
      "image/png": "[encoded data removed]",
      "text/plain": [
       "<matplotlib.figure.Figure at 0x7f7c0bf93dd0>"
      ]
     },
     "metadata": {},
     "output_type": "display_data"
    }
   ],
   "source": [
    "fstar = fs[np.argmin(fs)]\n",
    "fminfstar = fs - np.ones(len(fs)) * fstar\n",
    "logf = np.log(fminfstar[:len(fs) - 1])\n",
    "\n",
    "plt.figure()\n",
    "plt.scatter(range(len(logf)), logf)\n",
    "plt.xlabel('iteration number')\n",
    "plt.ylabel('log(f)')\n",
    "plt.title('semilog')\n",
    "plt.show()"
   ]
  },
  {
   "cell_type": "code",
   "execution_count": 25,
   "metadata": {},
   "outputs": [
    {
     "name": "stdout",
     "output_type": "stream",
     "text": [
      "Начальное приближение\n",
      "[ 0.16034115  0.39808627  0.90322646]\n"
     ]
    }
   ],
   "source": [
    "x0 = np.random.randn(3)\n",
    "x0 = np.array( x0 / np.linalg.norm(x0))\n",
    "print 'Начальное приближение'\n",
    "print x0\n",
    "#x0 = np.array([1., 0.,  0.])"
   ]
  },
  {
   "cell_type": "code",
   "execution_count": 26,
   "metadata": {
    "scrolled": true
   },
   "outputs": [
    {
     "name": "stdout",
     "output_type": "stream",
     "text": [
      "[ 0.47524584  0.74128756 -0.26702268]\n"
     ]
    }
   ],
   "source": [
    "xs = []\n",
    "fs = []\n",
    "ans = StiefelCGM(x0, A, b, xs, fs, iter_num=12)\n",
    "print ans"
   ]
  },
  {
   "cell_type": "code",
   "execution_count": 39,
   "metadata": {},
   "outputs": [
    {
     "name": "stdout",
     "output_type": "stream",
     "text": [
      "x* =  [ 1.02960592  0.61004039 -0.21726383]\n",
      "F(x*) =  -0.982112057923\n",
      "norm check: 1.21632281525\n"
     ]
    }
   ],
   "source": [
    "print 'x* = ', ans\n",
    "print 'F(x*) = ', F(ans)\n",
    "print 'norm check:', np.linalg.norm(ans)"
   ]
  },
  {
   "cell_type": "code",
   "execution_count": 28,
   "metadata": {
    "scrolled": false
   },
   "outputs": [
    {
     "data": {
      "image/png": "[encoded data removed]",
      "text/plain": [
       "<matplotlib.figure.Figure at 0x7f7c0bf34450>"
      ]
     },
     "metadata": {},
     "output_type": "display_data"
    }
   ],
   "source": [
    "fstar = fs[np.argmin(fs)]\n",
    "fminfstar = fs - np.ones(len(fs)) * fstar\n",
    "logf = np.log(fminfstar[:len(fs) - 1])\n",
    "\n",
    "plt.figure()\n",
    "plt.scatter(range(len(logf)), logf)\n",
    "plt.xlabel('iteration number')\n",
    "plt.ylabel('log(f)')\n",
    "plt.title('semilog')\n",
    "plt.show()"
   ]
  },
  {
   "cell_type": "code",
   "execution_count": 29,
   "metadata": {},
   "outputs": [
    {
     "name": "stdout",
     "output_type": "stream",
     "text": [
      "Начальное приближение\n",
      "[-0.07342681  0.56899925 -0.81905333]\n"
     ]
    }
   ],
   "source": [
    "x0 = np.random.randn(3)\n",
    "x0 = np.array( x0 / np.linalg.norm(x0))\n",
    "print 'Начальное приближение'\n",
    "print x0\n",
    "#x0 = np.array([1., 0.,  0.])"
   ]
  },
  {
   "cell_type": "code",
   "execution_count": 30,
   "metadata": {
    "scrolled": true
   },
   "outputs": [
    {
     "name": "stdout",
     "output_type": "stream",
     "text": [
      "[ 0.64533202  0.43764452 -0.22072192]\n"
     ]
    }
   ],
   "source": [
    "xs = []\n",
    "fs = []\n",
    "ans = StiefelCGM(x0, A, b, xs, fs, iter_num=12)\n",
    "print ans"
   ]
  },
  {
   "cell_type": "code",
   "execution_count": 41,
   "metadata": {},
   "outputs": [
    {
     "name": "stdout",
     "output_type": "stream",
     "text": [
      "x* =  [ 1.02960592  0.61004039 -0.21726383]\n",
      "F(x*) =  -0.982112057923\n",
      "norm check: 1.21632281525\n"
     ]
    }
   ],
   "source": [
    "print 'x* = ', ans\n",
    "print 'F(x*) = ', F(ans)\n",
    "print 'norm check:', np.linalg.norm(ans)"
   ]
  },
  {
   "cell_type": "code",
   "execution_count": 42,
   "metadata": {
    "scrolled": false
   },
   "outputs": [
    {
     "data": {
      "image/png": "[encoded data removed]",
      "text/plain": [
       "<matplotlib.figure.Figure at 0x7f7c0bdb6910>"
      ]
     },
     "metadata": {},
     "output_type": "display_data"
    }
   ],
   "source": [
    "fstar = fs[np.argmin(fs)]\n",
    "fminfstar = fs - np.ones(len(fs)) * fstar\n",
    "logf = np.log(fminfstar[:len(fs) - 1])\n",
    "\n",
    "plt.figure()\n",
    "plt.scatter(range(len(logf)), logf)\n",
    "plt.xlabel('iteration number')\n",
    "plt.ylabel('log(f)')\n",
    "plt.title('semilog')\n",
    "plt.show()"
   ]
  },
  {
   "cell_type": "code",
   "execution_count": 44,
   "metadata": {},
   "outputs": [
    {
     "name": "stdout",
     "output_type": "stream",
     "text": [
      "Начальное приближение\n",
      "[-0.07441054  0.97120326  0.22633449]\n"
     ]
    }
   ],
   "source": [
    "x0 = np.random.randn(3)\n",
    "x0 = np.array( x0 / np.linalg.norm(x0))\n",
    "print 'Начальное приближение'\n",
    "print x0\n",
    "#x0 = np.array([1., 0.,  0.])"
   ]
  },
  {
   "cell_type": "code",
   "execution_count": 45,
   "metadata": {
    "scrolled": true
   },
   "outputs": [
    {
     "name": "stdout",
     "output_type": "stream",
     "text": [
      "[ 0.21280688  0.92300547 -0.22266791]\n"
     ]
    }
   ],
   "source": [
    "xs = []\n",
    "fs = []\n",
    "ans = StiefelCGM(x0, A, b, xs, fs, iter_num=12)\n",
    "print ans"
   ]
  },
  {
   "cell_type": "code",
   "execution_count": 46,
   "metadata": {},
   "outputs": [
    {
     "name": "stdout",
     "output_type": "stream",
     "text": [
      "x* =  [ 0.21280688  0.92300547 -0.22266791]\n",
      "F(x*) =  -0.214903690508\n",
      "norm check: 0.97304001507\n"
     ]
    }
   ],
   "source": [
    "print 'x* = ', ans\n",
    "print 'F(x*) = ', F(ans)\n",
    "print 'norm check:', np.linalg.norm(ans)"
   ]
  },
  {
   "cell_type": "code",
   "execution_count": 47,
   "metadata": {
    "scrolled": true
   },
   "outputs": [
    {
     "data": {
      "image/png": "[encoded data removed]",
      "text/plain": [
       "<matplotlib.figure.Figure at 0x7f7c0bd9fa90>"
      ]
     },
     "metadata": {},
     "output_type": "display_data"
    }
   ],
   "source": [
    "fstar = fs[np.argmin(fs)]\n",
    "fminfstar = fs - np.ones(len(fs)) * fstar\n",
    "logf = np.log(fminfstar[:len(fs) - 1])\n",
    "\n",
    "plt.figure()\n",
    "plt.scatter(range(len(logf)), logf)\n",
    "plt.xlabel('iteration number')\n",
    "plt.ylabel('log(f)')\n",
    "plt.title('semilog')\n",
    "plt.show()"
   ]
  },
  {
   "cell_type": "code",
   "execution_count": 48,
   "metadata": {},
   "outputs": [
    {
     "name": "stdout",
     "output_type": "stream",
     "text": [
      "[-0.75203531  0.03808003 -0.65802188]\n"
     ]
    }
   ],
   "source": [
    "x0 = np.random.randn(3)\n",
    "x0 = np.array( x0 / np.linalg.norm(x0))\n",
    "print x0\n",
    "#x0 = np.array([1., 0.,  0.])"
   ]
  },
  {
   "cell_type": "code",
   "execution_count": 49,
   "metadata": {
    "scrolled": true
   },
   "outputs": [
    {
     "name": "stdout",
     "output_type": "stream",
     "text": [
      "[ 0.68883453  0.1141244  -0.14343944]\n"
     ]
    }
   ],
   "source": [
    "xs = []\n",
    "fs = []\n",
    "ans = StiefelCGM(x0, A, b, xs, fs, iter_num=12)\n",
    "print ans"
   ]
  },
  {
   "cell_type": "code",
   "execution_count": 50,
   "metadata": {},
   "outputs": [
    {
     "name": "stdout",
     "output_type": "stream",
     "text": [
      "[ 0.68883453  0.1141244  -0.14343944]\n",
      "-0.571793440233\n",
      "0.712805907643\n"
     ]
    }
   ],
   "source": [
    "print ans\n",
    "print F(ans)\n",
    "print np.linalg.norm(ans)"
   ]
  },
  {
   "cell_type": "code",
   "execution_count": 51,
   "metadata": {
    "scrolled": true
   },
   "outputs": [
    {
     "data": {
      "image/png": "[encoded data removed]",
      "text/plain": [
       "<matplotlib.figure.Figure at 0x7f7c0be5c750>"
      ]
     },
     "metadata": {},
     "output_type": "display_data"
    }
   ],
   "source": [
    "fstar = fs[np.argmin(fs)]\n",
    "fminfstar = fs - np.ones(len(fs)) * fstar\n",
    "logf = np.log(fminfstar[:len(fs) - 1])\n",
    "\n",
    "plt.figure()\n",
    "plt.scatter(range(len(logf)), logf)\n",
    "plt.xlabel('iteration number')\n",
    "plt.ylabel('log(f)')\n",
    "plt.title('semilog')\n",
    "plt.show()"
   ]
  },
  {
   "cell_type": "code",
   "execution_count": 52,
   "metadata": {
    "scrolled": true
   },
   "outputs": [
    {
     "name": "stdout",
     "output_type": "stream",
     "text": [
      "[-0.4488748   0.05326119 -0.89200598]\n"
     ]
    }
   ],
   "source": [
    "x0 = np.random.randn(3)\n",
    "x0 = np.array( x0 / np.linalg.norm(x0))\n",
    "print x0\n",
    "#x0 = np.array([1., 0.,  0.])"
   ]
  },
  {
   "cell_type": "code",
   "execution_count": 53,
   "metadata": {
    "scrolled": true
   },
   "outputs": [
    {
     "name": "stdout",
     "output_type": "stream",
     "text": [
      "[ 0.75913393  0.63426505 -0.25704037]\n"
     ]
    }
   ],
   "source": [
    "xs = []\n",
    "fs = []\n",
    "ans = StiefelCGM(x0, A, b, xs, fs, iter_num=12)\n",
    "print ans"
   ]
  },
  {
   "cell_type": "code",
   "execution_count": 54,
   "metadata": {},
   "outputs": [
    {
     "name": "stdout",
     "output_type": "stream",
     "text": [
      "[ 0.75913393  0.63426505 -0.25704037]\n",
      "-0.834037767182\n",
      "1.02207936298\n"
     ]
    }
   ],
   "source": [
    "print ans\n",
    "print F(ans)\n",
    "print np.linalg.norm(ans)"
   ]
  },
  {
   "cell_type": "code",
   "execution_count": 55,
   "metadata": {
    "scrolled": true
   },
   "outputs": [
    {
     "data": {
      "image/png": "[encoded data removed]",
      "text/plain": [
       "<matplotlib.figure.Figure at 0x7f7c0bcd3c10>"
      ]
     },
     "metadata": {},
     "output_type": "display_data"
    }
   ],
   "source": [
    "fstar = fs[np.argmin(fs)]\n",
    "fminfstar = fs - np.ones(len(fs)) * fstar\n",
    "logf = np.log(fminfstar[:len(fs) - 1])\n",
    "\n",
    "plt.figure()\n",
    "plt.scatter(range(len(logf)), logf)\n",
    "plt.xlabel('iteration number')\n",
    "plt.ylabel('log(f)')\n",
    "plt.title('semilog')\n",
    "plt.show()"
   ]
  }
 ],
 "metadata": {
  "kernelspec": {
   "display_name": "Python 2",
   "language": "python",
   "name": "python2"
  },
  "language_info": {
   "codemirror_mode": {
    "name": "ipython",
    "version": 2
   },
   "file_extension": ".py",
   "mimetype": "text/x-python",
   "name": "python",
   "nbconvert_exporter": "python",
   "pygments_lexer": "ipython2",
   "version": "2.7.13"
  }
 },
 "nbformat": 4,
 "nbformat_minor": 2
}
