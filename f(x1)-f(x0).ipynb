{
 "cells": [
  {
   "cell_type": "code",
   "execution_count": 1,
   "metadata": {
    "collapsed": true
   },
   "outputs": [],
   "source": [
    "import numpy as np\n",
    "from matplotlib import pyplot as plt\n",
    "%matplotlib inline"
   ]
  },
  {
   "cell_type": "code",
   "execution_count": 2,
   "metadata": {
    "collapsed": true
   },
   "outputs": [],
   "source": [
    "A = np.array([\n",
    "                [1., 2.],\n",
    "                [2., 1.]\n",
    "             ])\n",
    "b = np.array([1., 2.])"
   ]
  },
  {
   "cell_type": "code",
   "execution_count": 3,
   "metadata": {
    "collapsed": true
   },
   "outputs": [],
   "source": [
    "def Ax_x(A, x):\n",
    "    x_normed = x / np.linalg.norm(x)\n",
    "    return np.dot(A.dot(x_normed), x_normed)\n",
    "def b_x(b, x):\n",
    "    x_normed = x / np.linalg.norm(x)\n",
    "    return  np.dot(b, x_normed)"
   ]
  },
  {
   "cell_type": "code",
   "execution_count": 4,
   "metadata": {
    "collapsed": true
   },
   "outputs": [],
   "source": [
    "def xi_func(A, b, x):\n",
    "    fhat = Ax_x(A, x) + b_x(b, x)\n",
    "    x_normed = x / np.linalg.norm(x)\n",
    "    return A.dot(x_normed)  - (x_normed) * fhat + b"
   ]
  },
  {
   "cell_type": "code",
   "execution_count": 5,
   "metadata": {
    "collapsed": true
   },
   "outputs": [],
   "source": [
    "def deltaF(gamma, x, xi, A, b):\n",
    "    t0 = np.linalg.norm(xi) / np.linalg.norm (x)\n",
    "    A2 = (t0**2) * 0.5 * (Ax_x(A, xi) - Ax_x(A, x))\n",
    "    A1 = t0 * (np.linalg.norm(xi) - b_x(b, xi))\n",
    "    B0 = b_x(b, x)\n",
    "    B1 = t0 * b_x(b, xi)\n",
    "    return (B0 - gamma * B1) / (np.sqrt(1. + (gamma ** 2) * (t0 ** 2))) - B0 + ((gamma ** 2) * A2 - gamma * A1) / (1. + (gamma ** 2) * (t0 ** 2))"
   ]
  },
  {
   "cell_type": "code",
   "execution_count": 6,
   "metadata": {},
   "outputs": [
    {
     "name": "stdout",
     "output_type": "stream",
     "text": [
      "[-1.13665631  2.27331263]\n",
      "-1.55431223448e-15\n",
      "-3.30830291506\n"
     ]
    }
   ],
   "source": [
    "x0 =  1. * np.array([1., 0.5])\n",
    "x0 = x0 / np.linalg.norm(x0)\n",
    "xi0 = xi_func(A, b, x0)\n",
    "print xi0\n",
    "print np.dot(x0, xi0)\n",
    "gamma = 0.5\n",
    "print deltaF(gamma, x0, xi0, A, b)"
   ]
  },
  {
   "cell_type": "code",
   "execution_count": 7,
   "metadata": {
    "collapsed": true
   },
   "outputs": [],
   "source": [
    "to = 5.\n",
    "Num = 10000\n",
    "X = np.linspace(-to, to, num=Num)\n",
    "Y = np.array(map(lambda x: deltaF(x, x0, xi0, A, b), X))\n"
   ]
  },
  {
   "cell_type": "code",
   "execution_count": 8,
   "metadata": {
    "scrolled": false
   },
   "outputs": [
    {
     "data": {
      "image/png": "[encoded data removed]",
      "text/plain": [
       "<matplotlib.figure.Figure at 0x7feb84eff190>"
      ]
     },
     "metadata": {},
     "output_type": "display_data"
    }
   ],
   "source": [
    "plt.figure()\n",
    "plt.plot(X, Y)\n",
    "plt.xlabel('gammas')\n",
    "plt.ylabel('deltaF')\n",
    "plt.title('deltaF of gamma')\n",
    "plt.show()\n"
   ]
  },
  {
   "cell_type": "code",
   "execution_count": 9,
   "metadata": {},
   "outputs": [
    {
     "name": "stdout",
     "output_type": "stream",
     "text": [
      "[ 0.46334369  0.92668737]\n",
      "1.66533453694e-16\n",
      "-0.199900367355\n"
     ]
    }
   ],
   "source": [
    "x0 = 0.1 * np.array([-20., 10.])\n",
    "x0 = x0 / np.linalg.norm(x0)\n",
    "xi0 = xi_func(A, b, x0)\n",
    "print xi0\n",
    "print np.dot(x0, xi0)\n",
    "gamma = 0.5\n",
    "print deltaF(gamma, x0, xi0, A, b)"
   ]
  },
  {
   "cell_type": "code",
   "execution_count": 10,
   "metadata": {
    "collapsed": true
   },
   "outputs": [],
   "source": [
    "to = 15.\n",
    "Num = 10000\n",
    "X = np.linspace(-to, to, num=Num)\n",
    "Y = np.array(map(lambda x: deltaF(x, x0, xi0, A, b), X))\n"
   ]
  },
  {
   "cell_type": "code",
   "execution_count": 11,
   "metadata": {
    "scrolled": false
   },
   "outputs": [
    {
     "data": {
      "image/png": "[encoded data removed]",
      "text/plain": [
       "<matplotlib.figure.Figure at 0x7feb81bc6150>"
      ]
     },
     "metadata": {},
     "output_type": "display_data"
    }
   ],
   "source": [
    "plt.figure()\n",
    "plt.plot(X, Y)\n",
    "plt.xlabel('gammas')\n",
    "plt.ylabel('deltaF')\n",
    "plt.title('deltaF of gamma')\n",
    "plt.show()\n"
   ]
  },
  {
   "cell_type": "code",
   "execution_count": 12,
   "metadata": {},
   "outputs": [
    {
     "name": "stdout",
     "output_type": "stream",
     "text": [
      "[-0.5  0.5]\n",
      "-1.22124532709e-15\n",
      "-0.579244826177\n"
     ]
    }
   ],
   "source": [
    "x0 = np.array([1., 1.])\n",
    "x0 = x0 / np.linalg.norm(x0)\n",
    "xi0 = xi_func(A, b, x0)\n",
    "print xi0\n",
    "print np.dot(x0, xi0)\n",
    "gamma = 0.5\n",
    "print deltaF(gamma, x0, xi0, A, b)"
   ]
  },
  {
   "cell_type": "code",
   "execution_count": 13,
   "metadata": {
    "collapsed": true
   },
   "outputs": [],
   "source": [
    "to = 25.\n",
    "Num = 10000\n",
    "X = np.linspace(-to, to, num=Num)\n",
    "Y = np.array(map(lambda x: deltaF(x, x0, xi0, A, b), X))\n"
   ]
  },
  {
   "cell_type": "code",
   "execution_count": 14,
   "metadata": {
    "scrolled": true
   },
   "outputs": [
    {
     "data": {
      "image/png": "[encoded data removed]",
      "text/plain": [
       "<matplotlib.figure.Figure at 0x7febac4961d0>"
      ]
     },
     "metadata": {},
     "output_type": "display_data"
    }
   ],
   "source": [
    "plt.figure()\n",
    "plt.plot(X, Y)\n",
    "plt.xlabel('gammas')\n",
    "plt.ylabel('deltaF')\n",
    "plt.title('deltaF of gamma')\n",
    "plt.show()\n"
   ]
  },
  {
   "cell_type": "code",
   "execution_count": 15,
   "metadata": {},
   "outputs": [
    {
     "name": "stdout",
     "output_type": "stream",
     "text": [
      "[-1.21789328  0.40596443]\n",
      "-1.66533453694e-16\n",
      "-0.555929154488\n"
     ]
    }
   ],
   "source": [
    "x0 = 10. * np.array([-10., -30.])\n",
    "x0 = x0 / np.linalg.norm(x0)\n",
    "xi0 = xi_func(A, b, x0)\n",
    "print xi0\n",
    "print np.dot(x0, xi0)\n",
    "gamma = 0.5\n",
    "print deltaF(gamma, x0, xi0, A, b)"
   ]
  },
  {
   "cell_type": "code",
   "execution_count": 16,
   "metadata": {
    "collapsed": true
   },
   "outputs": [],
   "source": [
    "to = 5.\n",
    "Num = 10000\n",
    "X = np.linspace(-to, to, num=Num)\n",
    "Y = np.array(map(lambda x: deltaF(x, x0, xi0, A, b), X))\n"
   ]
  },
  {
   "cell_type": "code",
   "execution_count": 17,
   "metadata": {
    "scrolled": false
   },
   "outputs": [
    {
     "data": {
      "image/png": "[encoded data removed]",
      "text/plain": [
       "<matplotlib.figure.Figure at 0x7feb81ab0090>"
      ]
     },
     "metadata": {},
     "output_type": "display_data"
    }
   ],
   "source": [
    "plt.figure()\n",
    "plt.plot(X, Y)\n",
    "plt.xlabel('gammas')\n",
    "plt.ylabel('deltaF')\n",
    "plt.title('deltaF of gamma')\n",
    "plt.show()\n"
   ]
  }
 ],
 "metadata": {
  "kernelspec": {
   "display_name": "Python 2",
   "language": "python",
   "name": "python2"
  },
  "language_info": {
   "codemirror_mode": {
    "name": "ipython",
    "version": 2
   },
   "file_extension": ".py",
   "mimetype": "text/x-python",
   "name": "python",
   "nbconvert_exporter": "python",
   "pygments_lexer": "ipython2",
   "version": "2.7.13"
  }
 },
 "nbformat": 4,
 "nbformat_minor": 2
}
