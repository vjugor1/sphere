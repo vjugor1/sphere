{
 "cells": [
  {
   "cell_type": "code",
   "execution_count": 1,
   "metadata": {
    "collapsed": true
   },
   "outputs": [],
   "source": [
    "import numpy as np\n",
    "from matplotlib import pyplot as plt\n",
    "%matplotlib inline"
   ]
  },
  {
   "cell_type": "code",
   "execution_count": 2,
   "metadata": {
    "collapsed": true
   },
   "outputs": [],
   "source": [
    "A = np.array([\n",
    "                [1., 2.],\n",
    "                [-2., 1.]\n",
    "             ])\n",
    "b = np.array([1., 2.])"
   ]
  },
  {
   "cell_type": "code",
   "execution_count": 3,
   "metadata": {
    "collapsed": true
   },
   "outputs": [],
   "source": [
    "def Ax_x(A, x):\n",
    "    x_normed = x / np.linalg.norm(x)\n",
    "    return np.dot(A.dot(x_normed), x_normed)\n",
    "def b_x(b, x):\n",
    "    x_normed = x / np.linalg.norm(x)\n",
    "    return  np.dot(b, x_normed)"
   ]
  },
  {
   "cell_type": "code",
   "execution_count": 4,
   "metadata": {
    "collapsed": true
   },
   "outputs": [],
   "source": [
    "def xi_func(A, b, x):\n",
    "    fhat = Ax_x(A, x) + b_x(b, x)\n",
    "    x_normed = x / np.linalg.norm(x)\n",
    "    return A.dot(x_normed)  - (x_normed) * fhat + b"
   ]
  },
  {
   "cell_type": "code",
   "execution_count": 5,
   "metadata": {
    "collapsed": true
   },
   "outputs": [],
   "source": [
    "def deltaF(gamma, x, xi, A, b):\n",
    "    t0 = np.linalg.norm(xi) / np.linalg.norm (x)\n",
    "    A2 = (t0**2) * 0.5 * (Ax_x(A, xi) - Ax_x(A, x))\n",
    "    A1 = t0 * (np.linalg.norm(xi) - b_x(b, xi))\n",
    "    B0 = b_x(b, x)\n",
    "    B1 = t0 * b_x(b, xi)\n",
    "    return (B0 - gamma * B1) / (np.sqrt(1. + (gamma ** 2) * (t0 ** 2))) - B0 + ((gamma ** 2) * A2 - gamma * A1) / (1. + (gamma ** 2) * (t0 ** 2))"
   ]
  },
  {
   "cell_type": "code",
   "execution_count": 47,
   "metadata": {},
   "outputs": [
    {
     "name": "stdout",
     "output_type": "stream",
     "text": [
      "[ 0.29442719 -0.58885438]\n",
      "-3.88578058619e-16\n",
      "-0.264190036167\n"
     ]
    }
   ],
   "source": [
    "x0 =  1. * np.array([1., 0.5])\n",
    "x0 = x0 / np.linalg.norm(x0)\n",
    "xi0 = xi_func(A, b, x0)\n",
    "print xi0\n",
    "print np.dot(x0, xi0)\n",
    "gamma = 0.5\n",
    "print deltaF(gamma, x0, xi0, A, b)"
   ]
  },
  {
   "cell_type": "code",
   "execution_count": 50,
   "metadata": {
    "collapsed": true
   },
   "outputs": [],
   "source": [
    "to = 5.\n",
    "Num = 10000\n",
    "X = np.linspace(-to, to, num=Num)\n",
    "Y = np.array(map(lambda x: deltaF(x, x0, xi0, A, b), X))\n"
   ]
  },
  {
   "cell_type": "code",
   "execution_count": 51,
   "metadata": {
    "scrolled": false
   },
   "outputs": [
    {
     "data": {
      "image/png": "[encoded data removed]",
      "text/plain": [
       "<matplotlib.figure.Figure at 0x7fe9bfb15510>"
      ]
     },
     "metadata": {},
     "output_type": "display_data"
    }
   ],
   "source": [
    "plt.figure()\n",
    "plt.plot(X, Y)\n",
    "plt.xlabel('gammas')\n",
    "plt.ylabel('deltaF')\n",
    "plt.title('deltaF of gamma')\n",
    "plt.show()\n"
   ]
  },
  {
   "cell_type": "code",
   "execution_count": 38,
   "metadata": {},
   "outputs": [
    {
     "name": "stdout",
     "output_type": "stream",
     "text": [
      "[ 1.89442719  3.78885438]\n",
      "-2.22044604925e-16\n",
      "-2.79417889771\n"
     ]
    }
   ],
   "source": [
    "x0 = 0.1 * np.array([-20., 10.])\n",
    "x0 = x0 / np.linalg.norm(x0)\n",
    "xi0 = xi_func(A, b, x0)\n",
    "print xi0\n",
    "print np.dot(x0, xi0)\n",
    "gamma = 0.5\n",
    "print deltaF(gamma, x0, xi0, A, b)"
   ]
  },
  {
   "cell_type": "code",
   "execution_count": 39,
   "metadata": {
    "collapsed": true
   },
   "outputs": [],
   "source": [
    "to = 75.\n",
    "Num = 10000\n",
    "X = np.linspace(-to, to, num=Num)\n",
    "Y = np.array(map(lambda x: deltaF(x, x0, xi0, A, b), X))\n"
   ]
  },
  {
   "cell_type": "code",
   "execution_count": 40,
   "metadata": {
    "scrolled": false
   },
   "outputs": [
    {
     "data": {
      "image/png": "[encoded data removed]",
      "text/plain": [
       "<matplotlib.figure.Figure at 0x7fe9c00c4310>"
      ]
     },
     "metadata": {},
     "output_type": "display_data"
    }
   ],
   "source": [
    "plt.figure()\n",
    "plt.plot(X, Y)\n",
    "plt.xlabel('gammas')\n",
    "plt.ylabel('deltaF')\n",
    "plt.title('deltaF of gamma')\n",
    "plt.show()\n"
   ]
  },
  {
   "cell_type": "code",
   "execution_count": 63,
   "metadata": {},
   "outputs": [
    {
     "name": "stdout",
     "output_type": "stream",
     "text": [
      "[ 0.91421356 -0.91421356]\n",
      "-3.33066907388e-16\n",
      "-0.867786476693\n"
     ]
    }
   ],
   "source": [
    "x0 = np.array([1., 1.])\n",
    "x0 = x0 / np.linalg.norm(x0)\n",
    "xi0 = xi_func(A, b, x0)\n",
    "print xi0\n",
    "print np.dot(x0, xi0)\n",
    "gamma = 0.5\n",
    "print deltaF(gamma, x0, xi0, A, b)"
   ]
  },
  {
   "cell_type": "code",
   "execution_count": 64,
   "metadata": {
    "collapsed": true
   },
   "outputs": [],
   "source": [
    "to = 150.\n",
    "Num = 10000\n",
    "X = np.linspace(-to, to, num=Num)\n",
    "Y = np.array(map(lambda x: deltaF(x, x0, xi0, A, b), X))\n"
   ]
  },
  {
   "cell_type": "code",
   "execution_count": 65,
   "metadata": {
    "scrolled": true
   },
   "outputs": [
    {
     "data": {
      "image/png": "[encoded data removed]",
      "text/plain": [
       "<matplotlib.figure.Figure at 0x7fe9bfb7df50>"
      ]
     },
     "metadata": {},
     "output_type": "display_data"
    }
   ],
   "source": [
    "plt.figure()\n",
    "plt.plot(X, Y)\n",
    "plt.xlabel('gammas')\n",
    "plt.ylabel('deltaF')\n",
    "plt.title('deltaF of gamma')\n",
    "plt.show()\n"
   ]
  },
  {
   "cell_type": "code",
   "execution_count": 53,
   "metadata": {},
   "outputs": [
    {
     "name": "stdout",
     "output_type": "stream",
     "text": [
      "[-1.5973666   0.53245553]\n",
      "5.55111512313e-16\n",
      "-0.261498606833\n"
     ]
    }
   ],
   "source": [
    "x0 = 60. * np.array([-10., -30.])\n",
    "x0 = x0 / np.linalg.norm(x0)\n",
    "xi0 = xi_func(A, b, x0)\n",
    "print xi0\n",
    "print np.dot(x0, xi0)\n",
    "gamma = 0.5\n",
    "print deltaF(gamma, x0, xi0, A, b)"
   ]
  },
  {
   "cell_type": "code",
   "execution_count": 54,
   "metadata": {
    "collapsed": true
   },
   "outputs": [],
   "source": [
    "to = 5.\n",
    "Num = 10000\n",
    "X = np.linspace(-to, to, num=Num)\n",
    "Y = np.array(map(lambda x: deltaF(x, x0, xi0, A, b), X))\n"
   ]
  },
  {
   "cell_type": "code",
   "execution_count": 55,
   "metadata": {
    "scrolled": false
   },
   "outputs": [
    {
     "data": {
      "image/png": "[encoded data removed]",
      "text/plain": [
       "<matplotlib.figure.Figure at 0x7fe9bf9f94d0>"
      ]
     },
     "metadata": {},
     "output_type": "display_data"
    }
   ],
   "source": [
    "plt.figure()\n",
    "plt.plot(X, Y)\n",
    "plt.xlabel('gammas')\n",
    "plt.ylabel('deltaF')\n",
    "plt.title('deltaF of gamma')\n",
    "plt.show()\n"
   ]
  },
  {
   "cell_type": "code",
   "execution_count": 69,
   "metadata": {},
   "outputs": [
    {
     "name": "stdout",
     "output_type": "stream",
     "text": [
      "0.0\n"
     ]
    }
   ],
   "source": [
    "print deltaF(0., x0, xi0, A, b)"
   ]
  },
  {
   "cell_type": "code",
   "execution_count": null,
   "metadata": {
    "collapsed": true
   },
   "outputs": [],
   "source": []
  }
 ],
 "metadata": {
  "kernelspec": {
   "display_name": "Python 2",
   "language": "python",
   "name": "python2"
  },
  "language_info": {
   "codemirror_mode": {
    "name": "ipython",
    "version": 2
   },
   "file_extension": ".py",
   "mimetype": "text/x-python",
   "name": "python",
   "nbconvert_exporter": "python",
   "pygments_lexer": "ipython2",
   "version": "2.7.13"
  }
 },
 "nbformat": 4,
 "nbformat_minor": 2
}
