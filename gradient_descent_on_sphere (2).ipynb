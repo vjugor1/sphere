{
 "cells": [
  {
   "cell_type": "markdown",
   "metadata": {},
   "source": [
    "# Наискорейший спуск на сфере\n",
    "## Постановка задачи\n",
    "$$\\underset{\\| x \\|^2 - 1 = 0}{min} f(x) = x^T A x$$\n"
   ]
  },
  {
   "cell_type": "code",
   "execution_count": 56,
   "metadata": {
    "collapsed": true
   },
   "outputs": [],
   "source": [
    "import numpy as np\n",
    "from matplotlib import pyplot as plt\n",
    "%matplotlib inline"
   ]
  },
  {
   "cell_type": "markdown",
   "metadata": {},
   "source": [
    "## В следующей ячейке в первой строке задается матрица квадратичной формы.\n",
    "### Далее заранее обсчитываются квадрат и куб этой матрицы, задается начальное приближение, потом сразу же проецируется на сферу."
   ]
  },
  {
   "cell_type": "code",
   "execution_count": 3,
   "metadata": {
    "collapsed": false
   },
   "outputs": [],
   "source": [
    "A = np.array([[1., 1., -1.], [1., 100., 0], [-1.,0,1.]])"
   ]
  },
  {
   "cell_type": "code",
   "execution_count": 5,
   "metadata": {
    "collapsed": false
   },
   "outputs": [
    {
     "name": "stdout",
     "output_type": "stream",
     "text": [
      "[[   1.    1.   -1.]\n",
      " [   1.  100.    0.]\n",
      " [  -1.    0.    1.]]\n"
     ]
    }
   ],
   "source": [
    "print A\n"
   ]
  },
  {
   "cell_type": "markdown",
   "metadata": {},
   "source": [
    "## В следующей ячейке задается функция, которая возвращает значение второй производной целевой функции при выборе шага (см pdf)\n",
    "$$F'' = \\frac{\\gamma^3 (-2a_2\\widehat{a_2} )+ \\gamma^2 (-3a_2\\widehat{a_1}) + \\gamma(2\\widehat{a_2}a_0 - 4a_2\\widehat{a_0} + 2a_1\\widehat{a_1}) + \\widehat{a_1}a_0 + 4a_1\\widehat{a_0}}{(\\gamma^2 a_2 - 2\\gamma a_1 + a_0)^3},$$\n",
    "\n",
    "\n",
    "$$a_i = {x^k}^T A^i x^k, i = 0,1,2,3$$\n"
   ]
  },
  {
   "cell_type": "code",
   "execution_count": 50,
   "metadata": {
    "collapsed": true
   },
   "outputs": [],
   "source": [
    "def F2(gamma, a2, a2t, a1t, a0, a0t, a1):\n",
    "    return (gamma**3 * (-2.*a2*a2t) + gamma**2 * (-3. * a2 * a1t) + gamma * (2.*a2t * a0 - 4. * a2 * a0t + 2. * a1 * a1t) + a1t * a0 + 4. * a1 * a0t) / (a2 * gamma**2 - 2. * gamma * a1 + a0)**3"
   ]
  },
  {
   "cell_type": "markdown",
   "metadata": {},
   "source": [
    "# Далее идет сам метод\n",
    "Шаги вычисляются в соответствии с написанным в статье, с подстраховской на тот случай, если коэффициент при $\\gamma^2$ обратится в ноль (помечено \"!\")"
   ]
  },
  {
   "cell_type": "code",
   "execution_count": 85,
   "metadata": {
    "collapsed": true
   },
   "outputs": [],
   "source": [
    "x = x0"
   ]
  },
  {
   "cell_type": "code",
   "execution_count": 143,
   "metadata": {
    "collapsed": false,
    "scrolled": true
   },
   "outputs": [],
   "source": [
    "def method(A, x0):\n",
    "    x = x0 / np.linalg.norm(x0)\n",
    "    A_sq = A.dot(A)\n",
    "    A_th = A.dot(A_sq)\n",
    "    print_rate = 20\n",
    "    notenough = True\n",
    "    prevx = x\n",
    "    i = 0\n",
    "    while(notenough):\n",
    "        a0 = x.T.dot(x)\n",
    "        a1 = x.T.dot(np.dot(A,x))\n",
    "        a2 = x.T.dot(np.dot(A_sq,x))\n",
    "        a3 = x.T.dot(np.dot(A_th,x))\n",
    "        a2t = a2**2 - a3 * a1\n",
    "        a1t = a3 * a0 - a2 * a1\n",
    "        a0t = a1**2 - a0 * a2\n",
    "        \"\"\"\n",
    "        print a0\n",
    "        print a1\n",
    "        print a2\n",
    "        print a3\n",
    "        print '_____'\n",
    "        print a2t\n",
    "        print a1t\n",
    "        print a0t\n",
    "        \"\"\"\n",
    "        if (a2**2 - a3 * a1) != 0:\n",
    "            if i % print_rate == 0:\n",
    "                print 'case quadr'\n",
    "            gamma1 = ((a2 * a1 - a3 * a0) + np.sqrt((a2 * a1 - a3 * a0)**2 - (a2**2 - a3 * a1)*(a1**2 - a0 * a2)))/2. / (a2**2 - a3 * a1)\n",
    "            gamma2 = ((a2 * a1 - a3 * a0) - np.sqrt((a2 * a1 - a3 * a0)**2 - (a2**2 - a3 * a1)*(a1**2 - a0 * a2)))/2. / (a2**2 - a3 * a1)\n",
    "            gamma_list = []\n",
    "            for gamma in [gamma1, gamma2]:\n",
    "                if gamma >=0 and F2(gamma, a2, a2t, a1t, a0, a0t, a1) > 0:\n",
    "                    gamma_list.append(gamma)\n",
    "            #print 'gamma_list len = ', len(gamma_list)\n",
    "            if len(gamma_list) > 0:\n",
    "                final_gamma = gamma_list[np.random.randint(len(gamma_list))]\n",
    "            else:\n",
    "                final_gamma = np.random.rand(1) * 7. / 100.\n",
    "                if i % print_rate == 0:\n",
    "                    print 'there is no suitable gamma. choosing random from 0 to 0.1'\n",
    "            if i % print_rate == 0:\n",
    "                print 'quadr gamma = ', final_gamma \n",
    "            x = (x - final_gamma * np.dot(A, x))/ np.linalg.norm(x - final_gamma * np.dot(A, x))\n",
    "        #!!!!!!!!!!!!!!!!!!!!!!!!!!!!!!!!!!!!!!!!!!!!!!!!!!!!!!!!!!!!!!!!!!!!!\n",
    "        if  (a2**2 - a3 * a1) == 0 and (a3 * a0 - a2 * a1) != 0:\n",
    "            if i % print_rate == 0:\n",
    "                print 'case linear'\n",
    "            gamma = (a1**2 - a0 * a2)/(a3 * a0 - a2 * a1)\n",
    "            if gamma > 0 and F2(gamma, a2, a2t, a1t, a0, a0t, a1) > 0:\n",
    "                    x = (x - gamma * np.dot(A, x))/ np.linalg.norm(x - gamma * np.dot(A, x))\n",
    "            else:\n",
    "                if i % print_rate == 0:\n",
    "                    print 'you got no suitable gamma'\n",
    "        if (a3 * a0 - a2 * a1) == 0 and (a2**2 - a3 * a1) == 0:\n",
    "            if i % print_rate == 0:\n",
    "                print 'you got rekt'\n",
    "                print 'iternum = ', i\n",
    "                print '(a3 * a0 - a2 * a1)', (a3 * a0 - a2 * a1)\n",
    "                print '(a2**2 - a3 * a1)', (a2**2 - a3 * a1)\n",
    "        #!!!!!!!!!!!!!!!!!!!!!!!!!!!!!!!!!!!!!!!!!!!!!!!!!!!!!!!!!!!!!!!!!!!!    \n",
    "        if i % print_rate == 0:\n",
    "            print 'iter_num = ', i\n",
    "            print x\n",
    "        if (np.linalg.norm(x - prevx) < 1e-6):\n",
    "            notenough = False\n",
    "        else:\n",
    "            prevx = x\n",
    "        xs.append(x)\n",
    "        fs.append(x.dot(np.dot(A,x)))\n",
    "        i += 1\n",
    "    return x"
   ]
  },
  {
   "cell_type": "markdown",
   "metadata": {},
   "source": [
    "# Начальная точка (1, 0, 1)"
   ]
  },
  {
   "cell_type": "code",
   "execution_count": 174,
   "metadata": {
    "collapsed": false,
    "scrolled": false
   },
   "outputs": [
    {
     "name": "stdout",
     "output_type": "stream",
     "text": [
      "case quadr\n",
      "quadr gamma =  0.00249996875078\n",
      "iter_num =  0\n",
      "[ 0.70710568 -0.00176774  0.70710568]\n",
      "case quadr\n",
      "quadr gamma =  0.0361240783536\n",
      "iter_num =  20\n",
      "[ 0.70750225 -0.00704957  0.70667593]\n",
      "case quadr\n",
      "quadr gamma =  0.00781413789622\n",
      "iter_num =  40\n",
      "[ 0.70846229 -0.00708255  0.70571313]\n",
      "case quadr\n",
      "quadr gamma =  0.00633383907512\n",
      "iter_num =  60\n",
      "[ 0.7087422  -0.00708611  0.70543198]\n"
     ]
    }
   ],
   "source": [
    "x0 = np.array([1., 0., 1.])\n",
    "xs = []\n",
    "fs = []\n",
    "x = method(A, x0)"
   ]
  },
  {
   "cell_type": "code",
   "execution_count": 175,
   "metadata": {
    "collapsed": false
   },
   "outputs": [
    {
     "name": "stdout",
     "output_type": "stream",
     "text": [
      "f* =  -0.00501224273369\n",
      "x* =  [ 0.70881806 -0.00708741  0.70535575]\n",
      "norm check:  1.0\n"
     ]
    }
   ],
   "source": [
    "print 'f* = ', x.dot(np.dot(A,x))\n",
    "print 'x* = ', x\n",
    "print 'norm check: ', np.linalg.norm(x)"
   ]
  },
  {
   "cell_type": "code",
   "execution_count": 176,
   "metadata": {
    "collapsed": false,
    "scrolled": true
   },
   "outputs": [
    {
     "data": {
      "image/png": "[encoded data removed]",
      "text/plain": [
       "<matplotlib.figure.Figure at 0x7c154a8>"
      ]
     },
     "metadata": {},
     "output_type": "display_data"
    }
   ],
   "source": [
    "fstar = fs[np.argmin(fs)]\n",
    "fminfstar = fs - np.ones(len(fs)) * fstar\n",
    "logf = np.log(fminfstar[:len(fs) - 1])\n",
    "\n",
    "plt.figure()\n",
    "plt.scatter(range(len(logf)), logf)\n",
    "plt.xlabel('iteration number')\n",
    "plt.ylabel('log(f)')\n",
    "plt.title('semilog')\n",
    "plt.show()"
   ]
  },
  {
   "cell_type": "markdown",
   "metadata": {},
   "source": [
    "# Начальная точка (0, 1, 0)"
   ]
  },
  {
   "cell_type": "code",
   "execution_count": 183,
   "metadata": {
    "collapsed": false,
    "scrolled": false
   },
   "outputs": [
    {
     "name": "stdout",
     "output_type": "stream",
     "text": [
      "case quadr\n",
      "there is no suitable gamma. choosing random from 0 to 0.1\n",
      "quadr gamma =  [ 0.0424377]\n",
      "iter_num =  0\n",
      "[-0.01308171 -0.99991443  0.        ]\n"
     ]
    }
   ],
   "source": [
    "x0 = np.array([0., 1., 0.])\n",
    "xs = []\n",
    "fs = []\n",
    "x = method(A, x0)"
   ]
  },
  {
   "cell_type": "code",
   "execution_count": 184,
   "metadata": {
    "collapsed": false
   },
   "outputs": [
    {
     "name": "stdout",
     "output_type": "stream",
     "text": [
      "f* =  100.01010101\n",
      "x* =  [  1.01002996e-02   9.99948985e-01  -1.02095270e-04]\n",
      "norm check:  1.0\n"
     ]
    }
   ],
   "source": [
    "print 'f* = ', x.dot(np.dot(A,x))\n",
    "print 'x* = ', x\n",
    "print 'norm check: ', np.linalg.norm(x)"
   ]
  },
  {
   "cell_type": "code",
   "execution_count": 185,
   "metadata": {
    "collapsed": false,
    "scrolled": false
   },
   "outputs": [
    {
     "data": {
      "image/png": "[encoded data removed]",
      "text/plain": [
       "<matplotlib.figure.Figure at 0x80bffd0>"
      ]
     },
     "metadata": {},
     "output_type": "display_data"
    }
   ],
   "source": [
    "fstar = fs[np.argmin(fs)]\n",
    "fminfstar = fs - np.ones(len(fs)) * fstar\n",
    "logf = np.log(np.hstack((fminfstar[:np.argmin(fs)], fminfstar[np.argmin(fs) + 1:])))\n",
    "\n",
    "plt.figure()\n",
    "plt.scatter(range(len(logf)), logf)\n",
    "plt.xlabel('iteration number')\n",
    "plt.ylabel('log(f)')\n",
    "plt.title('semilog')\n",
    "plt.show()"
   ]
  },
  {
   "cell_type": "markdown",
   "metadata": {},
   "source": [
    "# Начальная точка (-1, 1, 3)"
   ]
  },
  {
   "cell_type": "code",
   "execution_count": 186,
   "metadata": {
    "collapsed": false,
    "scrolled": false
   },
   "outputs": [
    {
     "name": "stdout",
     "output_type": "stream",
     "text": [
      "case quadr\n",
      "quadr gamma =  0.00247177816264\n",
      "iter_num =  0\n",
      "[-0.30636981  0.23312799  0.92292409]\n",
      "case quadr\n",
      "quadr gamma =  0.0106599451871\n",
      "iter_num =  20\n",
      "[-0.12941694  0.0017534   0.99158872]\n",
      "case quadr\n",
      "quadr gamma =  0.00628638040959\n",
      "iter_num =  40\n",
      "[ 0.38972898 -0.00175864  0.92092792]\n",
      "case quadr\n",
      "quadr gamma =  0.117377369342\n",
      "iter_num =  60\n",
      "[ 0.64392192 -0.00735207  0.76505588]\n",
      "case quadr\n",
      "quadr gamma =  0.0116346724206\n",
      "iter_num =  80\n",
      "[ 0.69385347 -0.00690004  0.72008316]\n",
      "case quadr\n",
      "quadr gamma =  0.0625016524846\n",
      "iter_num =  100\n",
      "[ 0.70447332 -0.00715091  0.70969445]\n",
      "case quadr\n",
      "quadr gamma =  0.119753500117\n",
      "iter_num =  120\n",
      "[ 0.70762981 -0.0070914   0.70654778]\n",
      "case quadr\n",
      "quadr gamma =  0.0091834175719\n",
      "iter_num =  140\n",
      "[ 0.70852537 -0.00708438  0.70564978]\n",
      "case quadr\n",
      "quadr gamma =  0.0157873468383\n",
      "iter_num =  160\n",
      "[ 0.7087688  -0.0070879   0.70540523]\n"
     ]
    }
   ],
   "source": [
    "x0 = np.array([-1., 1., 3.])\n",
    "xs = []\n",
    "fs = []\n",
    "x = method(A, x0)"
   ]
  },
  {
   "cell_type": "code",
   "execution_count": 187,
   "metadata": {
    "collapsed": false
   },
   "outputs": [
    {
     "name": "stdout",
     "output_type": "stream",
     "text": [
      "f* =  -0.00501224204457\n",
      "x* =  [ 0.70881579 -0.00708734  0.70535803]\n",
      "norm check:  1.0\n"
     ]
    }
   ],
   "source": [
    "print 'f* = ', x.dot(np.dot(A,x))\n",
    "print 'x* = ', x\n",
    "print 'norm check: ', np.linalg.norm(x)"
   ]
  },
  {
   "cell_type": "code",
   "execution_count": 188,
   "metadata": {
    "collapsed": false,
    "scrolled": true
   },
   "outputs": [
    {
     "data": {
      "image/png": "[encoded data removed]",
      "text/plain": [
       "<matplotlib.figure.Figure at 0x8944400>"
      ]
     },
     "metadata": {},
     "output_type": "display_data"
    }
   ],
   "source": [
    "fstar = fs[np.argmin(fs)]\n",
    "fminfstar = fs - np.ones(len(fs)) * fstar\n",
    "logf = np.log(fminfstar[:len(fs) - 1])\n",
    "\n",
    "plt.figure()\n",
    "plt.scatter(range(len(logf)), logf)\n",
    "plt.xlabel('iteration number')\n",
    "plt.ylabel('log(f)')\n",
    "plt.title('semilog')\n",
    "plt.show()"
   ]
  },
  {
   "cell_type": "markdown",
   "metadata": {},
   "source": [
    "# Начальная точка (-1, -30, 3)"
   ]
  },
  {
   "cell_type": "code",
   "execution_count": 189,
   "metadata": {
    "collapsed": false,
    "scrolled": false
   },
   "outputs": [
    {
     "name": "stdout",
     "output_type": "stream",
     "text": [
      "case quadr\n",
      "there is no suitable gamma. choosing random from 0 to 0.1\n",
      "quadr gamma =  [ 0.05641812]\n",
      "iter_num =  0\n",
      "[ 0.00658969  0.99978005  0.01991028]\n"
     ]
    }
   ],
   "source": [
    "x0 = np.array([-1., -30., 3.])\n",
    "xs = []\n",
    "fs = []\n",
    "x = method(A, x0)"
   ]
  },
  {
   "cell_type": "code",
   "execution_count": 190,
   "metadata": {
    "collapsed": false
   },
   "outputs": [
    {
     "name": "stdout",
     "output_type": "stream",
     "text": [
      "f* =  100.01010101\n",
      "x* =  [ -1.01004895e-02  -9.99948984e-01   1.02026265e-04]\n",
      "norm check:  1.0\n"
     ]
    }
   ],
   "source": [
    "print 'f* = ', x.dot(np.dot(A,x))\n",
    "print 'x* = ', x\n",
    "print 'norm check: ', np.linalg.norm(x)"
   ]
  },
  {
   "cell_type": "code",
   "execution_count": 191,
   "metadata": {
    "collapsed": false,
    "scrolled": false
   },
   "outputs": [
    {
     "name": "stderr",
     "output_type": "stream",
     "text": [
      "C:\\Anaconda2\\lib\\site-packages\\ipykernel\\__main__.py:3: RuntimeWarning: divide by zero encountered in log\n",
      "  app.launch_new_instance()\n"
     ]
    },
    {
     "data": {
      "image/png": "[encoded data removed]",
      "text/plain": [
       "<matplotlib.figure.Figure at 0x7c99860>"
      ]
     },
     "metadata": {},
     "output_type": "display_data"
    }
   ],
   "source": [
    "fstar = fs[np.argmin(fs)]\n",
    "fminfstar = fs - np.ones(len(fs)) * fstar\n",
    "logf = np.log(fminfstar[:len(fs) - 1])\n",
    "\n",
    "plt.figure()\n",
    "plt.scatter(range(len(logf)), logf)\n",
    "plt.xlabel('iteration number')\n",
    "plt.ylabel('log(f)')\n",
    "plt.title('semilog')\n",
    "plt.show()"
   ]
  },
  {
   "cell_type": "markdown",
   "metadata": {},
   "source": [
    "# Начальная точка (9, -30, 3)"
   ]
  },
  {
   "cell_type": "code",
   "execution_count": 204,
   "metadata": {
    "collapsed": false,
    "scrolled": false
   },
   "outputs": [
    {
     "name": "stdout",
     "output_type": "stream",
     "text": [
      "case quadr\n",
      "there is no suitable gamma. choosing random from 0 to 0.1\n",
      "quadr gamma =  [ 0.01338279]\n",
      "iter_num =  0\n",
      "[ 0.66422207  0.71458293  0.21950006]\n",
      "case quadr\n",
      "quadr gamma =  0.00329640233534\n",
      "iter_num =  20\n",
      "[ 0.88953583 -0.01575766  0.45659358]\n",
      "case quadr\n",
      "quadr gamma =  0.0404698571182\n",
      "iter_num =  40\n",
      "[ 0.7891462  -0.00622425  0.61417386]\n",
      "case quadr\n",
      "quadr gamma =  0.0136759243282\n",
      "iter_num =  60\n",
      "[ 0.73045885 -0.00741368  0.68291647]\n",
      "case quadr\n",
      "quadr gamma =  0.0111344519649\n",
      "iter_num =  80\n",
      "[ 0.71567529 -0.00716939  0.69839636]\n",
      "case quadr\n",
      "quadr gamma =  0.00723421875016\n",
      "iter_num =  100\n",
      "[ 0.710606   -0.0071159   0.70355417]\n",
      "case quadr\n",
      "quadr gamma =  0.0902830017769\n",
      "iter_num =  120\n",
      "[ 0.70936143 -0.00708077  0.70480935]\n",
      "case quadr\n",
      "quadr gamma =  0.0265184960969\n",
      "iter_num =  140\n",
      "[ 0.70897078 -0.00709103  0.70520221]\n"
     ]
    }
   ],
   "source": [
    "x0 = np.array([9., -30., 3.])\n",
    "xs = []\n",
    "fs = []\n",
    "x = method(A, x0)"
   ]
  },
  {
   "cell_type": "code",
   "execution_count": 205,
   "metadata": {
    "collapsed": false
   },
   "outputs": [
    {
     "name": "stdout",
     "output_type": "stream",
     "text": [
      "f* =  -0.00501224323638\n",
      "x* =  [ 0.70888903 -0.00708895  0.7052844 ]\n",
      "norm check:  1.0\n"
     ]
    }
   ],
   "source": [
    "print 'f* = ', x.dot(np.dot(A,x))\n",
    "print 'x* = ', x\n",
    "print 'norm check: ', np.linalg.norm(x)"
   ]
  },
  {
   "cell_type": "code",
   "execution_count": 206,
   "metadata": {
    "collapsed": false,
    "scrolled": false
   },
   "outputs": [
    {
     "data": {
      "image/png": "[encoded data removed]",
      "text/plain": [
       "<matplotlib.figure.Figure at 0x8ce5240>"
      ]
     },
     "metadata": {},
     "output_type": "display_data"
    }
   ],
   "source": [
    "fstar = fs[np.argmin(fs)]\n",
    "fminfstar = fs - np.ones(len(fs)) * fstar\n",
    "logf = np.log(fminfstar[:len(fs) - 1])\n",
    "\n",
    "plt.figure()\n",
    "plt.scatter(range(len(logf)), logf)\n",
    "plt.xlabel('iteration number')\n",
    "plt.ylabel('log(f)')\n",
    "plt.title('semilog')\n",
    "plt.show()"
   ]
  },
  {
   "cell_type": "code",
   "execution_count": null,
   "metadata": {
    "collapsed": true
   },
   "outputs": [],
   "source": []
  }
 ],
 "metadata": {
  "kernelspec": {
   "display_name": "Python [Root]",
   "language": "python",
   "name": "Python [Root]"
  },
  "language_info": {
   "codemirror_mode": {
    "name": "ipython",
    "version": 2
   },
   "file_extension": ".py",
   "mimetype": "text/x-python",
   "name": "python",
   "nbconvert_exporter": "python",
   "pygments_lexer": "ipython2",
   "version": "2.7.12"
  }
 },
 "nbformat": 4,
 "nbformat_minor": 1
}
