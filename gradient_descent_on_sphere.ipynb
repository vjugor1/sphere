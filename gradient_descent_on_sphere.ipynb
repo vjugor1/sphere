{
 "cells": [
  {
   "cell_type": "markdown",
   "metadata": {},
   "source": [
    "# Наискорейший спуск на сфере\n",
    "## Постановка задачи\n",
    "$$\\underset{\\| x \\|^2 - 1 = 0}{min} f(x) = x^T A x$$\n"
   ]
  },
  {
   "cell_type": "code",
   "execution_count": 13,
   "metadata": {
    "collapsed": true
   },
   "outputs": [],
   "source": [
    "import numpy as np\n",
    "from matplotlib import pyplot as plt\n",
    "%matplotlib inline"
   ]
  },
  {
   "cell_type": "markdown",
   "metadata": {},
   "source": [
    "## В следующей ячейке в первой строке задается матрица квадратичной формы.\n",
    "### Далее заранее обсчитываются квадрат и куб этой матрицы, задается начальное приближение, потом сразу же проецируется на сферу."
   ]
  },
  {
   "cell_type": "code",
   "execution_count": 20,
   "metadata": {
    "collapsed": true
   },
   "outputs": [],
   "source": [
    "A = np.array([[1., 1., 1.], [1., -100., 1.], [1.,1.,8.]])"
   ]
  },
  {
   "cell_type": "code",
   "execution_count": 21,
   "metadata": {},
   "outputs": [
    {
     "name": "stdout",
     "output_type": "stream",
     "text": [
      "[[   1.    1.    1.]\n",
      " [   1. -100.    1.]\n",
      " [   1.    1.    8.]]\n"
     ]
    }
   ],
   "source": [
    "print A\n"
   ]
  },
  {
   "cell_type": "markdown",
   "metadata": {},
   "source": [
    "## В следующей ячейке задается функция, которая возвращает значение второй производной целевой функции при выборе шага (см pdf)\n",
    "$$F'' = \\frac{\\gamma^3 (-2a_2\\widehat{a_2} )+ \\gamma^2 (-3a_2\\widehat{a_1}) + \\gamma(2\\widehat{a_2}a_0 - 4a_2\\widehat{a_0} + 2a_1\\widehat{a_1}) + \\widehat{a_1}a_0 + 4a_1\\widehat{a_0}}{(\\gamma^2 a_2 - 2\\gamma a_1 + a_0)^3},$$\n",
    "\n",
    "\n",
    "$$a_i = {x^k}^T A^i x^k, i = 0,1,2,3$$\n"
   ]
  },
  {
   "cell_type": "code",
   "execution_count": 22,
   "metadata": {
    "collapsed": true
   },
   "outputs": [],
   "source": [
    "def F2(gamma, a2, a2t, a1t, a0, a0t, a1):\n",
    "    return (gamma**3 * (-2.*a2*a2t) + gamma**2 * (-3. * a2 * a1t) + gamma * (2.*a2t * a0 - 4. * a2 * a0t + 2. * a1 * a1t) + a1t * a0 + 4. * a1 * a0t) / ((a2 * gamma**2 - 2. * gamma * a1 + a0)**3)"
   ]
  },
  {
   "cell_type": "markdown",
   "metadata": {},
   "source": [
    "# Далее идет сам метод\n",
    "Шаги вычисляются в соответствии с написанным в статье, с подстраховской на тот случай, если коэффициент при $\\gamma^2$ обратится в ноль (помечено \"!\")"
   ]
  },
  {
   "cell_type": "code",
   "execution_count": 23,
   "metadata": {
    "collapsed": true,
    "scrolled": true
   },
   "outputs": [],
   "source": [
    "def method(A, x0, print_rate):\n",
    "    x = x0 / np.linalg.norm(x0)\n",
    "    A_sq = A.dot(A)\n",
    "    A_th = A.dot(A_sq)\n",
    "    notenough = True\n",
    "    prevx = x\n",
    "    i = 0\n",
    "    while(notenough):\n",
    "        a0 = x.T.dot(x)\n",
    "        a1 = x.T.dot(np.dot(A,x))\n",
    "        a2 = x.T.dot(np.dot(A_sq,x))\n",
    "        a3 = x.T.dot(np.dot(A_th,x))\n",
    "        a2t = a2**2 - a3 * a1\n",
    "        a1t = a3 * a0 - a2 * a1\n",
    "        a0t = a1**2 - a0 * a2\n",
    "        \"\"\"\n",
    "        print a0\n",
    "        print a1\n",
    "        print a2\n",
    "        print a3\n",
    "        print '_____'\n",
    "        print a2t\n",
    "        print a1t\n",
    "        print a0t\n",
    "        \"\"\"\n",
    "        if (a2**2 - a3 * a1) != 0:\n",
    "            if i % print_rate == 0:\n",
    "                print 'case quadr'\n",
    "            gamma1 = ((a2 * a1 - a3 * a0) + np.sqrt((a2 * a1 - a3 * a0)**2 - 4. * (a2**2 - a3 * a1)*(a1**2 - a0 * a2)))/2. / (a2**2 - a3 * a1)\n",
    "            gamma2 = ((a2 * a1 - a3 * a0) - np.sqrt((a2 * a1 - a3 * a0)**2 - 4. * (a2**2 - a3 * a1)*(a1**2 - a0 * a2)))/2. / (a2**2 - a3 * a1)\n",
    "            gamma_list = []\n",
    "            print 'gamma1 = ', gamma1\n",
    "            print 'gamma2 = ', gamma2\n",
    "            print 'F2(gamma1) = ', F2(gamma1, a2, a2t, a1t, a0, a0t, a1)\n",
    "            print 'F2(gamma2) = ', F2(gamma2, a2, a2t, a1t, a0, a0t, a1)\n",
    "            for gamma in [gamma1, gamma2]:\n",
    "                if gamma >=0 and F2(gamma, a2, a2t, a1t, a0, a0t, a1) > 0:\n",
    "                    gamma_list.append(gamma)\n",
    "            #print 'gamma_list len = ', len(gamma_list)\n",
    "            if len(gamma_list) > 0:\n",
    "                final_gamma = gamma_list[np.random.randint(len(gamma_list))]\n",
    "            else:\n",
    "                print 'there is no suitable gamma. i quit'\n",
    "                return x\n",
    "                \"\"\"\n",
    "                final_gamma = np.random.rand(1) * 7. / 100.\n",
    "                if i % print_rate == 0:\n",
    "                    print 'there is no suitable gamma. choosing random from 0 to 0.1'\n",
    "                \"\"\"\n",
    "            if i % print_rate == 0:\n",
    "                print 'quadr gamma = ', final_gamma \n",
    "            x = (x - final_gamma * np.dot(A, x))/ np.linalg.norm(x - final_gamma * np.dot(A, x))\n",
    "        #!!!!!!!!!!!!!!!!!!!!!!!!!!!!!!!!!!!!!!!!!!!!!!!!!!!!!!!!!!!!!!!!!!!!!\n",
    "        if  (a2**2 - a3 * a1) == 0 and (a3 * a0 - a2 * a1) != 0:\n",
    "            if i % print_rate == 0:\n",
    "                print 'case linear'\n",
    "            gamma = (a1**2 - a0 * a2)/(a3 * a0 - a2 * a1)\n",
    "            if gamma > 0 and F2(gamma, a2, a2t, a1t, a0, a0t, a1) > 0:\n",
    "                    x = (x - gamma * np.dot(A, x))/ np.linalg.norm(x - gamma * np.dot(A, x))\n",
    "            else:\n",
    "                if i % print_rate == 0:\n",
    "                    print 'you got no suitable gamma'\n",
    "        if (a3 * a0 - a2 * a1) == 0 and (a2**2 - a3 * a1) == 0:\n",
    "            if i % print_rate == 0:\n",
    "                print 'you got rekt'\n",
    "                print 'iternum = ', i\n",
    "                print '(a3 * a0 - a2 * a1)', (a3 * a0 - a2 * a1)\n",
    "                print '(a2**2 - a3 * a1)', (a2**2 - a3 * a1)\n",
    "                return x\n",
    "        #!!!!!!!!!!!!!!!!!!!!!!!!!!!!!!!!!!!!!!!!!!!!!!!!!!!!!!!!!!!!!!!!!!!!    \n",
    "        if i % print_rate == 0:\n",
    "            print 'iter_num = ', i\n",
    "            print 'CURRENT X = ', x\n",
    "            print 'NORM = ', np.linalg.norm(x)\n",
    "        if (np.linalg.norm(x - prevx) < 1e-6):\n",
    "            notenough = False\n",
    "        else:\n",
    "            prevx = x\n",
    "        xs.append(x)\n",
    "        fs.append(x.dot(np.dot(A,x)))\n",
    "        i += 1\n",
    "    return x"
   ]
  },
  {
   "cell_type": "markdown",
   "metadata": {},
   "source": [
    "# Начальная точка (0, 1, 0)"
   ]
  },
  {
   "cell_type": "code",
   "execution_count": 24,
   "metadata": {
    "scrolled": true
   },
   "outputs": [
    {
     "name": "stdout",
     "output_type": "stream",
     "text": [
      "case quadr\n",
      "gamma1 =  0.181193757139\n",
      "gamma2 =  -0.00999810496511\n",
      "F2(gamma1) =  0.00157902002955\n",
      "F2(gamma2) =  -5279000588.99\n",
      "quadr gamma =  0.181193757139\n",
      "iter_num =  0\n",
      "CURRENT X =  [-0.00947612  0.9999102  -0.00947612]\n",
      "NORM =  1.0\n",
      "gamma1 =  0.285712542332\n",
      "gamma2 =  -0.00999810284777\n",
      "F2(gamma1) =  2.97611646272e-07\n",
      "F2(gamma2) =  -4.70893120828e+12\n",
      "gamma1 =  0.181191888454\n",
      "gamma2 =  -0.00999810336113\n",
      "F2(gamma1) =  1.9845585847e-09\n",
      "F2(gamma2) =  -4.20035141376e+15\n",
      "case quadr\n",
      "gamma1 =  0.289540832239\n",
      "gamma2 =  -0.00999981661385\n",
      "F2(gamma1) =  3.5457909328e-13\n",
      "F2(gamma2) =  -330904225.948\n",
      "quadr gamma =  0.289540832239\n",
      "iter_num =  3\n",
      "CURRENT X =  [-0.00980749  0.99990989 -0.00916599]\n",
      "NORM =  1.0\n"
     ]
    }
   ],
   "source": [
    "x0 = np.array([0., 1., 0.])\n",
    "xs = []\n",
    "fs = []\n",
    "x = method(A, x0,3)"
   ]
  },
  {
   "cell_type": "code",
   "execution_count": 25,
   "metadata": {},
   "outputs": [
    {
     "name": "stdout",
     "output_type": "stream",
     "text": [
      "f* =  -100.018975217\n",
      "x* =  [-0.00980749  0.99990989 -0.00916599]\n",
      "norm check:  1.0\n"
     ]
    }
   ],
   "source": [
    "print 'f* = ', x.dot(np.dot(A,x))\n",
    "print 'x* = ', x\n",
    "print 'norm check: ', np.linalg.norm(x)"
   ]
  },
  {
   "cell_type": "code",
   "execution_count": 26,
   "metadata": {
    "scrolled": false
   },
   "outputs": [
    {
     "data": {
      "image/png": "[encoded data removed]",
      "text/plain": [
       "<matplotlib.figure.Figure at 0x7f90854af5d0>"
      ]
     },
     "metadata": {},
     "output_type": "display_data"
    }
   ],
   "source": [
    "fstar = fs[np.argmin(fs)]\n",
    "fminfstar = fs - np.ones(len(fs)) * fstar\n",
    "logf = np.log(np.hstack((fminfstar[:np.argmin(fs)], fminfstar[np.argmin(fs) + 1:])))\n",
    "\n",
    "plt.figure()\n",
    "plt.scatter(range(len(logf)), logf)\n",
    "plt.xlabel('iteration number')\n",
    "plt.ylabel('log(f)')\n",
    "plt.title('semilog')\n",
    "plt.show()"
   ]
  },
  {
   "cell_type": "markdown",
   "metadata": {},
   "source": [
    "Начальная точка\n",
    "$$x_0 = \\frac{(-1, 1, 3)^T}{\\sqrt{11}}$$"
   ]
  },
  {
   "cell_type": "code",
   "execution_count": 27,
   "metadata": {
    "scrolled": true
   },
   "outputs": [
    {
     "name": "stdout",
     "output_type": "stream",
     "text": [
      "case quadr\n",
      "gamma1 =  0.145361384481\n",
      "gamma2 =  -0.0100758954114\n",
      "F2(gamma1) =  214.269946299\n",
      "F2(gamma2) =  -90045.6963319\n",
      "quadr gamma =  0.145361384481\n",
      "iter_num =  0\n",
      "CURRENT X =  [-0.09373489  0.99508613 -0.03189627]\n",
      "NORM =  1.0\n",
      "case quadr\n",
      "gamma1 =  0.467502896964\n",
      "gamma2 =  -0.00999815730842\n",
      "F2(gamma1) =  0.00155971754532\n",
      "F2(gamma2) =  -128705417.861\n",
      "quadr gamma =  0.467502896964\n",
      "iter_num =  1\n",
      "CURRENT X =  [-0.01051338  0.99992009 -0.00701977]\n",
      "NORM =  1.0\n",
      "case quadr\n",
      "gamma1 =  0.145349879689\n",
      "gamma2 =  -0.00999810287642\n",
      "F2(gamma1) =  0.000106761189823\n",
      "F2(gamma2) =  -183785313652.0\n",
      "quadr gamma =  0.145349879689\n",
      "iter_num =  2\n",
      "CURRENT X =  [-0.00986653  0.99990917 -0.00918201]\n",
      "NORM =  1.0\n",
      "case quadr\n",
      "gamma1 =  0.467505391855\n",
      "gamma2 =  -0.00999810275267\n",
      "F2(gamma1) =  7.64916820983e-10\n",
      "F2(gamma2) =  -2.62436498533e+14\n",
      "quadr gamma =  0.467505391855\n",
      "iter_num =  3\n",
      "CURRENT X =  [-0.009808   0.9999099 -0.0091645]\n",
      "NORM =  1.0\n",
      "case quadr\n",
      "gamma1 =  0.145383082771\n",
      "gamma2 =  -0.00999802965983\n",
      "F2(gamma1) =  5.23130960477e-11\n",
      "F2(gamma2) =  -9.58514653424e+14\n",
      "quadr gamma =  0.145383082771\n",
      "iter_num =  4\n",
      "CURRENT X =  [-0.00980754  0.99990989 -0.00916602]\n",
      "NORM =  1.0\n",
      "case linear\n",
      "iter_num =  5\n",
      "CURRENT X =  [-0.00980752  0.99990989 -0.00916601]\n",
      "NORM =  1.0\n"
     ]
    }
   ],
   "source": [
    "x0 = np.array([-1., 1., 3.])\n",
    "xs = []\n",
    "fs = []\n",
    "x = method(A, x0, 1)"
   ]
  },
  {
   "cell_type": "code",
   "execution_count": 28,
   "metadata": {},
   "outputs": [
    {
     "name": "stdout",
     "output_type": "stream",
     "text": [
      "f* =  -100.018975217\n",
      "x* =  [-0.00980752  0.99990989 -0.00916601]\n",
      "norm check:  1.0\n"
     ]
    }
   ],
   "source": [
    "print 'f* = ', x.dot(np.dot(A,x))\n",
    "print 'x* = ', x\n",
    "print 'norm check: ', np.linalg.norm(x)"
   ]
  },
  {
   "cell_type": "code",
   "execution_count": 29,
   "metadata": {
    "scrolled": true
   },
   "outputs": [
    {
     "data": {
      "image/png": "[encoded data removed]",
      "text/plain": [
       "<matplotlib.figure.Figure at 0x7f90853836d0>"
      ]
     },
     "metadata": {},
     "output_type": "display_data"
    }
   ],
   "source": [
    "fstar = fs[np.argmin(fs)]\n",
    "fminfstar = fs - np.ones(len(fs)) * fstar\n",
    "logf = np.log(fminfstar[:len(fs) - 1])\n",
    "\n",
    "plt.figure()\n",
    "plt.scatter(range(len(logf)), logf)\n",
    "plt.xlabel('iteration number')\n",
    "plt.ylabel('log(f)')\n",
    "plt.title('semilog')\n",
    "plt.show()"
   ]
  },
  {
   "cell_type": "markdown",
   "metadata": {},
   "source": [
    "Начальная точка\n",
    "$$x_0 = \\frac{(-1, 5, 3)^T}{\\sqrt{35}}$$"
   ]
  },
  {
   "cell_type": "code",
   "execution_count": 30,
   "metadata": {
    "scrolled": true
   },
   "outputs": [
    {
     "name": "stdout",
     "output_type": "stream",
     "text": [
      "case quadr\n",
      "gamma1 =  0.148083618821\n",
      "gamma2 =  -0.010001239472\n",
      "F2(gamma1) =  7.58160952141\n",
      "F2(gamma2) =  -2406225.62723\n",
      "quadr gamma =  0.148083618821\n",
      "iter_num =  0\n",
      "CURRENT X =  [-0.0070046  -0.99996658  0.00421593]\n",
      "NORM =  1.0\n",
      "gamma1 =  0.441304287551\n",
      "gamma2 =  -0.00999810520303\n",
      "F2(gamma1) =  7.90172068073e-05\n",
      "F2(gamma2) =  -3191768290.96\n",
      "case quadr\n",
      "gamma1 =  0.148083100693\n",
      "gamma2 =  -0.00999810283626\n",
      "F2(gamma1) =  4.31205427862e-06\n",
      "F2(gamma2) =  -4.23359312322e+12\n",
      "quadr gamma =  0.148083100693\n",
      "iter_num =  2\n",
      "CURRENT X =  [ 0.00979483 -0.99991005  0.00916227]\n",
      "NORM =  1.0\n",
      "gamma1 =  0.441295943653\n",
      "gamma2 =  -0.00999809821864\n",
      "F2(gamma1) =  4.49157765292e-11\n",
      "F2(gamma2) =  -5.60234830875e+15\n",
      "case quadr\n",
      "gamma1 =  0.142007497347\n",
      "gamma2 =  -0.00999922528855\n",
      "F2(gamma1) =  2.88286207472e-12\n",
      "F2(gamma2) =  -969580616.724\n",
      "quadr gamma =  0.142007497347\n",
      "iter_num =  4\n",
      "CURRENT X =  [ 0.00980749 -0.99990989  0.009166  ]\n",
      "NORM =  1.0\n"
     ]
    }
   ],
   "source": [
    "x0 = np.array([-1., -5., 3.])\n",
    "x0 = x0 / np.linalg.norm(x0)\n",
    "xs = []\n",
    "fs = []\n",
    "x = method(A, x0, 2)"
   ]
  },
  {
   "cell_type": "code",
   "execution_count": 31,
   "metadata": {},
   "outputs": [
    {
     "name": "stdout",
     "output_type": "stream",
     "text": [
      "f* =  -100.018975217\n",
      "x* =  [ 0.00980749 -0.99990989  0.009166  ]\n",
      "norm check:  1.0\n"
     ]
    }
   ],
   "source": [
    "print 'f* = ', x.dot(np.dot(A,x))\n",
    "print 'x* = ', x\n",
    "print 'norm check: ', np.linalg.norm(x)"
   ]
  },
  {
   "cell_type": "code",
   "execution_count": 32,
   "metadata": {
    "scrolled": false
   },
   "outputs": [
    {
     "data": {
      "image/png": "[encoded data removed]",
      "text/plain": [
       "<matplotlib.figure.Figure at 0x7f9085514a10>"
      ]
     },
     "metadata": {},
     "output_type": "display_data"
    }
   ],
   "source": [
    "fstar = fs[np.argmin(fs)]\n",
    "fminfstar = fs - np.ones(len(fs)) * fstar\n",
    "logf = np.log(fminfstar[:len(fs) - 1])\n",
    "\n",
    "plt.figure()\n",
    "plt.scatter(range(len(logf)), logf)\n",
    "plt.xlabel('iteration number')\n",
    "plt.ylabel('log(f)')\n",
    "plt.title('semilog')\n",
    "plt.show()"
   ]
  }
 ],
 "metadata": {
  "kernelspec": {
   "display_name": "Python 2",
   "language": "python",
   "name": "python2"
  },
  "language_info": {
   "codemirror_mode": {
    "name": "ipython",
    "version": 2
   },
   "file_extension": ".py",
   "mimetype": "text/x-python",
   "name": "python",
   "nbconvert_exporter": "python",
   "pygments_lexer": "ipython2",
   "version": "2.7.13"
  }
 },
 "nbformat": 4,
 "nbformat_minor": 1
}
