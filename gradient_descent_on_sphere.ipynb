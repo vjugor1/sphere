{
 "cells": [
  {
   "cell_type": "markdown",
   "metadata": {},
   "source": [
    "# Наискорейший спуск на сфере\n",
    "## Постановка задачи\n",
    "$$\\underset{\\| x \\|^2 - 1 = 0}{min} f(x) = x^T A x$$\n"
   ]
  },
  {
   "cell_type": "code",
   "execution_count": 1,
   "metadata": {
    "collapsed": true
   },
   "outputs": [],
   "source": [
    "import numpy as np\n",
    "from matplotlib import pyplot as plt\n",
    "%matplotlib inline"
   ]
  },
  {
   "cell_type": "markdown",
   "metadata": {},
   "source": [
    "## В следующей ячейке в первой строке задается матрица квадратичной формы.\n",
    "### Далее заранее обсчитываются квадрат и куб этой матрицы, задается начальное приближение, потом сразу же проецируется на сферу."
   ]
  },
  {
   "cell_type": "code",
   "execution_count": 2,
   "metadata": {
    "collapsed": false
   },
   "outputs": [],
   "source": [
    "A = np.array([[1., 1., -1.], [1., 100., 0], [-1.,0,1.]])"
   ]
  },
  {
   "cell_type": "code",
   "execution_count": 3,
   "metadata": {
    "collapsed": false
   },
   "outputs": [
    {
     "name": "stdout",
     "output_type": "stream",
     "text": [
      "[[   1.    1.   -1.]\n",
      " [   1.  100.    0.]\n",
      " [  -1.    0.    1.]]\n"
     ]
    }
   ],
   "source": [
    "print A\n"
   ]
  },
  {
   "cell_type": "markdown",
   "metadata": {},
   "source": [
    "## В следующей ячейке задается функция, которая возвращает значение второй производной целевой функции при выборе шага (см pdf)\n",
    "$$F'' = \\frac{\\gamma^3 (-2a_2\\widehat{a_2} )+ \\gamma^2 (-3a_2\\widehat{a_1}) + \\gamma(2\\widehat{a_2}a_0 - 4a_2\\widehat{a_0} + 2a_1\\widehat{a_1}) + \\widehat{a_1}a_0 + 4a_1\\widehat{a_0}}{(\\gamma^2 a_2 - 2\\gamma a_1 + a_0)^3},$$\n",
    "\n",
    "\n",
    "$$a_i = {x^k}^T A^i x^k, i = 0,1,2,3$$\n"
   ]
  },
  {
   "cell_type": "code",
   "execution_count": 4,
   "metadata": {
    "collapsed": true
   },
   "outputs": [],
   "source": [
    "def F2(gamma, a2, a2t, a1t, a0, a0t, a1):\n",
    "    return (gamma**3 * (-2.*a2*a2t) + gamma**2 * (-3. * a2 * a1t) + gamma * (2.*a2t * a0 - 4. * a2 * a0t + 2. * a1 * a1t) + a1t * a0 + 4. * a1 * a0t) / (a2 * gamma**2 - 2. * gamma * a1 + a0)**3"
   ]
  },
  {
   "cell_type": "markdown",
   "metadata": {},
   "source": [
    "# Далее идет сам метод\n",
    "Шаги вычисляются в соответствии с написанным в статье, с подстраховской на тот случай, если коэффициент при $\\gamma^2$ обратится в ноль (помечено \"!\")"
   ]
  },
  {
   "cell_type": "code",
   "execution_count": 5,
   "metadata": {
    "collapsed": false,
    "scrolled": true
   },
   "outputs": [],
   "source": [
    "def method(A, x0, print_rate):\n",
    "    x = x0 / np.linalg.norm(x0)\n",
    "    A_sq = A.dot(A)\n",
    "    A_th = A.dot(A_sq)\n",
    "    notenough = True\n",
    "    prevx = x\n",
    "    i = 0\n",
    "    while(notenough):\n",
    "        a0 = x.T.dot(x)\n",
    "        a1 = x.T.dot(np.dot(A,x))\n",
    "        a2 = x.T.dot(np.dot(A_sq,x))\n",
    "        a3 = x.T.dot(np.dot(A_th,x))\n",
    "        a2t = a2**2 - a3 * a1\n",
    "        a1t = a3 * a0 - a2 * a1\n",
    "        a0t = a1**2 - a0 * a2\n",
    "        \"\"\"\n",
    "        print a0\n",
    "        print a1\n",
    "        print a2\n",
    "        print a3\n",
    "        print '_____'\n",
    "        print a2t\n",
    "        print a1t\n",
    "        print a0t\n",
    "        \"\"\"\n",
    "        if (a2**2 - a3 * a1) != 0:\n",
    "            if i % print_rate == 0:\n",
    "                print 'case quadr'\n",
    "            gamma1 = ((a2 * a1 - a3 * a0) + np.sqrt((a2 * a1 - a3 * a0)**2 - (a2**2 - a3 * a1)*(a1**2 - a0 * a2)))/2. / (a2**2 - a3 * a1)\n",
    "            gamma2 = ((a2 * a1 - a3 * a0) - np.sqrt((a2 * a1 - a3 * a0)**2 - (a2**2 - a3 * a1)*(a1**2 - a0 * a2)))/2. / (a2**2 - a3 * a1)\n",
    "            gamma_list = []\n",
    "            for gamma in [gamma1, gamma2]:\n",
    "                if gamma >=0 and F2(gamma, a2, a2t, a1t, a0, a0t, a1) > 0:\n",
    "                    gamma_list.append(gamma)\n",
    "            #print 'gamma_list len = ', len(gamma_list)\n",
    "            if len(gamma_list) > 0:\n",
    "                final_gamma = gamma_list[np.random.randint(len(gamma_list))]\n",
    "            else:\n",
    "                if i % print_rate == 0:\n",
    "                    print 'there is no suitable gamma. shaking point'\n",
    "                x = np.random.randn(A.shape[0])\n",
    "                x = x / np.linalg.norm(x)\n",
    "                continue\n",
    "            if i % print_rate == 0:\n",
    "                print 'quadr gamma = ', final_gamma \n",
    "            x = (x - final_gamma * np.dot(A, x))/ np.linalg.norm(x - final_gamma * np.dot(A, x))\n",
    "        #!!!!!!!!!!!!!!!!!!!!!!!!!!!!!!!!!!!!!!!!!!!!!!!!!!!!!!!!!!!!!!!!!!!!!\n",
    "        if  (a2**2 - a3 * a1) == 0 and (a3 * a0 - a2 * a1) != 0:\n",
    "            if i % print_rate == 0:\n",
    "                print 'case linear'\n",
    "            gamma = (a1**2 - a0 * a2)/(a3 * a0 - a2 * a1)\n",
    "            if gamma > 0 and F2(gamma, a2, a2t, a1t, a0, a0t, a1) > 0:\n",
    "                    x = (x - gamma * np.dot(A, x))/ np.linalg.norm(x - gamma * np.dot(A, x))\n",
    "            else:\n",
    "                if i % print_rate == 0:\n",
    "                    print 'you got no suitable gamma. shaking point'\n",
    "                x = np.random.randn(A.shape[0])\n",
    "                x = x / np.linalg.norm(x)\n",
    "                continue\n",
    "        if (a3 * a0 - a2 * a1) == 0 and (a2**2 - a3 * a1) == 0:\n",
    "            if i % print_rate == 0:\n",
    "                print 'you got rekt'\n",
    "                print 'iternum = ', i\n",
    "                print '(a3 * a0 - a2 * a1)', (a3 * a0 - a2 * a1)\n",
    "                print '(a2**2 - a3 * a1)', (a2**2 - a3 * a1)\n",
    "        #!!!!!!!!!!!!!!!!!!!!!!!!!!!!!!!!!!!!!!!!!!!!!!!!!!!!!!!!!!!!!!!!!!!!    \n",
    "        if i % print_rate == 0:\n",
    "            print 'iter_num = ', i\n",
    "            print x\n",
    "        if (np.linalg.norm(x - prevx) < 1e-6):\n",
    "            notenough = False\n",
    "        else:\n",
    "            prevx = x\n",
    "        xs.append(x)\n",
    "        fs.append(x.dot(np.dot(A,x)))\n",
    "        i += 1\n",
    "    return x"
   ]
  },
  {
   "cell_type": "markdown",
   "metadata": {},
   "source": [
    "# Начальная точка (1, 0, 1)"
   ]
  },
  {
   "cell_type": "code",
   "execution_count": 9,
   "metadata": {
    "collapsed": false,
    "scrolled": false
   },
   "outputs": [
    {
     "name": "stdout",
     "output_type": "stream",
     "text": [
      "case quadr\n",
      "quadr gamma =  0.00249996875078\n",
      "iter_num =  0\n",
      "[ 0.70710568 -0.00176774  0.70710568]\n",
      "case quadr\n",
      "quadr gamma =  0.0361240783536\n",
      "iter_num =  20\n",
      "[ 0.70750225 -0.00704957  0.70667593]\n",
      "case quadr\n",
      "quadr gamma =  0.00781413789622\n",
      "iter_num =  40\n",
      "[ 0.70846229 -0.00708255  0.70571313]\n",
      "case quadr\n",
      "quadr gamma =  0.00633383907512\n",
      "iter_num =  60\n",
      "[ 0.7087422  -0.00708611  0.70543198]\n"
     ]
    }
   ],
   "source": [
    "x0 = np.array([1., 0., 1.])\n",
    "xs = []\n",
    "fs = []\n",
    "x = method(A, x0, 20)"
   ]
  },
  {
   "cell_type": "code",
   "execution_count": 10,
   "metadata": {
    "collapsed": false
   },
   "outputs": [
    {
     "name": "stdout",
     "output_type": "stream",
     "text": [
      "f* =  -0.00501224273369\n",
      "x* =  [ 0.70881806 -0.00708741  0.70535575]\n",
      "norm check:  1.0\n"
     ]
    }
   ],
   "source": [
    "print 'f* = ', x.dot(np.dot(A,x))\n",
    "print 'x* = ', x\n",
    "print 'norm check: ', np.linalg.norm(x)"
   ]
  },
  {
   "cell_type": "code",
   "execution_count": 11,
   "metadata": {
    "collapsed": false,
    "scrolled": true
   },
   "outputs": [
    {
     "data": {
      "image/png": "[encoded data removed]",
      "text/plain": [
       "<matplotlib.figure.Figure at 0x7082908>"
      ]
     },
     "metadata": {},
     "output_type": "display_data"
    }
   ],
   "source": [
    "fstar = fs[np.argmin(fs)]\n",
    "fminfstar = fs - np.ones(len(fs)) * fstar\n",
    "logf = np.log(fminfstar[:len(fs) - 1])\n",
    "\n",
    "plt.figure()\n",
    "plt.scatter(range(len(logf)), logf)\n",
    "plt.xlabel('iteration number')\n",
    "plt.ylabel('log(f)')\n",
    "plt.title('semilog')\n",
    "plt.show()"
   ]
  },
  {
   "cell_type": "markdown",
   "metadata": {},
   "source": [
    "# Начальная точка (0, 1, 0)"
   ]
  },
  {
   "cell_type": "code",
   "execution_count": 13,
   "metadata": {
    "collapsed": false,
    "scrolled": true
   },
   "outputs": [
    {
     "name": "stdout",
     "output_type": "stream",
     "text": [
      "case quadr\n",
      "there is no suitable gamma. shaking point\n",
      "case quadr\n",
      "there is no suitable gamma. shaking point\n",
      "case quadr\n",
      "there is no suitable gamma. shaking point\n",
      "case quadr\n",
      "there is no suitable gamma. shaking point\n",
      "case quadr\n",
      "quadr gamma =  0.00246754236925\n",
      "iter_num =  0\n",
      "[ 0.82704583 -0.40807419 -0.38661434]\n",
      "case quadr\n",
      "quadr gamma =  0.00249975253082\n",
      "iter_num =  20\n",
      "[ 0.65103735  0.22570149  0.72471319]\n",
      "case quadr\n",
      "quadr gamma =  0.0148385730099\n",
      "iter_num =  40\n",
      "[ 0.67237003 -0.00692851  0.74018277]\n",
      "case quadr\n",
      "quadr gamma =  0.0110623869957\n",
      "iter_num =  60\n",
      "[ 0.69880846 -0.00700157  0.71527457]\n",
      "case quadr\n",
      "quadr gamma =  0.00579995600015\n",
      "iter_num =  80\n",
      "[ 0.70662735 -0.00708823  0.70755039]\n",
      "case quadr\n",
      "quadr gamma =  0.0176095418618\n",
      "iter_num =  100\n",
      "[ 0.70830851 -0.00708722  0.70586743]\n",
      "case quadr\n",
      "quadr gamma =  0.0255345707323\n",
      "iter_num =  120\n",
      "[ 0.70867099 -0.00708882  0.70550349]\n",
      "case quadr\n",
      "quadr gamma =  0.00780623364149\n",
      "iter_num =  140\n",
      "[ 0.70879223 -0.00708782  0.70538169]\n"
     ]
    }
   ],
   "source": [
    "x0 = np.array([0., 1., 0.])\n",
    "xs = []\n",
    "fs = []\n",
    "x = method(A, x0, 20)"
   ]
  },
  {
   "cell_type": "code",
   "execution_count": 14,
   "metadata": {
    "collapsed": false
   },
   "outputs": [
    {
     "name": "stdout",
     "output_type": "stream",
     "text": [
      "f* =  -0.00501224089195\n",
      "x* =  [ 0.70881223 -0.00708734  0.7053616 ]\n",
      "norm check:  1.0\n"
     ]
    }
   ],
   "source": [
    "print 'f* = ', x.dot(np.dot(A,x))\n",
    "print 'x* = ', x\n",
    "print 'norm check: ', np.linalg.norm(x)"
   ]
  },
  {
   "cell_type": "code",
   "execution_count": 15,
   "metadata": {
    "collapsed": false,
    "scrolled": false
   },
   "outputs": [
    {
     "data": {
      "image/png": "[encoded data removed]",
      "text/plain": [
       "<matplotlib.figure.Figure at 0x7219dd8>"
      ]
     },
     "metadata": {},
     "output_type": "display_data"
    }
   ],
   "source": [
    "fstar = fs[np.argmin(fs)]\n",
    "fminfstar = fs - np.ones(len(fs)) * fstar\n",
    "logf = np.log(np.hstack((fminfstar[:np.argmin(fs)], fminfstar[np.argmin(fs) + 1:])))\n",
    "\n",
    "plt.figure()\n",
    "plt.scatter(range(len(logf)), logf)\n",
    "plt.xlabel('iteration number')\n",
    "plt.ylabel('log(f)')\n",
    "plt.title('semilog')\n",
    "plt.show()"
   ]
  },
  {
   "cell_type": "markdown",
   "metadata": {},
   "source": [
    "# Начальная точка (-1, 1, 3)"
   ]
  },
  {
   "cell_type": "code",
   "execution_count": 16,
   "metadata": {
    "collapsed": false,
    "scrolled": false
   },
   "outputs": [
    {
     "name": "stdout",
     "output_type": "stream",
     "text": [
      "case quadr\n",
      "quadr gamma =  0.00247177816264\n",
      "iter_num =  0\n",
      "[-0.30636981  0.23312799  0.92292409]\n",
      "case quadr\n",
      "quadr gamma =  0.00257967013089\n",
      "iter_num =  20\n",
      "[ 0.14189743 -0.0364821  -0.98920886]\n",
      "case quadr\n",
      "quadr gamma =  0.00251208846513\n",
      "iter_num =  40\n",
      "[ 0.621046   -0.03043122  0.78318312]\n",
      "case quadr\n",
      "quadr gamma =  0.125555304333\n",
      "iter_num =  60\n",
      "[ 0.67489726 -0.00674201  0.73788091]\n",
      "case quadr\n",
      "quadr gamma =  0.0108330791782\n",
      "iter_num =  80\n",
      "[ 0.70535518 -0.0070569   0.70881893]\n",
      "case quadr\n",
      "quadr gamma =  0.00622296421031\n",
      "iter_num =  100\n",
      "[ 0.70818369 -0.00707554  0.70599278]\n",
      "case quadr\n",
      "quadr gamma =  0.00561442100428\n",
      "iter_num =  120\n",
      "[ 0.70863747 -0.00708359  0.70553721]\n",
      "case quadr\n",
      "quadr gamma =  0.0473792149526\n",
      "iter_num =  140\n",
      "[ 0.70880543 -0.00708876  0.70536842]\n"
     ]
    }
   ],
   "source": [
    "x0 = np.array([-1., 1., 3.])\n",
    "xs = []\n",
    "fs = []\n",
    "x = method(A, x0, 20)"
   ]
  },
  {
   "cell_type": "code",
   "execution_count": 17,
   "metadata": {
    "collapsed": false
   },
   "outputs": [
    {
     "name": "stdout",
     "output_type": "stream",
     "text": [
      "f* =  -0.00501224513479\n",
      "x* =  [ 0.70882743 -0.00708772  0.70534633]\n",
      "norm check:  1.0\n"
     ]
    }
   ],
   "source": [
    "print 'f* = ', x.dot(np.dot(A,x))\n",
    "print 'x* = ', x\n",
    "print 'norm check: ', np.linalg.norm(x)"
   ]
  },
  {
   "cell_type": "code",
   "execution_count": 18,
   "metadata": {
    "collapsed": false
   },
   "outputs": [
    {
     "data": {
      "image/png": "[encoded data removed]",
      "text/plain": [
       "<matplotlib.figure.Figure at 0x7280320>"
      ]
     },
     "metadata": {},
     "output_type": "display_data"
    }
   ],
   "source": [
    "fstar = fs[np.argmin(fs)]\n",
    "fminfstar = fs - np.ones(len(fs)) * fstar\n",
    "logf = np.log(fminfstar[:len(fs) - 1])\n",
    "\n",
    "plt.figure()\n",
    "plt.scatter(range(len(logf)), logf)\n",
    "plt.xlabel('iteration number')\n",
    "plt.ylabel('log(f)')\n",
    "plt.title('semilog')\n",
    "plt.show()"
   ]
  },
  {
   "cell_type": "markdown",
   "metadata": {},
   "source": [
    "# Начальная точка (-1, -30, 3)"
   ]
  },
  {
   "cell_type": "code",
   "execution_count": 19,
   "metadata": {
    "collapsed": false
   },
   "outputs": [
    {
     "name": "stdout",
     "output_type": "stream",
     "text": [
      "case quadr\n",
      "there is no suitable gamma. shaking point\n",
      "case quadr\n",
      "quadr gamma =  0.00249782246638\n",
      "iter_num =  0\n",
      "[ 0.74684356 -0.48976152  0.44984259]\n",
      "case quadr\n",
      "quadr gamma =  0.00743924480935\n",
      "iter_num =  20\n",
      "[ 0.83272767 -0.00904046  0.55360897]\n",
      "case quadr\n",
      "quadr gamma =  0.0955773036177\n",
      "iter_num =  40\n",
      "[ 0.74644219 -0.00839858  0.66539726]\n",
      "case quadr\n",
      "quadr gamma =  0.0110073315098\n",
      "iter_num =  60\n",
      "[ 0.72137613 -0.0072351   0.69250569]\n",
      "case quadr\n",
      "quadr gamma =  0.104243471451\n",
      "iter_num =  80\n",
      "[ 0.71148829 -0.00717258  0.70266135]\n",
      "case quadr\n",
      "quadr gamma =  0.0147142128125\n",
      "iter_num =  100\n",
      "[ 0.70944737 -0.00709077  0.70472275]\n",
      "case quadr\n",
      "quadr gamma =  0.0063450825335\n",
      "iter_num =  120\n",
      "[ 0.70901726 -0.00709119  0.70515547]\n",
      "case quadr\n",
      "quadr gamma =  0.105232970853\n",
      "iter_num =  140\n",
      "[ 0.70889726 -0.00708955  0.70527613]\n"
     ]
    }
   ],
   "source": [
    "x0 = np.array([-1., -30., 3.])\n",
    "xs = []\n",
    "fs = []\n",
    "x = method(A, x0, 20)"
   ]
  },
  {
   "cell_type": "code",
   "execution_count": 20,
   "metadata": {
    "collapsed": false
   },
   "outputs": [
    {
     "name": "stdout",
     "output_type": "stream",
     "text": [
      "f* =  -0.00501224530388\n",
      "x* =  [ 0.70888065 -0.0070885   0.70529283]\n",
      "norm check:  1.0\n"
     ]
    }
   ],
   "source": [
    "print 'f* = ', x.dot(np.dot(A,x))\n",
    "print 'x* = ', x\n",
    "print 'norm check: ', np.linalg.norm(x)"
   ]
  },
  {
   "cell_type": "code",
   "execution_count": 21,
   "metadata": {
    "collapsed": false,
    "scrolled": false
   },
   "outputs": [
    {
     "data": {
      "image/png": "[encoded data removed]",
      "text/plain": [
       "<matplotlib.figure.Figure at 0x84de198>"
      ]
     },
     "metadata": {},
     "output_type": "display_data"
    }
   ],
   "source": [
    "fstar = fs[np.argmin(fs)]\n",
    "fminfstar = fs - np.ones(len(fs)) * fstar\n",
    "logf = np.log(fminfstar[:len(fs) - 1])\n",
    "\n",
    "plt.figure()\n",
    "plt.scatter(range(len(logf)), logf)\n",
    "plt.xlabel('iteration number')\n",
    "plt.ylabel('log(f)')\n",
    "plt.title('semilog')\n",
    "plt.show()"
   ]
  },
  {
   "cell_type": "markdown",
   "metadata": {},
   "source": [
    "# Начальная точка (9, -30, 3)"
   ]
  },
  {
   "cell_type": "code",
   "execution_count": 22,
   "metadata": {
    "collapsed": false,
    "scrolled": true
   },
   "outputs": [
    {
     "name": "stdout",
     "output_type": "stream",
     "text": [
      "case quadr\n",
      "there is no suitable gamma. shaking point\n",
      "case quadr\n",
      "there is no suitable gamma. shaking point\n",
      "case quadr\n",
      "there is no suitable gamma. shaking point\n",
      "case quadr\n",
      "there is no suitable gamma. shaking point\n",
      "case quadr\n",
      "there is no suitable gamma. shaking point\n",
      "case quadr\n",
      "quadr gamma =  0.00247676071469\n",
      "iter_num =  0\n",
      "[-0.24353001 -0.15620386  0.9572322 ]\n",
      "case quadr\n",
      "quadr gamma =  0.00252994453421\n",
      "iter_num =  20\n",
      "[-0.59521     0.02567275 -0.80315999]\n",
      "case quadr\n",
      "quadr gamma =  0.00924541116703\n",
      "iter_num =  40\n",
      "[-0.65117645  0.00642957 -0.75889913]\n",
      "case quadr\n",
      "quadr gamma =  0.00719450649398\n",
      "iter_num =  60\n",
      "[-0.69833869  0.00692124 -0.71573401]\n",
      "case quadr\n",
      "quadr gamma =  0.00557831592353\n",
      "iter_num =  80\n",
      "[-0.70549635  0.00701651 -0.70867882]\n",
      "case quadr\n",
      "quadr gamma =  0.0189517203766\n",
      "iter_num =  100\n",
      "[-0.70826137  0.00707652 -0.70591484]\n",
      "case quadr\n",
      "quadr gamma =  0.015875737339\n",
      "iter_num =  120\n",
      "[-0.70872844  0.00708778 -0.70544579]\n"
     ]
    }
   ],
   "source": [
    "x0 = np.array([9., -30., 3.])\n",
    "xs = []\n",
    "fs = []\n",
    "x = method(A, x0, 20)"
   ]
  },
  {
   "cell_type": "code",
   "execution_count": 23,
   "metadata": {
    "collapsed": false
   },
   "outputs": [
    {
     "name": "stdout",
     "output_type": "stream",
     "text": [
      "f* =  -0.00501224390062\n",
      "x* =  [-0.70882228  0.00708824 -0.7053515 ]\n",
      "norm check:  1.0\n"
     ]
    }
   ],
   "source": [
    "print 'f* = ', x.dot(np.dot(A,x))\n",
    "print 'x* = ', x\n",
    "print 'norm check: ', np.linalg.norm(x)"
   ]
  },
  {
   "cell_type": "code",
   "execution_count": 24,
   "metadata": {
    "collapsed": false,
    "scrolled": false
   },
   "outputs": [
    {
     "data": {
      "image/png": "[encoded data removed]",
      "text/plain": [
       "<matplotlib.figure.Figure at 0x82c9dd8>"
      ]
     },
     "metadata": {},
     "output_type": "display_data"
    }
   ],
   "source": [
    "fstar = fs[np.argmin(fs)]\n",
    "fminfstar = fs - np.ones(len(fs)) * fstar\n",
    "logf = np.log(fminfstar[:len(fs) - 1])\n",
    "\n",
    "plt.figure()\n",
    "plt.scatter(range(len(logf)), logf)\n",
    "plt.xlabel('iteration number')\n",
    "plt.ylabel('log(f)')\n",
    "plt.title('semilog')\n",
    "plt.show()"
   ]
  }
 ],
 "metadata": {
  "kernelspec": {
   "display_name": "Python [Root]",
   "language": "python",
   "name": "Python [Root]"
  },
  "language_info": {
   "codemirror_mode": {
    "name": "ipython",
    "version": 2
   },
   "file_extension": ".py",
   "mimetype": "text/x-python",
   "name": "python",
   "nbconvert_exporter": "python",
   "pygments_lexer": "ipython2",
   "version": "2.7.12"
  }
 },
 "nbformat": 4,
 "nbformat_minor": 1
}
