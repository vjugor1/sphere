{
 "cells": [
  {
   "cell_type": "markdown",
   "metadata": {},
   "source": [
    "# Наискорейший спуск на сфере\n",
    "## Постановка задачи\n",
    "$$\\underset{\\| x \\|^2 - 1 = 0}{min} f(x) = x^T A x$$\n"
   ]
  },
  {
   "cell_type": "code",
   "execution_count": 1,
   "metadata": {
    "collapsed": true
   },
   "outputs": [],
   "source": [
    "import numpy as np\n",
    "from matplotlib import pyplot as plt\n",
    "%matplotlib inline"
   ]
  },
  {
   "cell_type": "markdown",
   "metadata": {},
   "source": [
    "## В следующей ячейке в первой строке задается матрица квадратичной формы.\n",
    "### Далее заранее обсчитываются квадрат и куб этой матрицы, задается начальное приближение, потом сразу же проецируется на сферу."
   ]
  },
  {
   "cell_type": "code",
   "execution_count": 2,
   "metadata": {
    "collapsed": false
   },
   "outputs": [],
   "source": [
    "A = np.array([[1., 1., -1.], [1., 100., 0], [-1.,0,1.]])"
   ]
  },
  {
   "cell_type": "code",
   "execution_count": 3,
   "metadata": {
    "collapsed": false
   },
   "outputs": [
    {
     "name": "stdout",
     "output_type": "stream",
     "text": [
      "[[   1.    1.   -1.]\n",
      " [   1.  100.    0.]\n",
      " [  -1.    0.    1.]]\n"
     ]
    }
   ],
   "source": [
    "print A\n"
   ]
  },
  {
   "cell_type": "markdown",
   "metadata": {},
   "source": [
    "## В следующей ячейке задается функция, которая возвращает значение второй производной целевой функции при выборе шага (см pdf)\n",
    "$$F'' = \\frac{\\gamma^3 (-2a_2\\widehat{a_2} )+ \\gamma^2 (-3a_2\\widehat{a_1}) + \\gamma(2\\widehat{a_2}a_0 - 4a_2\\widehat{a_0} + 2a_1\\widehat{a_1}) + \\widehat{a_1}a_0 + 4a_1\\widehat{a_0}}{(\\gamma^2 a_2 - 2\\gamma a_1 + a_0)^3},$$\n",
    "\n",
    "\n",
    "$$a_i = {x^k}^T A^i x^k, i = 0,1,2,3$$\n"
   ]
  },
  {
   "cell_type": "code",
   "execution_count": 4,
   "metadata": {
    "collapsed": true
   },
   "outputs": [],
   "source": [
    "def F2(gamma, a2, a2t, a1t, a0, a0t, a1):\n",
    "    return (gamma**3 * (-2.*a2*a2t) + gamma**2 * (-3. * a2 * a1t) + gamma * (2.*a2t * a0 - 4. * a2 * a0t + 2. * a1 * a1t) + a1t * a0 + 4. * a1 * a0t) / (a2 * gamma**2 - 2. * gamma * a1 + a0)**3"
   ]
  },
  {
   "cell_type": "markdown",
   "metadata": {},
   "source": [
    "# Далее идет сам метод\n",
    "Шаги вычисляются в соответствии с написанным в статье, с подстраховской на тот случай, если коэффициент при $\\gamma^2$ обратится в ноль (помечено \"!\")"
   ]
  },
  {
   "cell_type": "code",
   "execution_count": 25,
   "metadata": {
    "collapsed": false,
    "scrolled": true
   },
   "outputs": [],
   "source": [
    "def method(A, x0, print_rate):\n",
    "    x = x0 / np.linalg.norm(x0)\n",
    "    A_sq = A.dot(A)\n",
    "    A_th = A.dot(A_sq)\n",
    "    notenough = True\n",
    "    prevx = x\n",
    "    i = 0\n",
    "    while(notenough):\n",
    "        a0 = x.T.dot(x)\n",
    "        a1 = x.T.dot(np.dot(A,x))\n",
    "        a2 = x.T.dot(np.dot(A_sq,x))\n",
    "        a3 = x.T.dot(np.dot(A_th,x))\n",
    "        a2t = a2**2 - a3 * a1\n",
    "        a1t = a3 * a0 - a2 * a1\n",
    "        a0t = a1**2 - a0 * a2\n",
    "        \"\"\"\n",
    "        print a0\n",
    "        print a1\n",
    "        print a2\n",
    "        print a3\n",
    "        print '_____'\n",
    "        print a2t\n",
    "        print a1t\n",
    "        print a0t\n",
    "        \"\"\"\n",
    "        if (a2**2 - a3 * a1) != 0:\n",
    "            if i % print_rate == 0:\n",
    "                print 'case quadr'\n",
    "            gamma1 = ((a2 * a1 - a3 * a0) + np.sqrt((a2 * a1 - a3 * a0)**2 - (a2**2 - a3 * a1)*(a1**2 - a0 * a2)))/2. / (a2**2 - a3 * a1)\n",
    "            gamma2 = ((a2 * a1 - a3 * a0) - np.sqrt((a2 * a1 - a3 * a0)**2 - (a2**2 - a3 * a1)*(a1**2 - a0 * a2)))/2. / (a2**2 - a3 * a1)\n",
    "            gamma_list = []\n",
    "            for gamma in [gamma1, gamma2]:\n",
    "                if gamma >=0 and F2(gamma, a2, a2t, a1t, a0, a0t, a1) > 0:\n",
    "                    gamma_list.append(gamma)\n",
    "            #print 'gamma_list len = ', len(gamma_list)\n",
    "            if len(gamma_list) > 0:\n",
    "                final_gamma = gamma_list[np.random.randint(len(gamma_list))]\n",
    "            else:\n",
    "                if i % print_rate == 0:\n",
    "                    print 'there is no suitable gamma. shaking point'\n",
    "                x = np.random.randn(A.shape[0])\n",
    "                x = x / np.linalg.norm(x)\n",
    "                continue\n",
    "            if i % print_rate == 0:\n",
    "                print 'quadr gamma = ', final_gamma \n",
    "            x = (x - final_gamma * np.dot(A, x))/ np.linalg.norm(x - final_gamma * np.dot(A, x))\n",
    "        #!!!!!!!!!!!!!!!!!!!!!!!!!!!!!!!!!!!!!!!!!!!!!!!!!!!!!!!!!!!!!!!!!!!!!\n",
    "        if  (a2**2 - a3 * a1) == 0 and (a3 * a0 - a2 * a1) != 0:\n",
    "            if i % print_rate == 0:\n",
    "                print 'case linear'\n",
    "            gamma = (a1**2 - a0 * a2)/(a3 * a0 - a2 * a1)\n",
    "            if gamma > 0 and F2(gamma, a2, a2t, a1t, a0, a0t, a1) > 0:\n",
    "                    x = (x - gamma * np.dot(A, x))/ np.linalg.norm(x - gamma * np.dot(A, x))\n",
    "            else:\n",
    "                if i % print_rate == 0:\n",
    "                    print 'you got no suitable gamma. shaking point'\n",
    "                x = np.random.randn(A.shape[0])\n",
    "                x = x / np.linalg.norm(x)\n",
    "                continue\n",
    "        if (a3 * a0 - a2 * a1) == 0 and (a2**2 - a3 * a1) == 0:\n",
    "            if i % print_rate == 0:\n",
    "                print 'you got rekt'\n",
    "                print 'iternum = ', i\n",
    "                print '(a3 * a0 - a2 * a1)', (a3 * a0 - a2 * a1)\n",
    "                print '(a2**2 - a3 * a1)', (a2**2 - a3 * a1)\n",
    "        #!!!!!!!!!!!!!!!!!!!!!!!!!!!!!!!!!!!!!!!!!!!!!!!!!!!!!!!!!!!!!!!!!!!!    \n",
    "        if i % print_rate == 0:\n",
    "            print 'iter_num = ', i\n",
    "            print x\n",
    "        if (np.linalg.norm(x - prevx) < 1e-6):\n",
    "            notenough = False\n",
    "        else:\n",
    "            prevx = x\n",
    "        xs.append(x)\n",
    "        fs.append(x.dot(np.dot(A,x)))\n",
    "        i += 1\n",
    "    return x"
   ]
  },
  {
   "cell_type": "markdown",
   "metadata": {},
   "source": [
    "# Начальная точка (1, 0, 1)"
   ]
  },
  {
   "cell_type": "code",
   "execution_count": 26,
   "metadata": {
    "collapsed": false,
    "scrolled": false
   },
   "outputs": [
    {
     "name": "stdout",
     "output_type": "stream",
     "text": [
      "case quadr\n",
      "quadr gamma =  0.00249996875078\n",
      "iter_num =  0\n",
      "[ 0.70710568 -0.00176774  0.70710568]\n",
      "case quadr\n",
      "quadr gamma =  0.0361240783536\n",
      "iter_num =  20\n",
      "[ 0.70750225 -0.00704957  0.70667593]\n",
      "case quadr\n",
      "quadr gamma =  0.00781413789622\n",
      "iter_num =  40\n",
      "[ 0.70846229 -0.00708255  0.70571313]\n",
      "case quadr\n",
      "quadr gamma =  0.00633383907512\n",
      "iter_num =  60\n",
      "[ 0.7087422  -0.00708611  0.70543198]\n"
     ]
    }
   ],
   "source": [
    "x0 = np.array([1., 0., 1.])\n",
    "xs = []\n",
    "fs = []\n",
    "x = method(A, x0, 20)"
   ]
  },
  {
   "cell_type": "code",
   "execution_count": 27,
   "metadata": {
    "collapsed": false
   },
   "outputs": [
    {
     "name": "stdout",
     "output_type": "stream",
     "text": [
      "f* =  -0.00501224273369\n",
      "x* =  [ 0.70881806 -0.00708741  0.70535575]\n",
      "norm check:  1.0\n"
     ]
    }
   ],
   "source": [
    "print 'f* = ', x.dot(np.dot(A,x))\n",
    "print 'x* = ', x\n",
    "print 'norm check: ', np.linalg.norm(x)"
   ]
  },
  {
   "cell_type": "code",
   "execution_count": 28,
   "metadata": {
    "collapsed": false,
    "scrolled": true
   },
   "outputs": [
    {
     "data": {
      "image/png": "[encoded data removed]",
      "text/plain": [
       "<matplotlib.figure.Figure at 0x6f7a2b0>"
      ]
     },
     "metadata": {},
     "output_type": "display_data"
    }
   ],
   "source": [
    "fstar = fs[np.argmin(fs)]\n",
    "fminfstar = fs - np.ones(len(fs)) * fstar\n",
    "logf = np.log(fminfstar[:len(fs) - 1])\n",
    "\n",
    "plt.figure()\n",
    "plt.scatter(range(len(logf)), logf)\n",
    "plt.xlabel('iteration number')\n",
    "plt.ylabel('log(f)')\n",
    "plt.title('semilog')\n",
    "plt.show()"
   ]
  },
  {
   "cell_type": "markdown",
   "metadata": {},
   "source": [
    "# Начальная точка (0, 1, 0)"
   ]
  },
  {
   "cell_type": "code",
   "execution_count": 29,
   "metadata": {
    "collapsed": false,
    "scrolled": true
   },
   "outputs": [
    {
     "name": "stdout",
     "output_type": "stream",
     "text": [
      "case quadr\n",
      "there is no suitable gamma. shaking point\n",
      "case quadr\n",
      "quadr gamma =  0.00248613808752\n",
      "iter_num =  0\n",
      "[ 0.9092827  -0.404936    0.09608225]\n",
      "case quadr\n",
      "quadr gamma =  0.00248677640698\n",
      "iter_num =  1\n",
      "[ 0.94258197 -0.31807824  0.1018109 ]\n",
      "case quadr\n",
      "quadr gamma =  0.0024878335711\n",
      "iter_num =  2\n",
      "[ 0.96318902 -0.24690646  0.10632083]\n",
      "case quadr\n",
      "quadr gamma =  0.0024896292076\n",
      "iter_num =  3\n",
      "[ 0.97549664 -0.19053443  0.11001339]\n",
      "case quadr\n",
      "quadr gamma =  0.00249272815913\n",
      "iter_num =  4\n",
      "[ 0.98266953 -0.14679386  0.11319083]\n",
      "case quadr\n",
      "quadr gamma =  0.002498131582\n",
      "iter_num =  5\n",
      "[ 0.98676448 -0.11325486  0.11605686]\n",
      "case quadr\n",
      "quadr gamma =  0.00250762327265\n",
      "iter_num =  6\n",
      "[ 0.98904452 -0.08769984  0.11874204]\n",
      "case quadr\n",
      "quadr gamma =  0.00252441073455\n",
      "iter_num =  7\n",
      "[ 0.99026115 -0.06827766  0.12133016]\n",
      "case quadr\n",
      "quadr gamma =  0.00255435459617\n",
      "iter_num =  8\n",
      "[ 0.9908535  -0.05350903  0.12387947]\n",
      "case quadr\n",
      "quadr gamma =  0.00260846583894\n",
      "iter_num =  9\n",
      "[ 0.99107472 -0.04223585  0.12643987]\n",
      "case quadr\n",
      "quadr gamma =  0.00270845361314\n",
      "iter_num =  10\n",
      "[ 0.99106746 -0.03355591  0.12907084]\n",
      "case quadr\n",
      "quadr gamma =  0.00290081495594\n",
      "iter_num =  11\n",
      "[ 0.99090587 -0.0267574   0.13186964]\n",
      "case quadr\n",
      "quadr gamma =  0.00330036257956\n",
      "iter_num =  12\n",
      "[ 0.99061237 -0.02124946  0.1350392 ]\n",
      "case quadr\n",
      "quadr gamma =  0.00427166551086\n",
      "iter_num =  13\n",
      "[ 0.99013768 -0.01645531  0.13912801]\n",
      "case quadr\n",
      "quadr gamma =  0.00772715657459\n",
      "iter_num =  14\n",
      "[ 0.98914262 -0.01145414  0.14651169]\n",
      "case quadr\n",
      "quadr gamma =  0.0599421008171\n",
      "iter_num =  15\n",
      "[ 0.97870071 -0.00217442  0.20528077]\n",
      "case quadr\n",
      "quadr gamma =  0.0058877186966\n",
      "iter_num =  16\n",
      "[ 0.97755679 -0.00667971  0.21056615]\n",
      "case quadr\n",
      "quadr gamma =  0.020057266342\n",
      "iter_num =  17\n",
      "[ 0.97344151 -0.01303829  0.22856427]\n",
      "case quadr\n",
      "quadr gamma =  0.0190021095788\n",
      "iter_num =  18\n",
      "[ 0.96944224 -0.00683003  0.24522458]\n",
      "case quadr\n",
      "quadr gamma =  0.021322807754\n",
      "iter_num =  19\n",
      "[ 0.96456691 -0.01307903  0.26351399]\n",
      "case quadr\n",
      "quadr gamma =  0.0168009202018\n",
      "iter_num =  20\n",
      "[ 0.96069379 -0.00736963  0.2775124 ]\n",
      "case quadr\n",
      "quadr gamma =  0.0287467410018\n",
      "iter_num =  21\n",
      "[ 0.95351575 -0.01398077  0.30101868]\n",
      "case quadr\n",
      "quadr gamma =  0.0105138266976\n",
      "iter_num =  22\n",
      "[ 0.95094288 -0.00934743  0.30922528]\n",
      "case quadr\n",
      "quadr gamma =  0.121094288563\n",
      "iter_num =  23\n",
      "[ 0.91439607 -0.01182691  0.40464793]\n",
      "case quadr\n",
      "quadr gamma =  0.0166015914017\n",
      "iter_num =  24\n",
      "[ 0.9098744  -0.00740326  0.41481775]\n",
      "case quadr\n",
      "quadr gamma =  0.0294642915874\n",
      "iter_num =  25\n",
      "[ 0.90162503 -0.01248361  0.43233837]\n",
      "case quadr\n",
      "quadr gamma =  0.0101355987279\n",
      "iter_num =  26\n",
      "[ 0.89891517 -0.00898843  0.43803051]\n",
      "case quadr\n",
      "quadr gamma =  0.125204683557\n",
      "iter_num =  27\n",
      "[ 0.86178864 -0.00920522  0.507184  ]\n",
      "case quadr\n",
      "quadr gamma =  0.0768808572351\n",
      "iter_num =  28\n",
      "[ 0.84230936 -0.00472947  0.53897364]\n",
      "case quadr\n",
      "quadr gamma =  0.00546360226757\n",
      "iter_num =  29\n",
      "[ 0.84107048 -0.00675067  0.54088342]\n",
      "case quadr\n",
      "quadr gamma =  0.0154497175166\n",
      "iter_num =  30\n",
      "[ 0.83759541 -0.00932716  0.54621144]\n",
      "case quadr\n",
      "quadr gamma =  0.0359528959392\n",
      "iter_num =  31\n",
      "[ 0.82969073 -0.00592326  0.55819191]\n",
      "case quadr\n",
      "quadr gamma =  0.00812478455849\n",
      "iter_num =  32\n",
      "[ 0.82798098 -0.00785605  0.56070116]\n",
      "case quadr\n",
      "quadr gamma =  0.0726741258819\n",
      "iter_num =  33\n",
      "[ 0.81264886 -0.0109833   0.58265016]\n",
      "case quadr\n",
      "quadr gamma =  0.00547754153805\n",
      "iter_num =  34\n",
      "[ 0.81165645 -0.00942087  0.58405912]\n",
      "case quadr\n",
      "quadr gamma =  0.0155656057709\n",
      "iter_num =  35\n",
      "[ 0.80882054 -0.00739576  0.58800904]\n",
      "case quadr\n",
      "quadr gamma =  0.0351201707913\n",
      "iter_num =  36\n",
      "[ 0.80246823 -0.00984166  0.59661368]\n",
      "case quadr\n",
      "quadr gamma =  0.00830442133477\n",
      "iter_num =  37\n",
      "[ 0.80107861 -0.00833524  0.59850111]\n",
      "case quadr\n",
      "quadr gamma =  0.0795158316866\n",
      "iter_num =  38\n",
      "[ 0.78760583 -0.00576975  0.61615238]\n",
      "case quadr\n",
      "quadr gamma =  0.00545011038942\n",
      "iter_num =  39\n",
      "[ 0.78680302 -0.00691859  0.61716541]\n",
      "case quadr\n",
      "quadr gamma =  0.0153103429261\n",
      "iter_num =  40\n",
      "[ 0.78457827 -0.00837506  0.61997323]\n",
      "case quadr\n",
      "quadr gamma =  0.0368713327776\n",
      "iter_num =  41\n",
      "[ 0.77939184 -0.00642828  0.62650382]\n",
      "case quadr\n",
      "quadr gamma =  0.00792296597938\n",
      "iter_num =  42\n",
      "[ 0.77833774 -0.0075113   0.62780088]\n",
      "case quadr\n",
      "quadr gamma =  0.0651625625458\n",
      "iter_num =  43\n",
      "[ 0.76977973 -0.00929345  0.63824196]\n",
      "case quadr\n",
      "quadr gamma =  0.00559888875572\n",
      "iter_num =  44\n",
      "[ 0.76914469 -0.0084006   0.63901946]\n",
      "case quadr\n",
      "quadr gamma =  0.0167050705062\n",
      "iter_num =  45\n",
      "[ 0.76724919 -0.00721725  0.6413085 ]\n",
      "case quadr\n",
      "quadr gamma =  0.0287603311043\n",
      "iter_num =  46\n",
      "[ 0.76404421 -0.00852888  0.64510752]\n",
      "case quadr\n",
      "quadr gamma =  0.0103895357667\n",
      "iter_num =  47\n",
      "[ 0.7629622  -0.00760648  0.64639835]\n",
      "case quadr\n",
      "quadr gamma =  0.122767202764\n",
      "iter_num =  48\n",
      "[ 0.75015729 -0.00789657  0.66121229]\n",
      "case quadr\n",
      "quadr gamma =  0.022461093428\n",
      "iter_num =  49\n",
      "[ 0.74837248 -0.0070097   0.66324166]\n",
      "case quadr\n",
      "quadr gamma =  0.0150683400502\n",
      "iter_num =  50\n",
      "[ 0.74721279 -0.00772416  0.66453998]\n",
      "case quadr\n",
      "quadr gamma =  0.0386824386858\n",
      "iter_num =  51\n",
      "[ 0.74434252 -0.00674951  0.66776392]\n",
      "case quadr\n",
      "quadr gamma =  0.00758595060118\n",
      "iter_num =  52\n",
      "[ 0.74381457 -0.00727593  0.66834643]\n",
      "case quadr\n",
      "quadr gamma =  0.0539399673681\n",
      "iter_num =  53\n",
      "[ 0.74013147 -0.00815088  0.6724128 ]\n",
      "case quadr\n",
      "quadr gamma =  0.00604073254552\n",
      "iter_num =  54\n",
      "[ 0.73976771 -0.00769805  0.6728183 ]\n",
      "case quadr\n",
      "quadr gamma =  0.0216717908718\n",
      "iter_num =  55\n",
      "[ 0.73846638 -0.00704693  0.67425347]\n",
      "case quadr\n",
      "quadr gamma =  0.0160734700012\n",
      "iter_num =  56\n",
      "[ 0.73753108 -0.00758962  0.67527054]\n",
      "case quadr\n",
      "quadr gamma =  0.0319616025859\n",
      "iter_num =  57\n",
      "[ 0.73574431 -0.00690429  0.67722422]\n",
      "case quadr\n",
      "quadr gamma =  0.00915759687345\n",
      "iter_num =  58\n",
      "[ 0.73525813 -0.00731913  0.67774767]\n",
      "case quadr\n",
      "quadr gamma =  0.111552867657\n",
      "iter_num =  59\n",
      "[ 0.72946192 -0.00769016  0.6839782 ]\n",
      "case quadr\n",
      "quadr gamma =  0.00787187666109\n",
      "iter_num =  60\n",
      "[ 0.72914572 -0.00737861  0.6843187 ]\n",
      "case quadr\n",
      "quadr gamma =  0.0633234694453\n",
      "iter_num =  61\n",
      "[ 0.72661716 -0.00682527  0.68700867]\n",
      "case quadr\n",
      "quadr gamma =  0.00564551674975\n",
      "iter_num =  62\n",
      "[ 0.72641689 -0.00707404  0.68721791]\n",
      "case quadr\n",
      "quadr gamma =  0.0171644185153\n",
      "iter_num =  63\n",
      "[ 0.72581862 -0.00739991  0.68784633]\n",
      "case quadr\n",
      "quadr gamma =  0.0267737760438\n",
      "iter_num =  64\n",
      "[ 0.72492519 -0.00701974  0.68879183]\n",
      "case quadr\n",
      "quadr gamma =  0.0114285794865\n",
      "iter_num =  65\n",
      "[ 0.72455968 -0.00728171  0.6891736 ]\n",
      "case quadr\n",
      "quadr gamma =  0.0991211907969\n",
      "iter_num =  66\n",
      "[ 0.72148083 -0.00692093  0.69239982]\n",
      "case quadr\n",
      "quadr gamma =  0.0060393409204\n",
      "iter_num =  67\n",
      "[ 0.72132802 -0.00709823  0.69255722]\n",
      "case quadr\n",
      "quadr gamma =  0.0216522546106\n",
      "iter_num =  68\n",
      "[ 0.72079025 -0.00734664  0.6931143 ]\n",
      "case quadr\n",
      "quadr gamma =  0.0160989435425\n",
      "iter_num =  69\n",
      "[ 0.7204115  -0.00712278  0.6935103 ]\n",
      "case quadr\n",
      "quadr gamma =  0.0318160597571\n",
      "iter_num =  70\n",
      "[ 0.71967955 -0.00738051  0.69426714]\n",
      "case quadr\n",
      "quadr gamma =  0.00920377260617\n",
      "iter_num =  71\n",
      "[ 0.71948355 -0.00721112  0.69447204]\n",
      "case quadr\n",
      "quadr gamma =  0.112971173805\n",
      "iter_num =  72\n",
      "[ 0.71709971 -0.00702347  0.6969352 ]\n",
      "case quadr\n",
      "quadr gamma =  0.00832295568092\n",
      "iter_num =  73\n",
      "[ 0.71696208 -0.00714598  0.69707555]\n",
      "case quadr\n",
      "quadr gamma =  0.0801425019519\n",
      "iter_num =  74\n",
      "[ 0.71566763 -0.00733267  0.69840251]\n",
      "case quadr\n",
      "quadr gamma =  0.00544515830169\n",
      "iter_num =  75\n",
      "[ 0.71559476 -0.00723665  0.69847818]\n",
      "case quadr\n",
      "quadr gamma =  0.0152580743313\n",
      "iter_num =  76\n",
      "[ 0.71539128 -0.00711299  0.69868785]\n",
      "case quadr\n",
      "quadr gamma =  0.0372214505539\n",
      "iter_num =  77\n",
      "[ 0.71490538 -0.007264    0.69918348]\n",
      "case quadr\n",
      "quadr gamma =  0.00784936946493\n",
      "iter_num =  78\n",
      "[ 0.7148117  -0.0071735   0.69928019]\n",
      "case quadr\n",
      "quadr gamma =  0.0625404228215\n",
      "iter_num =  79\n",
      "[ 0.71407116 -0.00701261  0.700038  ]\n",
      "case quadr\n",
      "quadr gamma =  0.00566893405707\n",
      "iter_num =  80\n",
      "[ 0.71401153 -0.00708503  0.7000981 ]\n",
      "case quadr\n",
      "quadr gamma =  0.0174021036628\n",
      "iter_num =  81\n",
      "[ 0.71383175 -0.00718028  0.70028043]\n",
      "case quadr\n",
      "quadr gamma =  0.0258516176489\n",
      "iter_num =  82\n",
      "[ 0.71357639 -0.00707091  0.70054175]\n",
      "case quadr\n",
      "quadr gamma =  0.0120162719382\n",
      "iter_num =  83\n",
      "[ 0.71346252 -0.00714842  0.70065693]\n",
      "case quadr\n",
      "quadr gamma =  0.0840066467716\n",
      "iter_num =  84\n",
      "[ 0.7126919  -0.00702964  0.70144197]\n",
      "case quadr\n",
      "quadr gamma =  0.00547927274421\n",
      "iter_num =  85\n",
      "[ 0.71264944 -0.00708275  0.70148457]\n",
      "case quadr\n",
      "quadr gamma =  0.0155666310846\n",
      "iter_num =  86\n",
      "[ 0.71253094 -0.00715029  0.70160426]\n",
      "case quadr\n",
      "quadr gamma =  0.0350561770252\n",
      "iter_num =  87\n",
      "[ 0.71227471 -0.00706148  0.70186528]\n",
      "case quadr\n",
      "quadr gamma =  0.00830967602498\n",
      "iter_num =  88\n",
      "[ 0.71221751 -0.0071121   0.70192282]\n",
      "case quadr\n",
      "quadr gamma =  0.0796213261515\n",
      "iter_num =  89\n",
      "[ 0.71168247 -0.00718949  0.7024645 ]\n",
      "case quadr\n",
      "quadr gamma =  0.0054429410266\n",
      "iter_num =  90\n",
      "[ 0.71165214 -0.00714975  0.70249563]\n",
      "case quadr\n",
      "quadr gamma =  0.015238190363\n",
      "iter_num =  91\n",
      "[ 0.71156755 -0.00709858  0.70258184]\n",
      "case quadr\n",
      "quadr gamma =  0.0373689538915\n",
      "iter_num =  92\n",
      "[ 0.71136455 -0.00716113  0.70278674]\n",
      "case quadr\n",
      "quadr gamma =  0.00782110052331\n",
      "iter_num =  93\n",
      "[ 0.71132572 -0.00712371  0.70282641]\n",
      "case quadr\n",
      "quadr gamma =  0.0615704604281\n",
      "iter_num =  94\n",
      "[ 0.71102261 -0.00705716  0.70313373]\n",
      "case quadr\n",
      "quadr gamma =  0.00570031345032\n",
      "iter_num =  95\n",
      "[ 0.71099763 -0.00708721  0.70315868]\n",
      "case quadr\n",
      "quadr gamma =  0.0177264150534\n",
      "iter_num =  96\n",
      "[ 0.71092137 -0.00712694  0.70323539]\n",
      "case quadr\n",
      "quadr gamma =  0.0246908222316\n",
      "iter_num =  97\n",
      "[ 0.7108199  -0.0070823   0.70333841]\n",
      "case quadr\n",
      "quadr gamma =  0.0128789216977\n",
      "iter_num =  98\n",
      "[ 0.71076901 -0.0071152   0.7033895 ]\n",
      "case quadr\n",
      "quadr gamma =  0.0656470040923\n",
      "iter_num =  99\n",
      "[ 0.71051852 -0.0070636   0.70364305]\n",
      "case quadr\n",
      "quadr gamma =  0.00558330884589\n",
      "iter_num =  100\n",
      "[ 0.71049973 -0.00708662  0.70366179]\n",
      "case quadr\n",
      "quadr gamma =  0.0165475385464\n",
      "iter_num =  101\n",
      "[ 0.71044505 -0.00711644  0.7037167 ]\n",
      "case quadr\n",
      "quadr gamma =  0.0294887593576\n",
      "iter_num =  102\n",
      "[ 0.7103517  -0.00708004  0.70381129]\n",
      "case quadr\n",
      "quadr gamma =  0.0100646441576\n",
      "iter_num =  103\n",
      "[ 0.71032137 -0.00710331  0.70384167]\n",
      "case quadr\n",
      "quadr gamma =  0.125471014053\n",
      "iter_num =  104\n",
      "[ 0.7099538  -0.00709763  0.70421248]\n",
      "case quadr\n",
      "quadr gamma =  0.108340574446\n",
      "iter_num =  105\n",
      "[ 0.70971568 -0.00711443  0.70445229]\n",
      "case quadr\n",
      "quadr gamma =  0.00712515119281\n",
      "iter_num =  106\n",
      "[ 0.70970354 -0.00710187  0.70446465]\n",
      "case quadr\n",
      "quadr gamma =  0.0412385612578\n",
      "iter_num =  107\n",
      "[ 0.70963377 -0.00708048  0.70453515]\n",
      "case quadr\n",
      "quadr gamma =  0.00719210744468\n",
      "iter_num =  108\n",
      "[ 0.70962246 -0.00709163  0.70454644]\n",
      "case quadr\n",
      "quadr gamma =  0.0428978213476\n",
      "iter_num =  109\n",
      "[ 0.70955642 -0.00710982  0.70461275]\n",
      "case quadr\n",
      "quadr gamma =  0.0069762591045\n",
      "iter_num =  110\n",
      "[ 0.70954674 -0.00709963  0.70462261]\n",
      "case quadr\n",
      "quadr gamma =  0.0377629002343\n",
      "iter_num =  111\n",
      "[ 0.70949465 -0.00708258  0.70467523]\n",
      "case quadr\n",
      "quadr gamma =  0.00774741405388\n",
      "iter_num =  112\n",
      "[ 0.70948464 -0.00709189  0.70468521]\n",
      "case quadr\n",
      "quadr gamma =  0.0590933973853\n",
      "iter_num =  113\n",
      "[ 0.70941005 -0.00710728  0.70476015]\n",
      "case quadr\n",
      "quadr gamma =  0.00579151757932\n",
      "iter_num =  114\n",
      "[ 0.7094037  -0.00709944  0.70476662]\n",
      "case quadr\n",
      "quadr gamma =  0.0187046797513\n",
      "iter_num =  115\n",
      "[ 0.70938326 -0.00708867  0.7047873 ]\n",
      "case quadr\n",
      "quadr gamma =  0.0217473062638\n",
      "iter_num =  116\n",
      "[ 0.70936017 -0.00709912  0.70481044]\n",
      "case quadr\n",
      "quadr gamma =  0.0159688582675\n",
      "iter_num =  117\n",
      "[ 0.70934411 -0.00708974  0.70482669]\n",
      "case quadr\n",
      "quadr gamma =  0.0325553539078\n",
      "iter_num =  118\n",
      "[ 0.70931214 -0.00710063  0.70485876]\n",
      "case quadr\n",
      "quadr gamma =  0.00897308599158\n",
      "iter_num =  119\n",
      "[ 0.70930399 -0.00709357  0.70486703]\n",
      "case quadr\n",
      "quadr gamma =  0.105340679377\n",
      "iter_num =  120\n",
      "[ 0.70920944 -0.00708421  0.70496226]\n",
      "case quadr\n",
      "quadr gamma =  0.00665071175101\n",
      "iter_num =  121\n",
      "[ 0.70920467 -0.00708922  0.70496701]\n",
      "case quadr\n",
      "quadr gamma =  0.0311235893548\n",
      "iter_num =  122\n",
      "[ 0.7091828  -0.00709692  0.70498893]\n",
      "case quadr\n",
      "quadr gamma =  0.00943679438126\n",
      "iter_num =  123\n",
      "[ 0.70917665 -0.00709178  0.70499517]\n",
      "case quadr\n",
      "quadr gamma =  0.119143734051\n",
      "iter_num =  124\n",
      "[ 0.70909997 -0.0070874   0.70507234]\n",
      "case quadr\n",
      "quadr gamma =  0.0125288320264\n",
      "iter_num =  125\n",
      "[ 0.70909378 -0.00709147  0.70507853]\n",
      "case quadr\n",
      "quadr gamma =  0.0724615812149\n",
      "iter_num =  126\n",
      "[ 0.70905917 -0.00708507  0.7051134 ]\n",
      "case quadr\n",
      "quadr gamma =  0.00546722778823\n",
      "iter_num =  127\n",
      "[ 0.7090569  -0.00708789  0.70511565]\n",
      "case quadr\n",
      "quadr gamma =  0.0154569391787\n",
      "iter_num =  128\n",
      "[ 0.70905061 -0.00709148  0.70512194]\n",
      "case quadr\n",
      "quadr gamma =  0.0357994021621\n",
      "iter_num =  129\n",
      "[ 0.70903661 -0.00708672  0.70513606]\n",
      "case quadr\n",
      "quadr gamma =  0.00814135776448\n",
      "iter_num =  130\n",
      "[ 0.70903362 -0.0070894   0.70513904]\n",
      "case quadr\n",
      "quadr gamma =  0.0731298054451\n",
      "iter_num =  131\n",
      "[ 0.70900738 -0.00709365  0.70516538]\n",
      "case quadr\n",
      "quadr gamma =  0.00546077735976\n",
      "iter_num =  132\n",
      "[ 0.70900573 -0.0070915   0.70516706]\n",
      "case quadr\n",
      "quadr gamma =  0.0153985286153\n",
      "iter_num =  133\n",
      "[ 0.7090011  -0.00708873  0.70517175]\n",
      "case quadr\n",
      "quadr gamma =  0.0362068414554\n",
      "iter_num =  134\n",
      "[ 0.70899045 -0.00709208  0.70518242]\n",
      "case quadr\n",
      "quadr gamma =  0.00805385260006\n",
      "iter_num =  135\n",
      "[ 0.70898827 -0.00709004  0.70518463]\n",
      "case quadr\n",
      "quadr gamma =  0.0698545411206\n",
      "iter_num =  136\n",
      "[ 0.70896962 -0.00708645  0.70520342]\n",
      "case quadr\n",
      "quadr gamma =  0.0055006508439\n",
      "iter_num =  137\n",
      "[ 0.70896833 -0.00708804  0.70520469]\n",
      "case quadr\n",
      "quadr gamma =  0.0157632259233\n",
      "iter_num =  138\n",
      "[ 0.70896472 -0.00709007  0.7052083 ]\n",
      "case quadr\n",
      "quadr gamma =  0.0337916335818\n",
      "iter_num =  139\n",
      "[ 0.7089573  -0.00708744  0.7052158 ]\n",
      "case quadr\n",
      "quadr gamma =  0.00862468463583\n",
      "iter_num =  140\n",
      "[ 0.70895551 -0.00708897  0.70521758]\n",
      "case quadr\n",
      "quadr gamma =  0.0920996939915\n",
      "iter_num =  141\n",
      "[ 0.70893688 -0.00709106  0.70523629]\n",
      "case quadr\n",
      "quadr gamma =  0.00567290517901\n",
      "iter_num =  142\n",
      "[ 0.70893595 -0.0070899   0.70523723]\n",
      "case quadr\n",
      "quadr gamma =  0.0174427741273\n",
      "iter_num =  143\n",
      "[ 0.70893312 -0.00708834  0.70524009]\n",
      "case quadr\n",
      "quadr gamma =  0.0257000983104\n",
      "iter_num =  144\n",
      "[ 0.70892906 -0.00708998  0.70524415]\n",
      "case quadr\n",
      "quadr gamma =  0.0121205207139\n",
      "iter_num =  145\n",
      "[ 0.70892727 -0.00708871  0.70524597]\n",
      "case quadr\n",
      "quadr gamma =  0.0815119543339\n",
      "iter_num =  146\n",
      "[ 0.70891538 -0.00709037  0.7052579 ]\n",
      "case quadr\n",
      "quadr gamma =  0.00545350991712\n",
      "iter_num =  147\n",
      "[ 0.70891472 -0.00708951  0.70525857]\n",
      "case quadr\n",
      "quadr gamma =  0.0153329889466\n",
      "iter_num =  148\n",
      "[ 0.70891289 -0.00708841  0.70526043]\n",
      "case quadr\n",
      "quadr gamma =  0.0366739760291\n",
      "iter_num =  149\n",
      "[ 0.70890858 -0.00708975  0.70526474]\n",
      "case quadr\n",
      "quadr gamma =  0.00795740236633\n",
      "iter_num =  150\n",
      "[ 0.70890773 -0.00708894  0.70526561]\n",
      "case quadr\n",
      "quadr gamma =  0.0663411830894\n",
      "iter_num =  151\n",
      "[ 0.70890067 -0.0070875   0.70527271]\n",
      "case quadr\n",
      "quadr gamma =  0.0055671253807\n",
      "iter_num =  152\n",
      "[ 0.70890015 -0.00708814  0.70527323]\n"
     ]
    }
   ],
   "source": [
    "x0 = np.array([0., 1., 0.])\n",
    "xs = []\n",
    "fs = []\n",
    "x = method(A, x0, 1)"
   ]
  },
  {
   "cell_type": "code",
   "execution_count": 30,
   "metadata": {
    "collapsed": false
   },
   "outputs": [
    {
     "name": "stdout",
     "output_type": "stream",
     "text": [
      "f* =  -0.00501223963712\n",
      "x* =  [ 0.70890015 -0.00708814  0.70527323]\n",
      "norm check:  1.0\n"
     ]
    }
   ],
   "source": [
    "print 'f* = ', x.dot(np.dot(A,x))\n",
    "print 'x* = ', x\n",
    "print 'norm check: ', np.linalg.norm(x)"
   ]
  },
  {
   "cell_type": "code",
   "execution_count": 31,
   "metadata": {
    "collapsed": false,
    "scrolled": false
   },
   "outputs": [
    {
     "data": {
      "image/png": "[encoded data removed]",
      "text/plain": [
       "<matplotlib.figure.Figure at 0x79df080>"
      ]
     },
     "metadata": {},
     "output_type": "display_data"
    }
   ],
   "source": [
    "fstar = fs[np.argmin(fs)]\n",
    "fminfstar = fs - np.ones(len(fs)) * fstar\n",
    "logf = np.log(np.hstack((fminfstar[:np.argmin(fs)], fminfstar[np.argmin(fs) + 1:])))\n",
    "\n",
    "plt.figure()\n",
    "plt.scatter(range(len(logf)), logf)\n",
    "plt.xlabel('iteration number')\n",
    "plt.ylabel('log(f)')\n",
    "plt.title('semilog')\n",
    "plt.show()"
   ]
  },
  {
   "cell_type": "markdown",
   "metadata": {},
   "source": [
    "# Начальная точка (-1, 1, 3)"
   ]
  },
  {
   "cell_type": "code",
   "execution_count": 32,
   "metadata": {
    "collapsed": false,
    "scrolled": false
   },
   "outputs": [
    {
     "name": "stdout",
     "output_type": "stream",
     "text": [
      "case quadr\n",
      "quadr gamma =  0.00247177816264\n",
      "iter_num =  0\n",
      "[-0.30636981  0.23312799  0.92292409]\n",
      "case quadr\n",
      "quadr gamma =  0.00253940177566\n",
      "iter_num =  20\n",
      "[-0.19927049  0.04452322  0.97893256]\n",
      "case quadr\n",
      "quadr gamma =  0.00250673898915\n",
      "iter_num =  40\n",
      "[-0.72152578  0.01238341 -0.69227683]\n",
      "case quadr\n",
      "quadr gamma =  0.00553382224897\n",
      "iter_num =  60\n",
      "[-0.71431783  0.00708163 -0.69978561]\n",
      "case quadr\n",
      "quadr gamma =  0.0625516809767\n",
      "iter_num =  80\n",
      "[-0.70982991  0.00712217 -0.70433711]\n",
      "case quadr\n",
      "quadr gamma =  0.125384337216\n",
      "iter_num =  100\n",
      "[-0.70911817  0.00709027 -0.70505401]\n",
      "case quadr\n",
      "quadr gamma =  0.0160442196295\n",
      "iter_num =  120\n",
      "[-0.70892189  0.0070884  -0.70525138]\n"
     ]
    }
   ],
   "source": [
    "x0 = np.array([-1., 1., 3.])\n",
    "xs = []\n",
    "fs = []\n",
    "x = method(A, x0, 20)"
   ]
  },
  {
   "cell_type": "code",
   "execution_count": 33,
   "metadata": {
    "collapsed": false
   },
   "outputs": [
    {
     "name": "stdout",
     "output_type": "stream",
     "text": [
      "f* =  -0.00501224083861\n",
      "x* =  [-0.70889679  0.00708897 -0.7052766 ]\n",
      "norm check:  1.0\n"
     ]
    }
   ],
   "source": [
    "print 'f* = ', x.dot(np.dot(A,x))\n",
    "print 'x* = ', x\n",
    "print 'norm check: ', np.linalg.norm(x)"
   ]
  },
  {
   "cell_type": "code",
   "execution_count": 34,
   "metadata": {
    "collapsed": true
   },
   "outputs": [
    {
     "data": {
      "image/png": "[encoded data removed]",
      "text/plain": [
       "<matplotlib.figure.Figure at 0x7cf6be0>"
      ]
     },
     "metadata": {},
     "output_type": "display_data"
    }
   ],
   "source": [
    "fstar = fs[np.argmin(fs)]\n",
    "fminfstar = fs - np.ones(len(fs)) * fstar\n",
    "logf = np.log(fminfstar[:len(fs) - 1])\n",
    "\n",
    "plt.figure()\n",
    "plt.scatter(range(len(logf)), logf)\n",
    "plt.xlabel('iteration number')\n",
    "plt.ylabel('log(f)')\n",
    "plt.title('semilog')\n",
    "plt.show()"
   ]
  },
  {
   "cell_type": "markdown",
   "metadata": {},
   "source": [
    "# Начальная точка (-1, -30, 3)"
   ]
  },
  {
   "cell_type": "code",
   "execution_count": 35,
   "metadata": {
    "collapsed": true
   },
   "outputs": [
    {
     "name": "stdout",
     "output_type": "stream",
     "text": [
      "case quadr\n",
      "there is no suitable gamma. shaking point\n",
      "case quadr\n",
      "quadr gamma =  0.00246272249405\n",
      "iter_num =  0\n",
      "[ 0.69764017  0.15080108 -0.70039791]\n",
      "case quadr\n",
      "quadr gamma =  0.00246328646795\n",
      "iter_num =  20\n",
      "[ 0.7048545  -0.00657462 -0.70932145]\n",
      "case quadr\n",
      "quadr gamma =  0.00569074568494\n",
      "iter_num =  40\n",
      "[-0.94883236  0.01255932 -0.31553036]\n",
      "case quadr\n",
      "quadr gamma =  0.0928859678425\n",
      "iter_num =  60\n",
      "[-0.79359155  0.005759   -0.6084236 ]\n",
      "case quadr\n",
      "quadr gamma =  0.0364249654098\n",
      "iter_num =  80\n",
      "[-0.74094165  0.00802242 -0.67152149]\n",
      "case quadr\n",
      "quadr gamma =  0.0170111643756\n",
      "iter_num =  100\n",
      "[-0.71671426  0.00723118 -0.69732946]\n",
      "case quadr\n",
      "quadr gamma =  0.00773216608735\n",
      "iter_num =  120\n",
      "[-0.71103668  0.00712001 -0.70311887]\n",
      "case quadr\n",
      "quadr gamma =  0.0453127215201\n",
      "iter_num =  140\n",
      "[-0.7094603   0.00710726 -0.70470956]\n",
      "case quadr\n",
      "quadr gamma =  0.00829456710812\n",
      "iter_num =  160\n",
      "[-0.70898277  0.0070899  -0.70519016]\n",
      "case quadr\n",
      "quadr gamma =  0.0169867730615\n",
      "iter_num =  180\n",
      "[-0.70889874  0.00708899 -0.70527465]\n"
     ]
    }
   ],
   "source": [
    "x0 = np.array([-1., -30., 3.])\n",
    "xs = []\n",
    "fs = []\n",
    "x = method(A, x0, 20)"
   ]
  },
  {
   "cell_type": "code",
   "execution_count": 36,
   "metadata": {
    "collapsed": false
   },
   "outputs": [
    {
     "name": "stdout",
     "output_type": "stream",
     "text": [
      "f* =  -0.00501224408385\n",
      "x* =  [-0.7088859   0.00708835 -0.70528756]\n",
      "norm check:  1.0\n"
     ]
    }
   ],
   "source": [
    "print 'f* = ', x.dot(np.dot(A,x))\n",
    "print 'x* = ', x\n",
    "print 'norm check: ', np.linalg.norm(x)"
   ]
  },
  {
   "cell_type": "code",
   "execution_count": 37,
   "metadata": {
    "collapsed": false,
    "scrolled": false
   },
   "outputs": [
    {
     "data": {
      "image/png": "[encoded data removed]",
      "text/plain": [
       "<matplotlib.figure.Figure at 0x7d4d2b0>"
      ]
     },
     "metadata": {},
     "output_type": "display_data"
    }
   ],
   "source": [
    "fstar = fs[np.argmin(fs)]\n",
    "fminfstar = fs - np.ones(len(fs)) * fstar\n",
    "logf = np.log(fminfstar[:len(fs) - 1])\n",
    "\n",
    "plt.figure()\n",
    "plt.scatter(range(len(logf)), logf)\n",
    "plt.xlabel('iteration number')\n",
    "plt.ylabel('log(f)')\n",
    "plt.title('semilog')\n",
    "plt.show()"
   ]
  },
  {
   "cell_type": "markdown",
   "metadata": {},
   "source": [
    "# Начальная точка (9, -30, 3)"
   ]
  },
  {
   "cell_type": "code",
   "execution_count": 38,
   "metadata": {
    "collapsed": false,
    "scrolled": true
   },
   "outputs": [
    {
     "name": "stdout",
     "output_type": "stream",
     "text": [
      "case quadr\n",
      "there is no suitable gamma. shaking point\n",
      "case quadr\n",
      "quadr gamma =  0.00249886168756\n",
      "iter_num =  0\n",
      "[-0.81562032  0.21491278 -0.53719269]\n",
      "case quadr\n",
      "quadr gamma =  0.00766398240433\n",
      "iter_num =  20\n",
      "[-0.78638093  0.00750935 -0.61769624]\n",
      "case quadr\n",
      "quadr gamma =  0.00552666952633\n",
      "iter_num =  40\n",
      "[-0.73481869  0.00765457 -0.67822039]\n",
      "case quadr\n",
      "quadr gamma =  0.00565019287283\n",
      "iter_num =  60\n",
      "[-0.71658357  0.00725145 -0.69746355]\n",
      "case quadr\n",
      "quadr gamma =  0.045659691111\n",
      "iter_num =  80\n",
      "[-0.71088227  0.00715227 -0.70327465]\n",
      "case quadr\n",
      "quadr gamma =  0.0265907750977\n",
      "iter_num =  100\n",
      "[-0.70926294  0.00709816 -0.70490829]\n",
      "case quadr\n",
      "quadr gamma =  0.0165152550424\n",
      "iter_num =  120\n",
      "[-0.7089309   0.00708839 -0.70524232]\n"
     ]
    }
   ],
   "source": [
    "x0 = np.array([9., -30., 3.])\n",
    "xs = []\n",
    "fs = []\n",
    "x = method(A, x0, 20)"
   ]
  },
  {
   "cell_type": "code",
   "execution_count": 39,
   "metadata": {
    "collapsed": false
   },
   "outputs": [
    {
     "name": "stdout",
     "output_type": "stream",
     "text": [
      "f* =  -0.00501224606155\n",
      "x* =  [-0.70887677  0.0070884  -0.70529673]\n",
      "norm check:  1.0\n"
     ]
    }
   ],
   "source": [
    "print 'f* = ', x.dot(np.dot(A,x))\n",
    "print 'x* = ', x\n",
    "print 'norm check: ', np.linalg.norm(x)"
   ]
  },
  {
   "cell_type": "code",
   "execution_count": 40,
   "metadata": {
    "collapsed": false,
    "scrolled": false
   },
   "outputs": [
    {
     "data": {
      "image/png": "[encoded data removed]",
      "text/plain": [
       "<matplotlib.figure.Figure at 0x7c07c50>"
      ]
     },
     "metadata": {},
     "output_type": "display_data"
    }
   ],
   "source": [
    "fstar = fs[np.argmin(fs)]\n",
    "fminfstar = fs - np.ones(len(fs)) * fstar\n",
    "logf = np.log(fminfstar[:len(fs) - 1])\n",
    "\n",
    "plt.figure()\n",
    "plt.scatter(range(len(logf)), logf)\n",
    "plt.xlabel('iteration number')\n",
    "plt.ylabel('log(f)')\n",
    "plt.title('semilog')\n",
    "plt.show()"
   ]
  },
  {
   "cell_type": "code",
   "execution_count": 23,
   "metadata": {
    "collapsed": false
   },
   "outputs": [
    {
     "name": "stdout",
     "output_type": "stream",
     "text": [
      "3\n",
      "[ 0.08649314  2.4323584  -1.71065635]\n"
     ]
    }
   ],
   "source": [
    "print A.shape[0]\n",
    "print np.random.randn(3)"
   ]
  }
 ],
 "metadata": {
  "kernelspec": {
   "display_name": "Python [Root]",
   "language": "python",
   "name": "Python [Root]"
  },
  "language_info": {
   "codemirror_mode": {
    "name": "ipython",
    "version": 2
   },
   "file_extension": ".py",
   "mimetype": "text/x-python",
   "name": "python",
   "nbconvert_exporter": "python",
   "pygments_lexer": "ipython2",
   "version": "2.7.12"
  }
 },
 "nbformat": 4,
 "nbformat_minor": 1
}
