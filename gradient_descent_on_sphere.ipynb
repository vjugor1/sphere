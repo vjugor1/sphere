{
 "cells": [
  {
   "cell_type": "markdown",
   "metadata": {},
   "source": [
    "# Наискорейший спуск на сфере\n",
    "## Постановка задачи\n",
    "$$\\underset{\\| x \\|^2 - 1 = 0}{min} f(x) = x^T A x$$\n"
   ]
  },
  {
   "cell_type": "code",
   "execution_count": 77,
   "metadata": {
    "collapsed": true
   },
   "outputs": [],
   "source": [
    "import numpy as np\n",
    "from matplotlib import pyplot as plt\n",
    "%matplotlib inline"
   ]
  },
  {
   "cell_type": "markdown",
   "metadata": {},
   "source": [
    "## В следующей ячейке в первой строке задается матрица квадратичной формы.\n",
    "### Далее заранее обсчитываются квадрат и куб этой матрицы, задается начальное приближение, потом сразу же проецируется на сферу."
   ]
  },
  {
   "cell_type": "code",
   "execution_count": 104,
   "metadata": {},
   "outputs": [],
   "source": [
    "A = np.array([[1., 1., -1.], [1., 100., 0], [-1.,0,1.]])"
   ]
  },
  {
   "cell_type": "code",
   "execution_count": 105,
   "metadata": {},
   "outputs": [
    {
     "name": "stdout",
     "output_type": "stream",
     "text": [
      "[[   1.    1.   -1.]\n",
      " [   1.  100.    0.]\n",
      " [  -1.    0.    1.]]\n"
     ]
    }
   ],
   "source": [
    "print A\n"
   ]
  },
  {
   "cell_type": "markdown",
   "metadata": {},
   "source": [
    "## В следующей ячейке задается функция, которая возвращает значение второй производной целевой функции при выборе шага (см pdf)\n",
    "$$F'' = \\frac{\\gamma^3 (-2a_2\\widehat{a_2} )+ \\gamma^2 (-3a_2\\widehat{a_1}) + \\gamma(2\\widehat{a_2}a_0 - 4a_2\\widehat{a_0} + 2a_1\\widehat{a_1}) + \\widehat{a_1}a_0 + 4a_1\\widehat{a_0}}{(\\gamma^2 a_2 - 2\\gamma a_1 + a_0)^3},$$\n",
    "\n",
    "\n",
    "$$a_i = {x^k}^T A^i x^k, i = 0,1,2,3$$\n"
   ]
  },
  {
   "cell_type": "code",
   "execution_count": 106,
   "metadata": {
    "collapsed": true
   },
   "outputs": [],
   "source": [
    "def F2(gamma, a2, a2t, a1t, a0, a0t, a1):\n",
    "    return (gamma**3 * (-2.*a2*a2t) + gamma**2 * (-3. * a2 * a1t) + gamma * (2.*a2t * a0 - 4. * a2 * a0t + 2. * a1 * a1t) + a1t * a0 + 4. * a1 * a0t) / ((a2 * gamma**2 - 2. * gamma * a1 + a0)**3)"
   ]
  },
  {
   "cell_type": "markdown",
   "metadata": {},
   "source": [
    "# Далее идет сам метод\n",
    "Шаги вычисляются в соответствии с написанным в статье, с подстраховской на тот случай, если коэффициент при $\\gamma^2$ обратится в ноль (помечено \"!\")"
   ]
  },
  {
   "cell_type": "code",
   "execution_count": 107,
   "metadata": {
    "scrolled": true
   },
   "outputs": [],
   "source": [
    "def method(A, x0, print_rate):\n",
    "    x = x0 / np.linalg.norm(x0)\n",
    "    A_sq = A.dot(A)\n",
    "    A_th = A.dot(A_sq)\n",
    "    notenough = True\n",
    "    prevx = x\n",
    "    i = 0\n",
    "    while(notenough):\n",
    "        a0 = x.T.dot(x)\n",
    "        a1 = x.T.dot(np.dot(A,x))\n",
    "        a2 = x.T.dot(np.dot(A_sq,x))\n",
    "        a3 = x.T.dot(np.dot(A_th,x))\n",
    "        a2t = a2**2 - a3 * a1\n",
    "        a1t = a3 * a0 - a2 * a1\n",
    "        a0t = a1**2 - a0 * a2\n",
    "        \"\"\"\n",
    "        print a0\n",
    "        print a1\n",
    "        print a2\n",
    "        print a3\n",
    "        print '_____'\n",
    "        print a2t\n",
    "        print a1t\n",
    "        print a0t\n",
    "        \"\"\"\n",
    "        if (a2**2 - a3 * a1) != 0:\n",
    "            if i % print_rate == 0:\n",
    "                print 'case quadr'\n",
    "            gamma1 = ((a2 * a1 - a3 * a0) + np.sqrt((a2 * a1 - a3 * a0)**2 - 4. * (a2**2 - a3 * a1)*(a1**2 - a0 * a2)))/2. / (a2**2 - a3 * a1)\n",
    "            gamma2 = ((a2 * a1 - a3 * a0) - np.sqrt((a2 * a1 - a3 * a0)**2 - 4. * (a2**2 - a3 * a1)*(a1**2 - a0 * a2)))/2. / (a2**2 - a3 * a1)\n",
    "            gamma_list = []\n",
    "            print 'gamma1 = ', gamma1\n",
    "            print 'gamma2 = ', gamma2\n",
    "            print 'F2(gamma1) = ', F2(gamma1, a2, a2t, a1t, a0, a0t, a1)\n",
    "            print 'F2(gamma2) = ', F2(gamma2, a2, a2t, a1t, a0, a0t, a1)\n",
    "            for gamma in [gamma1, gamma2]:\n",
    "                if gamma >=0 and F2(gamma, a2, a2t, a1t, a0, a0t, a1) > 0:\n",
    "                    gamma_list.append(gamma)\n",
    "            #print 'gamma_list len = ', len(gamma_list)\n",
    "            if len(gamma_list) > 0:\n",
    "                final_gamma = gamma_list[np.random.randint(len(gamma_list))]\n",
    "            else:\n",
    "                print 'there is no suitable gamma. i quit'\n",
    "                return x\n",
    "                \"\"\"\n",
    "                final_gamma = np.random.rand(1) * 7. / 100.\n",
    "                if i % print_rate == 0:\n",
    "                    print 'there is no suitable gamma. choosing random from 0 to 0.1'\n",
    "                \"\"\"\n",
    "            if i % print_rate == 0:\n",
    "                print 'quadr gamma = ', final_gamma \n",
    "            x = (x - final_gamma * np.dot(A, x))/ np.linalg.norm(x - final_gamma * np.dot(A, x))\n",
    "        #!!!!!!!!!!!!!!!!!!!!!!!!!!!!!!!!!!!!!!!!!!!!!!!!!!!!!!!!!!!!!!!!!!!!!\n",
    "        if  (a2**2 - a3 * a1) == 0 and (a3 * a0 - a2 * a1) != 0:\n",
    "            if i % print_rate == 0:\n",
    "                print 'case linear'\n",
    "            gamma = (a1**2 - a0 * a2)/(a3 * a0 - a2 * a1)\n",
    "            if gamma > 0 and F2(gamma, a2, a2t, a1t, a0, a0t, a1) > 0:\n",
    "                    x = (x - gamma * np.dot(A, x))/ np.linalg.norm(x - gamma * np.dot(A, x))\n",
    "            else:\n",
    "                if i % print_rate == 0:\n",
    "                    print 'you got no suitable gamma'\n",
    "        if (a3 * a0 - a2 * a1) == 0 and (a2**2 - a3 * a1) == 0:\n",
    "            if i % print_rate == 0:\n",
    "                print 'you got rekt'\n",
    "                print 'iternum = ', i\n",
    "                print '(a3 * a0 - a2 * a1)', (a3 * a0 - a2 * a1)\n",
    "                print '(a2**2 - a3 * a1)', (a2**2 - a3 * a1)\n",
    "                return x\n",
    "        #!!!!!!!!!!!!!!!!!!!!!!!!!!!!!!!!!!!!!!!!!!!!!!!!!!!!!!!!!!!!!!!!!!!!    \n",
    "        if i % print_rate == 0:\n",
    "            print 'iter_num = ', i\n",
    "            print 'CURRENT X = ', x\n",
    "            print 'NORM = ', np.linalg.norm(x)\n",
    "        if (np.linalg.norm(x - prevx) < 1e-6):\n",
    "            notenough = False\n",
    "        else:\n",
    "            prevx = x\n",
    "        xs.append(x)\n",
    "        fs.append(x.dot(np.dot(A,x)))\n",
    "        i += 1\n",
    "    return x"
   ]
  },
  {
   "cell_type": "markdown",
   "metadata": {},
   "source": [
    "# Начальная точка (1, 0, 1)"
   ]
  },
  {
   "cell_type": "code",
   "execution_count": 82,
   "metadata": {
    "scrolled": true
   },
   "outputs": [
    {
     "name": "stdout",
     "output_type": "stream",
     "text": [
      "case quadr\n",
      "gamma1 =  0.111111111111\n",
      "gamma2 =  1.0\n",
      "F2(gamma1) =  820.125\n",
      "F2(gamma2) =  -0.125\n",
      "quadr gamma =  0.111111111111\n",
      "iter_num =  0\n",
      "CURRENT X =  [  1.00000000e+00   0.00000000e+00   3.53270803e-16]\n",
      "NORM =  1.0\n"
     ]
    }
   ],
   "source": [
    "x0 = np.array([1., 0., 1.])\n",
    "xs = []\n",
    "fs = []\n",
    "x = method(A, x0,3)"
   ]
  },
  {
   "cell_type": "code",
   "execution_count": 83,
   "metadata": {},
   "outputs": [
    {
     "name": "stdout",
     "output_type": "stream",
     "text": [
      "f* =  1.0\n",
      "x* =  [  1.00000000e+00   0.00000000e+00   3.53270803e-16]\n",
      "norm check:  1.0\n"
     ]
    }
   ],
   "source": [
    "print 'f* = ', x.dot(np.dot(A,x))\n",
    "print 'x* = ', x\n",
    "print 'norm check: ', np.linalg.norm(x)"
   ]
  },
  {
   "cell_type": "code",
   "execution_count": 111,
   "metadata": {
    "scrolled": true
   },
   "outputs": [
    {
     "data": {
      "image/png": "[encoded data removed]",
      "text/plain": [
       "<matplotlib.figure.Figure at 0x7f71c000ce50>"
      ]
     },
     "metadata": {},
     "output_type": "display_data"
    }
   ],
   "source": [
    "fstar = fs[np.argmin(fs)]\n",
    "fminfstar = fs - np.ones(len(fs)) * fstar\n",
    "logf = np.log(fminfstar[:len(fs) - 1])\n",
    "\n",
    "plt.figure()\n",
    "#plt.scatter(range(len(logf)), logf)\n",
    "plt.scatter(range(len(fs)), fs)\n",
    "plt.xlabel('iteration number')\n",
    "plt.ylabel('log(f)')\n",
    "plt.title('semilog')\n",
    "plt.show()"
   ]
  },
  {
   "cell_type": "markdown",
   "metadata": {},
   "source": [
    "# Начальная точка (0, 1, 0)"
   ]
  },
  {
   "cell_type": "code",
   "execution_count": 108,
   "metadata": {
    "scrolled": true
   },
   "outputs": [
    {
     "name": "stdout",
     "output_type": "stream",
     "text": [
      "case quadr\n",
      "gamma1 =  0.00999899010403\n",
      "gamma2 =  1.0102030301\n",
      "F2(gamma1) =  9904000301.09\n",
      "F2(gamma2) =  -9.8919641903e-07\n",
      "quadr gamma =  0.00999899010403\n",
      "iter_num =  0\n",
      "CURRENT X =  [-0.999949    0.01009946  0.        ]\n",
      "NORM =  1.0\n",
      "gamma1 =  0.50127530427\n",
      "gamma2 =  -199.531471169\n",
      "F2(gamma1) =  7.83961632164\n",
      "F2(gamma2) =  -3.18660011797e-10\n",
      "gamma1 =  0.00999899005327\n",
      "gamma2 =  -199.511274431\n",
      "F2(gamma1) =  0.00507395474966\n",
      "F2(gamma2) =  -0.00124402135606\n",
      "case quadr\n",
      "gamma1 =  0.499914476417\n",
      "gamma2 =  -199.511274418\n",
      "F2(gamma1) =  5.15717307698e-13\n",
      "F2(gamma2) =  -4872.51745896\n",
      "quadr gamma =  0.499914476417\n",
      "iter_num =  3\n",
      "CURRENT X =  [-0.70885443  0.00708819 -0.70531919]\n",
      "NORM =  1.0\n"
     ]
    }
   ],
   "source": [
    "x0 = np.array([0., 1., 0.])\n",
    "xs = []\n",
    "fs = []\n",
    "x = method(A, x0,3)"
   ]
  },
  {
   "cell_type": "code",
   "execution_count": 109,
   "metadata": {},
   "outputs": [
    {
     "name": "stdout",
     "output_type": "stream",
     "text": [
      "f* =  -0.00501224806908\n",
      "x* =  [-0.70885443  0.00708819 -0.70531919]\n",
      "norm check:  1.0\n"
     ]
    }
   ],
   "source": [
    "print 'f* = ', x.dot(np.dot(A,x))\n",
    "print 'x* = ', x\n",
    "print 'norm check: ', np.linalg.norm(x)"
   ]
  },
  {
   "cell_type": "code",
   "execution_count": 110,
   "metadata": {
    "scrolled": false
   },
   "outputs": [
    {
     "data": {
      "image/png": "[encoded data removed]",
      "text/plain": [
       "<matplotlib.figure.Figure at 0x7f71c000c050>"
      ]
     },
     "metadata": {},
     "output_type": "display_data"
    }
   ],
   "source": [
    "fstar = fs[np.argmin(fs)]\n",
    "fminfstar = fs - np.ones(len(fs)) * fstar\n",
    "logf = np.log(np.hstack((fminfstar[:np.argmin(fs)], fminfstar[np.argmin(fs) + 1:])))\n",
    "\n",
    "plt.figure()\n",
    "plt.scatter(range(len(logf)), logf)\n",
    "plt.xlabel('iteration number')\n",
    "plt.ylabel('log(f)')\n",
    "plt.title('semilog')\n",
    "plt.show()"
   ]
  },
  {
   "cell_type": "markdown",
   "metadata": {},
   "source": [
    "# Начальная точка (-1, 1, 3)"
   ]
  },
  {
   "cell_type": "code",
   "execution_count": 112,
   "metadata": {
    "scrolled": false
   },
   "outputs": [
    {
     "name": "stdout",
     "output_type": "stream",
     "text": [
      "case quadr\n",
      "gamma1 =  0.0100056123532\n",
      "gamma2 =  0.628591175237\n",
      "F2(gamma1) =  99348.7044934\n",
      "F2(gamma2) =  -0.66498879362\n",
      "quadr gamma =  0.0100056123532\n",
      "iter_num =  0\n",
      "CURRENT X =  [-0.31140392  0.00303203  0.9502728 ]\n",
      "NORM =  1.0\n",
      "case quadr\n",
      "gamma1 =  0.497793290712\n",
      "gamma2 =  21.1747386403\n",
      "F2(gamma1) =  30.6580990701\n",
      "F2(gamma2) =  -6.86669601969e-07\n",
      "quadr gamma =  0.497793290712\n",
      "iter_num =  1\n",
      "CURRENT X =  [ 0.69912443  0.01578315  0.7148258 ]\n",
      "NORM =  1.0\n",
      "case quadr\n",
      "gamma1 =  0.0100004218079\n",
      "gamma2 =  -215.143281403\n",
      "F2(gamma1) =  518.918705717\n",
      "F2(gamma2) =  -8.9931639388e-09\n",
      "quadr gamma =  0.0100004218079\n",
      "iter_num =  2\n",
      "CURRENT X =  [ 0.69927251 -0.00699369  0.71482099]\n",
      "NORM =  1.0\n",
      "case quadr\n",
      "gamma1 =  0.497703691755\n",
      "gamma2 =  -199.612316244\n",
      "F2(gamma1) =  0.00145296977043\n",
      "F2(gamma2) =  -1.74136318363e-06\n",
      "quadr gamma =  0.497703691755\n",
      "iter_num =  3\n",
      "CURRENT X =  [ 0.70878836 -0.00692881  0.70538716]\n",
      "NORM =  1.0\n",
      "case quadr\n",
      "gamma1 =  0.0100004215559\n",
      "gamma2 =  -199.511977873\n",
      "F2(gamma1) =  0.0251901409794\n",
      "F2(gamma2) =  -0.000250503243924\n",
      "quadr gamma =  0.0100004215559\n",
      "iter_num =  4\n",
      "CURRENT X =  [ 0.70878812 -0.00708754  0.70538583]\n",
      "NORM =  1.0\n",
      "case quadr\n",
      "gamma1 =  0.497703747791\n",
      "gamma2 =  -199.511279325\n",
      "F2(gamma1) =  7.04942598474e-08\n",
      "F2(gamma2) =  -0.0359642089708\n",
      "quadr gamma =  0.497703747791\n",
      "iter_num =  5\n",
      "CURRENT X =  [ 0.70885397 -0.00708708  0.70531966]\n",
      "NORM =  1.0\n",
      "case quadr\n",
      "gamma1 =  0.0100004217423\n",
      "gamma2 =  -199.51127446\n",
      "F2(gamma1) =  1.22216099499e-06\n",
      "F2(gamma2) =  -5.16323202128\n",
      "quadr gamma =  0.0100004217423\n",
      "iter_num =  6\n",
      "CURRENT X =  [ 0.70885396 -0.00708818  0.70531965]\n",
      "NORM =  1.0\n",
      "case quadr\n",
      "gamma1 =  0.496732321898\n",
      "gamma2 =  -199.511274426\n",
      "F2(gamma1) =  3.42693029671e-12\n",
      "F2(gamma2) =  -742.71166\n",
      "quadr gamma =  0.496732321898\n",
      "iter_num =  7\n",
      "CURRENT X =  [ 0.70885442 -0.00708818  0.7053192 ]\n",
      "NORM =  1.0\n"
     ]
    }
   ],
   "source": [
    "x0 = np.array([-1., 1., 3.])\n",
    "xs = []\n",
    "fs = []\n",
    "x = method(A, x0, 1)"
   ]
  },
  {
   "cell_type": "code",
   "execution_count": 113,
   "metadata": {},
   "outputs": [
    {
     "name": "stdout",
     "output_type": "stream",
     "text": [
      "f* =  -0.00501224806908\n",
      "x* =  [ 0.70885442 -0.00708818  0.7053192 ]\n",
      "norm check:  1.0\n"
     ]
    }
   ],
   "source": [
    "print 'f* = ', x.dot(np.dot(A,x))\n",
    "print 'x* = ', x\n",
    "print 'norm check: ', np.linalg.norm(x)"
   ]
  },
  {
   "cell_type": "code",
   "execution_count": 114,
   "metadata": {
    "scrolled": true
   },
   "outputs": [
    {
     "data": {
      "image/png": "[encoded data removed]",
      "text/plain": [
       "<matplotlib.figure.Figure at 0x7f71bfe93590>"
      ]
     },
     "metadata": {},
     "output_type": "display_data"
    }
   ],
   "source": [
    "fstar = fs[np.argmin(fs)]\n",
    "fminfstar = fs - np.ones(len(fs)) * fstar\n",
    "logf = np.log(fminfstar[:len(fs) - 1])\n",
    "\n",
    "plt.figure()\n",
    "plt.scatter(range(len(logf)), logf)\n",
    "plt.xlabel('iteration number')\n",
    "plt.ylabel('log(f)')\n",
    "plt.title('semilog')\n",
    "plt.show()"
   ]
  },
  {
   "cell_type": "markdown",
   "metadata": {},
   "source": [
    "# Начальная точка (-1, -30, 3)"
   ]
  },
  {
   "cell_type": "code",
   "execution_count": 115,
   "metadata": {
    "scrolled": false
   },
   "outputs": [
    {
     "name": "stdout",
     "output_type": "stream",
     "text": [
      "case quadr\n",
      "gamma1 =  0.00999899861942\n",
      "gamma2 =  0.702067378682\n",
      "F2(gamma1) =  96547292.6779\n",
      "F2(gamma2) =  -0.000438824918046\n",
      "quadr gamma =  0.00999899861942\n",
      "iter_num =  0\n",
      "CURRENT X =  [-0.21763851  0.00230647  0.97602672]\n",
      "NORM =  1.0\n",
      "gamma1 =  0.501269166597\n",
      "gamma2 =  -201.979563178\n",
      "F2(gamma1) =  19.8394051831\n",
      "F2(gamma2) =  -1.19935203779e-10\n",
      "case quadr\n",
      "gamma1 =  0.00999899249551\n",
      "gamma2 =  -199.511304234\n",
      "F2(gamma1) =  0.6125760794\n",
      "F2(gamma2) =  -1.03041914717e-05\n",
      "quadr gamma =  0.00999899249551\n",
      "iter_num =  2\n",
      "CURRENT X =  [ 0.70884078 -0.00708805  0.70533291]\n",
      "NORM =  1.0\n",
      "gamma1 =  0.501269336807\n",
      "gamma2 =  -199.511274426\n",
      "F2(gamma1) =  2.96532708783e-09\n",
      "F2(gamma2) =  -0.842821808671\n",
      "case quadr\n",
      "gamma1 =  0.00999697626906\n",
      "gamma2 =  -199.511274426\n",
      "F2(gamma1) =  9.15741673132e-11\n",
      "F2(gamma2) =  -68956.6889674\n",
      "quadr gamma =  0.00999697626906\n",
      "iter_num =  4\n",
      "CURRENT X =  [ 0.70885443 -0.00708819  0.70531919]\n",
      "NORM =  1.0\n"
     ]
    }
   ],
   "source": [
    "x0 = np.array([-1., -30., 3.])\n",
    "xs = []\n",
    "fs = []\n",
    "x = method(A, x0, 2)"
   ]
  },
  {
   "cell_type": "code",
   "execution_count": 116,
   "metadata": {},
   "outputs": [
    {
     "name": "stdout",
     "output_type": "stream",
     "text": [
      "f* =  -0.00501224806908\n",
      "x* =  [ 0.70885443 -0.00708819  0.70531919]\n",
      "norm check:  1.0\n"
     ]
    }
   ],
   "source": [
    "print 'f* = ', x.dot(np.dot(A,x))\n",
    "print 'x* = ', x\n",
    "print 'norm check: ', np.linalg.norm(x)"
   ]
  },
  {
   "cell_type": "code",
   "execution_count": 117,
   "metadata": {
    "scrolled": false
   },
   "outputs": [
    {
     "data": {
      "image/png": "[encoded data removed]",
      "text/plain": [
       "<matplotlib.figure.Figure at 0x7f71bfdc38d0>"
      ]
     },
     "metadata": {},
     "output_type": "display_data"
    }
   ],
   "source": [
    "fstar = fs[np.argmin(fs)]\n",
    "fminfstar = fs - np.ones(len(fs)) * fstar\n",
    "logf = np.log(fminfstar[:len(fs) - 1])\n",
    "\n",
    "plt.figure()\n",
    "plt.scatter(range(len(logf)), logf)\n",
    "plt.xlabel('iteration number')\n",
    "plt.ylabel('log(f)')\n",
    "plt.title('semilog')\n",
    "plt.show()"
   ]
  },
  {
   "cell_type": "markdown",
   "metadata": {},
   "source": [
    "# Начальная точка (9, -30, 3)"
   ]
  },
  {
   "cell_type": "code",
   "execution_count": 118,
   "metadata": {
    "scrolled": false
   },
   "outputs": [
    {
     "name": "stdout",
     "output_type": "stream",
     "text": [
      "case quadr\n",
      "gamma1 =  0.00999905930091\n",
      "gamma2 =  2.53758252154\n",
      "F2(gamma1) =  9406145.76995\n",
      "F2(gamma2) =  -2.58475062004e-05\n",
      "quadr gamma =  0.00999905930091\n",
      "iter_num =  0\n",
      "CURRENT X =  [ 0.94925471 -0.00953506  0.31436376]\n",
      "NORM =  1.0\n",
      "gamma1 =  0.501135493661\n",
      "gamma2 =  -205.078033417\n",
      "F2(gamma1) =  1.97468335611\n",
      "F2(gamma2) =  -1.13447703046e-09\n",
      "case quadr\n",
      "gamma1 =  0.00999904570166\n",
      "gamma2 =  -199.51275249\n",
      "F2(gamma1) =  1.36030796518\n",
      "F2(gamma2) =  -4.64001603152e-06\n",
      "quadr gamma =  0.00999904570166\n",
      "iter_num =  2\n",
      "CURRENT X =  [ 0.70895052 -0.00708916  0.70522259]\n",
      "NORM =  1.0\n",
      "gamma1 =  0.50113549048\n",
      "gamma2 =  -199.511274829\n",
      "F2(gamma1) =  1.4707790066e-07\n",
      "F2(gamma2) =  -0.0170017443742\n",
      "case quadr\n",
      "gamma1 =  0.00999904456723\n",
      "gamma2 =  -199.511274426\n",
      "F2(gamma1) =  1.01324624883e-07\n",
      "F2(gamma2) =  -62.2952144832\n",
      "quadr gamma =  0.00999904456723\n",
      "iter_num =  4\n",
      "CURRENT X =  [ 0.70885445 -0.00708819  0.70531916]\n",
      "NORM =  1.0\n"
     ]
    }
   ],
   "source": [
    "x0 = np.array([9., -30., 3.])\n",
    "xs = []\n",
    "fs = []\n",
    "x = method(A, x0, 2)"
   ]
  },
  {
   "cell_type": "code",
   "execution_count": 119,
   "metadata": {},
   "outputs": [
    {
     "name": "stdout",
     "output_type": "stream",
     "text": [
      "f* =  -0.00501224806908\n",
      "x* =  [ 0.70885445 -0.00708819  0.70531916]\n",
      "norm check:  1.0\n"
     ]
    }
   ],
   "source": [
    "print 'f* = ', x.dot(np.dot(A,x))\n",
    "print 'x* = ', x\n",
    "print 'norm check: ', np.linalg.norm(x)"
   ]
  },
  {
   "cell_type": "code",
   "execution_count": 120,
   "metadata": {
    "scrolled": true
   },
   "outputs": [
    {
     "data": {
      "image/png": "[encoded data removed]",
      "text/plain": [
       "<matplotlib.figure.Figure at 0x7f71bfcfe5d0>"
      ]
     },
     "metadata": {},
     "output_type": "display_data"
    }
   ],
   "source": [
    "fstar = fs[np.argmin(fs)]\n",
    "fminfstar = fs - np.ones(len(fs)) * fstar\n",
    "logf = np.log(fminfstar[:len(fs) - 1])\n",
    "\n",
    "plt.figure()\n",
    "plt.scatter(range(len(logf)), logf)\n",
    "plt.xlabel('iteration number')\n",
    "plt.ylabel('log(f)')\n",
    "plt.title('semilog')\n",
    "plt.show()"
   ]
  }
 ],
 "metadata": {
  "kernelspec": {
   "display_name": "Python 2",
   "language": "python",
   "name": "python2"
  },
  "language_info": {
   "codemirror_mode": {
    "name": "ipython",
    "version": 2
   },
   "file_extension": ".py",
   "mimetype": "text/x-python",
   "name": "python",
   "nbconvert_exporter": "python",
   "pygments_lexer": "ipython2",
   "version": "2.7.13"
  }
 },
 "nbformat": 4,
 "nbformat_minor": 1
}
