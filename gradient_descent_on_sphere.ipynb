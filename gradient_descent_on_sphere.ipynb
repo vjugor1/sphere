{
 "cells": [
  {
   "cell_type": "markdown",
   "metadata": {},
   "source": [
    "# Наискорейший спуск на сфере\n",
    "## Постановка задачи\n",
    "$$\\underset{\\| x \\|^2 - 1 = 0}{min} f(x) = x^T A x$$\n"
   ]
  },
  {
   "cell_type": "code",
   "execution_count": 3,
   "metadata": {
    "collapsed": true
   },
   "outputs": [],
   "source": [
    "import numpy as np"
   ]
  },
  {
   "cell_type": "markdown",
   "metadata": {},
   "source": [
    "## В следующей ячейке в первой строке задается матрица квадратичной формы.\n",
    "### Далее заранее обсчитываются квадрат и куб этой матрицы, задается начальное приближение, потом сразу же проецируется на сферу."
   ]
  },
  {
   "cell_type": "code",
   "execution_count": 4,
   "metadata": {
    "collapsed": true
   },
   "outputs": [],
   "source": [
    "A = np.array([[1., 100., -1.], [100., 100., 0], [-1.,0,1.]])\n",
    "A_sq = A.dot(A)\n",
    "A_th = A.dot(A_sq)\n",
    "x0 = np.array([1., 0., 1.])\n",
    "x0 = x0 / np.linalg.norm(x0)"
   ]
  },
  {
   "cell_type": "code",
   "execution_count": 5,
   "metadata": {},
   "outputs": [
    {
     "name": "stdout",
     "output_type": "stream",
     "text": [
      "[[   1.  100.   -1.]\n",
      " [ 100.  100.    0.]\n",
      " [  -1.    0.    1.]]\n",
      "[[  1.00020000e+04   1.01000000e+04  -2.00000000e+00]\n",
      " [  1.01000000e+04   2.00000000e+04  -1.00000000e+02]\n",
      " [ -2.00000000e+00  -1.00000000e+02   2.00000000e+00]]\n",
      "[[  1.02000400e+06   2.01020000e+06  -1.00040000e+04]\n",
      " [  2.01020000e+06   3.01000000e+06  -1.02000000e+04]\n",
      " [ -1.00040000e+04  -1.02000000e+04   4.00000000e+00]]\n"
     ]
    }
   ],
   "source": [
    "print A\n",
    "print A_sq\n",
    "print A_th"
   ]
  },
  {
   "cell_type": "markdown",
   "metadata": {},
   "source": [
    "## В следующей ячейке задается функция, которая возвращает значение второй производной целевой функции при выборе шага (см pdf)\n",
    "$$F'' = \\frac{\\gamma^3 (-2a_2\\widehat{a_2} )+ \\gamma^2 (-3a_2\\widehat{a_1}) + \\gamma(2\\widehat{a_2}a_0 - 4a_2\\widehat{a_0} + 2a_1\\widehat{a_1}) + \\widehat{a_1}a_0 + 4a_1\\widehat{a_0}}{(\\gamma^2 a_2 - 2\\gamma a_1 + a_0)^3},$$\n",
    "\n",
    "\n",
    "$$a_i = {x^k}^T A^i x^k, i = 0,1,2,3$$\n"
   ]
  },
  {
   "cell_type": "code",
   "execution_count": 6,
   "metadata": {},
   "outputs": [],
   "source": [
    "def F2(x):\n",
    "    return (x**3 * (-2.*a2*a2t) + x**2 * (-3. * a2 * a1t) + x * (2.*a2t * a0 - 4. * a2 * a0t + 2. * a1 * a1t) + a1t * a0 + 4. * a1 * a0t) / (a2 * x**2 - 2. * x * a1 + a0)**3"
   ]
  },
  {
   "cell_type": "markdown",
   "metadata": {},
   "source": [
    "# Далее идет сам метод\n",
    "Шаги вычисляются в соответствии с написанным в статье, с подстраховской на тот случай, если коэффициент при $\\gamma^2$ обратится в ноль (помечено \"!\")"
   ]
  },
  {
   "cell_type": "code",
   "execution_count": 7,
   "metadata": {
    "collapsed": true
   },
   "outputs": [],
   "source": [
    "x = x0"
   ]
  },
  {
   "cell_type": "code",
   "execution_count": 9,
   "metadata": {
    "scrolled": true
   },
   "outputs": [
    {
     "name": "stdout",
     "output_type": "stream",
     "text": [
      "case quadr\n",
      "quadr gamma =  0.00224744871392\n",
      "iter_num =  0\n",
      "[ 0.69834339 -0.1569491   0.69834339]\n",
      "case quadr\n",
      "quadr gamma =  0.00262177408111\n",
      "iter_num =  20\n",
      "[ 0.8495352  -0.52735417  0.01369376]\n",
      "case quadr\n",
      "quadr gamma =  0.0\n",
      "iter_num =  40\n",
      "[ 0.84953307 -0.52735792  0.01368178]\n",
      "case quadr\n",
      "quadr gamma =  0.0\n",
      "iter_num =  60\n",
      "[ 0.84953307 -0.52735792  0.01368178]\n",
      "case quadr\n",
      "quadr gamma =  0.0\n",
      "iter_num =  80\n",
      "[ 0.84953307 -0.52735792  0.01368178]\n",
      "[ 0.84953307 -0.52735792  0.01368178]\n"
     ]
    }
   ],
   "source": [
    "print_rate = 20\n",
    "for i in range(100):\n",
    "    a0 = x.T.dot(x)\n",
    "    a1 = x.T.dot(np.dot(A,x))\n",
    "    a2 = x.T.dot(np.dot(A_sq,x))\n",
    "    a3 = x.T.dot(np.dot(A_th,x))\n",
    "    a2t = a2**2 - a3 * a1\n",
    "    a1t = a3 * a0 - a2 * a1\n",
    "    a0t = a1**2 - a0 * a2\n",
    "    \"\"\"\n",
    "    print a0\n",
    "    print a1\n",
    "    print a2\n",
    "    print a3\n",
    "    print '_____'\n",
    "    print a2t\n",
    "    print a1t\n",
    "    print a0t\n",
    "    \"\"\"\n",
    "    if (a2**2 - a3 * a1) != 0:\n",
    "        if i % print_rate == 0:\n",
    "            print 'case quadr'\n",
    "        gamma1 = ((a2 * a1 - a3 * a0) + np.sqrt((a2 * a1 - a3 * a0)**2 - (a2**2 - a3 * a1)*(a1**2 - a0 * a2)))/2. / (a2**2 - a3 * a1)\n",
    "        gamma2 = ((a2 * a1 - a3 * a0) - np.sqrt((a2 * a1 - a3 * a0)**2 - (a2**2 - a3 * a1)*(a1**2 - a0 * a2)))/2. / (a2**2 - a3 * a1)\n",
    "        gamma_list = []\n",
    "        for gamma in [gamma1, gamma2]:\n",
    "            if gamma >=0 and F2(gamma) > 0:\n",
    "                gamma_list.append(gamma)\n",
    "        #print 'gamma_list len = ', len(gamma_list)\n",
    "        if len(gamma_list) > 0:\n",
    "            final_gamma = gamma_list[np.random.randint(len(gamma_list))]\n",
    "        else:\n",
    "            if i % print_rate == 0:\n",
    "                print 'there is no gamma to move'\n",
    "        if i % print_rate == 0:\n",
    "            print 'quadr gamma = ', final_gamma \n",
    "        x = (x - final_gamma * np.dot(A, x))/ np.linalg.norm(x - final_gamma * np.dot(A, x))\n",
    "    #!!!!!!!!!!!!!!!!!!!!!!!!!!!!!!!!!!!!!!!!!!!!!!!!!!!!!!!!!!!!!!!!!!!!!\n",
    "    if  (a2**2 - a3 * a1) == 0 and (a3 * a0 - a2 * a1) != 0:\n",
    "        if i % print_rate == 0:\n",
    "            print 'case linear'\n",
    "        gamma = (a1**2 - a0 * a2)/(a3 * a0 - a2 * a1)\n",
    "        if gamma > 0 and F2(gamma) > 0:\n",
    "                x = (x - gamma * np.dot(A, x))/ np.linalg.norm(x - gamma * np.dot(A, x))\n",
    "        else:\n",
    "            if i % print_rate == 0:\n",
    "                print 'you got no suitable gamma'\n",
    "    if (a3 * a0 - a2 * a1) == 0 and (a2**2 - a3 * a1) == 0:\n",
    "        if i % print_rate == 0:\n",
    "            print 'you got rekt'\n",
    "            print 'iternum = ', i\n",
    "            print '(a3 * a0 - a2 * a1)', (a3 * a0 - a2 * a1)\n",
    "            print '(a2**2 - a3 * a1)', (a2**2 - a3 * a1)\n",
    "    #!!!!!!!!!!!!!!!!!!!!!!!!!!!!!!!!!!!!!!!!!!!!!!!!!!!!!!!!!!!!!!!!!!!!    \n",
    "    if i % print_rate == 0:\n",
    "        print 'iter_num = ', i\n",
    "        print x\n",
    "print x"
   ]
  },
  {
   "cell_type": "markdown",
   "metadata": {},
   "source": [
    "# Далее вывод: оптимальное значение, оптимальная точка и проверка на принадлежность сфере"
   ]
  },
  {
   "cell_type": "code",
   "execution_count": 10,
   "metadata": {},
   "outputs": [
    {
     "name": "stdout",
     "output_type": "stream",
     "text": [
      "f* =  -61.0923133565\n",
      "x* =  [ 0.84953307 -0.52735792  0.01368178]\n",
      "norm check:  1.0\n"
     ]
    }
   ],
   "source": [
    "print 'f* = ', x.dot(np.dot(A,x))\n",
    "print 'x* = ', x\n",
    "print 'norm check: ', np.linalg.norm(x)"
   ]
  }
 ],
 "metadata": {
  "kernelspec": {
   "display_name": "Python 2",
   "language": "python",
   "name": "python2"
  },
  "language_info": {
   "codemirror_mode": {
    "name": "ipython",
    "version": 2
   },
   "file_extension": ".py",
   "mimetype": "text/x-python",
   "name": "python",
   "nbconvert_exporter": "python",
   "pygments_lexer": "ipython2",
   "version": "2.7.13"
  }
 },
 "nbformat": 4,
 "nbformat_minor": 1
}
