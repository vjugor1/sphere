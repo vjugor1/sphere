{
 "cells": [
  {
   "cell_type": "markdown",
   "metadata": {},
   "source": [
    "# Наискорейший спуск на сфере\n",
    "## Постановка задачи\n",
    "$$\\underset{\\| x \\|^2 - 1 = 0}{min} f(x) = x^T A x$$\n"
   ]
  },
  {
   "cell_type": "code",
   "execution_count": 3,
   "metadata": {
    "collapsed": true
   },
   "outputs": [],
   "source": [
    "import numpy as np\n",
    "from matplotlib import pyplot as plt\n",
    "%matplotlib inline"
   ]
  },
  {
   "cell_type": "markdown",
   "metadata": {},
   "source": [
    "## В следующей ячейке в первой строке задается матрица квадратичной формы.\n",
    "### Далее заранее обсчитываются квадрат и куб этой матрицы, задается начальное приближение, потом сразу же проецируется на сферу."
   ]
  },
  {
   "cell_type": "code",
   "execution_count": 23,
   "metadata": {},
   "outputs": [],
   "source": [
    "A = np.array([[1., 1., 1., 1., 6.],\n",
    "              [1., -100., 1., 2., 7.],\n",
    "              [1.,1.,8., 3., 3.],\n",
    "              [1., 2., 3., 4., -20.],\n",
    "              [6., 7., 3., -20., 5.,]])"
   ]
  },
  {
   "cell_type": "code",
   "execution_count": 38,
   "metadata": {},
   "outputs": [
    {
     "name": "stdout",
     "output_type": "stream",
     "text": [
      "[[   1.    1.    1.    1.    6.]\n",
      " [   1. -100.    1.    2.    7.]\n",
      " [   1.    1.    8.    3.    3.]\n",
      " [   1.    2.    3.    4.  -20.]\n",
      " [   6.    7.    3.  -20.    5.]]\n"
     ]
    }
   ],
   "source": [
    "print A\n"
   ]
  },
  {
   "cell_type": "markdown",
   "metadata": {},
   "source": [
    "## В следующей ячейке задается функция, которая возвращает значение второй производной целевой функции при выборе шага (см pdf)\n",
    "$$F'' = \\frac{\\gamma^3 (-2a_2\\widehat{a_2} )+ \\gamma^2 (-3a_2\\widehat{a_1}) + \\gamma(2\\widehat{a_2}a_0 - 4a_2\\widehat{a_0} + 2a_1\\widehat{a_1}) + \\widehat{a_1}a_0 + 4a_1\\widehat{a_0}}{(\\gamma^2 a_2 - 2\\gamma a_1 + a_0)^3},$$\n",
    "\n",
    "\n",
    "$$a_i = {x^k}^T A^i x^k, i = 0,1,2,3$$\n"
   ]
  },
  {
   "cell_type": "code",
   "execution_count": 25,
   "metadata": {
    "collapsed": true
   },
   "outputs": [],
   "source": [
    "def F2(gamma, a2, a2t, a1t, a0, a0t, a1):\n",
    "    return (gamma**3 * (-2.*a2*a2t) + gamma**2 * (-3. * a2 * a1t) + gamma * (2.*a2t * a0 - 4. * a2 * a0t + 2. * a1 * a1t) + a1t * a0 + 4. * a1 * a0t) / ((a2 * gamma**2 - 2. * gamma * a1 + a0)**3)"
   ]
  },
  {
   "cell_type": "markdown",
   "metadata": {},
   "source": [
    "# Далее идет сам метод\n",
    "Шаги вычисляются в соответствии с написанным в статье, с подстраховской на тот случай, если коэффициент при $\\gamma^2$ обратится в ноль (помечено \"!\")"
   ]
  },
  {
   "cell_type": "code",
   "execution_count": 26,
   "metadata": {
    "collapsed": true,
    "scrolled": true
   },
   "outputs": [],
   "source": [
    "def method(A, x0, print_rate):\n",
    "    x = x0 / np.linalg.norm(x0)\n",
    "    A_sq = A.dot(A)\n",
    "    A_th = A.dot(A_sq)\n",
    "    notenough = True\n",
    "    prevx = x\n",
    "    i = 0\n",
    "    while(notenough):\n",
    "        a0 = x.T.dot(x)\n",
    "        a1 = x.T.dot(np.dot(A,x))\n",
    "        a2 = x.T.dot(np.dot(A_sq,x))\n",
    "        a3 = x.T.dot(np.dot(A_th,x))\n",
    "        a2t = a2**2 - a3 * a1\n",
    "        a1t = a3 * a0 - a2 * a1\n",
    "        a0t = a1**2 - a0 * a2\n",
    "        \"\"\"\n",
    "        print a0\n",
    "        print a1\n",
    "        print a2\n",
    "        print a3\n",
    "        print '_____'\n",
    "        print a2t\n",
    "        print a1t\n",
    "        print a0t\n",
    "        \"\"\"\n",
    "        if (a2**2 - a3 * a1) != 0:\n",
    "            if i % print_rate == 0:\n",
    "                print 'case quadr'\n",
    "            gamma1 = ((a2 * a1 - a3 * a0) + np.sqrt((a2 * a1 - a3 * a0)**2 - 4. * (a2**2 - a3 * a1)*(a1**2 - a0 * a2)))/2. / (a2**2 - a3 * a1)\n",
    "            gamma2 = ((a2 * a1 - a3 * a0) - np.sqrt((a2 * a1 - a3 * a0)**2 - 4. * (a2**2 - a3 * a1)*(a1**2 - a0 * a2)))/2. / (a2**2 - a3 * a1)\n",
    "            gamma_list = []\n",
    "            print 'gamma1 = ', gamma1\n",
    "            print 'gamma2 = ', gamma2\n",
    "            print 'F2(gamma1) = ', F2(gamma1, a2, a2t, a1t, a0, a0t, a1)\n",
    "            print 'F2(gamma2) = ', F2(gamma2, a2, a2t, a1t, a0, a0t, a1)\n",
    "            for gamma in [gamma1, gamma2]:\n",
    "                if gamma >=0 and F2(gamma, a2, a2t, a1t, a0, a0t, a1) > 0:\n",
    "                    gamma_list.append(gamma)\n",
    "            #print 'gamma_list len = ', len(gamma_list)\n",
    "            if len(gamma_list) > 0:\n",
    "                final_gamma = gamma_list[np.random.randint(len(gamma_list))]\n",
    "            else:\n",
    "                print 'there is no suitable gamma. i quit'\n",
    "                return x\n",
    "                \"\"\"\n",
    "                final_gamma = np.random.rand(1) * 7. / 100.\n",
    "                if i % print_rate == 0:\n",
    "                    print 'there is no suitable gamma. choosing random from 0 to 0.1'\n",
    "                \"\"\"\n",
    "            if i % print_rate == 0:\n",
    "                print 'quadr gamma = ', final_gamma \n",
    "            x = (x - final_gamma * np.dot(A, x))/ np.linalg.norm(x - final_gamma * np.dot(A, x))\n",
    "        #!!!!!!!!!!!!!!!!!!!!!!!!!!!!!!!!!!!!!!!!!!!!!!!!!!!!!!!!!!!!!!!!!!!!!\n",
    "        if  (a2**2 - a3 * a1) == 0 and (a3 * a0 - a2 * a1) != 0:\n",
    "            if i % print_rate == 0:\n",
    "                print 'case linear'\n",
    "            gamma = (a1**2 - a0 * a2)/(a3 * a0 - a2 * a1)\n",
    "            if gamma > 0 and F2(gamma, a2, a2t, a1t, a0, a0t, a1) > 0:\n",
    "                    x = (x - gamma * np.dot(A, x))/ np.linalg.norm(x - gamma * np.dot(A, x))\n",
    "            else:\n",
    "                if i % print_rate == 0:\n",
    "                    print 'you got no suitable gamma'\n",
    "        if (a3 * a0 - a2 * a1) == 0 and (a2**2 - a3 * a1) == 0:\n",
    "            if i % print_rate == 0:\n",
    "                print 'you got rekt'\n",
    "                print 'iternum = ', i\n",
    "                print '(a3 * a0 - a2 * a1)', (a3 * a0 - a2 * a1)\n",
    "                print '(a2**2 - a3 * a1)', (a2**2 - a3 * a1)\n",
    "                return x\n",
    "        #!!!!!!!!!!!!!!!!!!!!!!!!!!!!!!!!!!!!!!!!!!!!!!!!!!!!!!!!!!!!!!!!!!!!    \n",
    "        if i % print_rate == 0:\n",
    "            print 'iter_num = ', i\n",
    "            print 'CURRENT X = ', x\n",
    "            print 'NORM = ', np.linalg.norm(x)\n",
    "        if (np.linalg.norm(x - prevx) < 1e-6):\n",
    "            notenough = False\n",
    "        else:\n",
    "            prevx = x\n",
    "        xs.append(x)\n",
    "        fs.append(x.dot(np.dot(A,x)))\n",
    "        i += 1\n",
    "    return x"
   ]
  },
  {
   "cell_type": "markdown",
   "metadata": {},
   "source": [
    "Начальная точка\n",
    "$$x_0 = \\frac{(0, 1, 1, 0, 0)}{\\sqrt{2}}$$"
   ]
  },
  {
   "cell_type": "code",
   "execution_count": 39,
   "metadata": {
    "scrolled": true
   },
   "outputs": [
    {
     "name": "stdout",
     "output_type": "stream",
     "text": [
      "case quadr\n",
      "gamma1 =  0.114973651931\n",
      "gamma2 =  -0.00994973121739\n",
      "F2(gamma1) =  54.1690578135\n",
      "F2(gamma2) =  -903944.764685\n",
      "quadr gamma =  0.114973651931\n",
      "iter_num =  0\n",
      "CURRENT X =  [-0.01846802  0.99448116 -0.00279195 -0.04617005 -0.0923401 ]\n",
      "NORM =  1.0\n",
      "gamma1 =  -0.39468771327\n",
      "gamma2 =  -0.00994238811237\n",
      "F2(gamma1) =  0.000318444763202\n",
      "F2(gamma2) =  -1377623513.96\n",
      "there is no suitable gamma. i quit\n"
     ]
    }
   ],
   "source": [
    "x0 = np.array([0., 1., 1., 0., 0.])\n",
    "xs = []\n",
    "fs = []\n",
    "x = method(A, x0,3)"
   ]
  },
  {
   "cell_type": "code",
   "execution_count": 40,
   "metadata": {},
   "outputs": [
    {
     "name": "stdout",
     "output_type": "stream",
     "text": [
      "f* =  -100.505227543\n",
      "x* =  [-0.01846802  0.99448116 -0.00279195 -0.04617005 -0.0923401 ]\n",
      "norm check:  1.0\n"
     ]
    }
   ],
   "source": [
    "print 'f* = ', x.dot(np.dot(A,x))\n",
    "print 'x* = ', x\n",
    "print 'norm check: ', np.linalg.norm(x)"
   ]
  },
  {
   "cell_type": "code",
   "execution_count": 41,
   "metadata": {
    "scrolled": false
   },
   "outputs": [
    {
     "data": {
      "image/png": "[encoded data removed]",
      "text/plain": [
       "<matplotlib.figure.Figure at 0x7f5d0d78a090>"
      ]
     },
     "metadata": {},
     "output_type": "display_data"
    }
   ],
   "source": [
    "fstar = fs[np.argmin(fs)]\n",
    "fminfstar = fs - np.ones(len(fs)) * fstar\n",
    "logf = np.log(np.hstack((fminfstar[:np.argmin(fs)], fminfstar[np.argmin(fs) + 1:])))\n",
    "\n",
    "plt.figure()\n",
    "plt.scatter(range(len(logf)), logf)\n",
    "plt.xlabel('iteration number')\n",
    "plt.ylabel('log(f)')\n",
    "plt.title('semilog')\n",
    "plt.show()"
   ]
  },
  {
   "cell_type": "markdown",
   "metadata": {},
   "source": [
    "Начальная точка\n",
    "$$x_0 = \\frac{(-1, 1, 3, 0, -2)^T}{\\sqrt{15}}$$"
   ]
  },
  {
   "cell_type": "code",
   "execution_count": 42,
   "metadata": {
    "scrolled": true
   },
   "outputs": [
    {
     "name": "stdout",
     "output_type": "stream",
     "text": [
      "case quadr\n",
      "gamma1 =  0.114128513134\n",
      "gamma2 =  -0.0113633275253\n",
      "F2(gamma1) =  429.096259774\n",
      "F2(gamma2) =  -87986.2735358\n",
      "quadr gamma =  0.114128513134\n",
      "iter_num =  0\n",
      "CURRENT X =  [ 0.00180081  0.91393911  0.06271045 -0.37840493 -0.13262415]\n",
      "NORM =  1.0\n",
      "case quadr\n",
      "gamma1 =  0.302364932372\n",
      "gamma2 =  -0.00999551187907\n",
      "F2(gamma1) =  0.152670473423\n",
      "F2(gamma2) =  -7349536.69029\n",
      "quadr gamma =  0.302364932372\n",
      "iter_num =  1\n",
      "CURRENT X =  [ 0.00207583  0.98860186  0.0033256  -0.04537734 -0.14349874]\n",
      "NORM =  1.0\n",
      "case quadr\n",
      "gamma1 =  0.200843447437\n",
      "gamma2 =  -0.00994440989295\n",
      "F2(gamma1) =  0.0285053246681\n",
      "F2(gamma2) =  -197929013.952\n",
      "quadr gamma =  0.200843447437\n",
      "iter_num =  2\n",
      "CURRENT X =  [ -7.34208676e-04   9.96121206e-01  -4.12322789e-03  -4.65769917e-02\n",
      "  -7.45358134e-02]\n",
      "NORM =  1.0\n",
      "case quadr\n",
      "gamma1 =  0.31805706889\n",
      "gamma2 =  -0.00994233303819\n",
      "F2(gamma1) =  0.000190830226633\n",
      "F2(gamma2) =  -4871021118.22\n",
      "quadr gamma =  0.31805706889\n",
      "iter_num =  3\n",
      "CURRENT X =  [-0.00481885  0.99662702 -0.00590112 -0.03307174 -0.07471808]\n",
      "NORM =  1.0\n",
      "case quadr\n",
      "gamma1 =  0.20093046317\n",
      "gamma2 =  -0.00994224856755\n",
      "F2(gamma1) =  4.70514610106e-05\n",
      "F2(gamma2) =  -119763730820.0\n",
      "quadr gamma =  0.20093046317\n",
      "iter_num =  4\n",
      "CURRENT X =  [-0.00500685  0.99682982 -0.00616347 -0.03313271 -0.07189913]\n",
      "NORM =  1.0\n",
      "case quadr\n",
      "gamma1 =  0.318057490536\n",
      "gamma2 =  -0.0099422451327\n",
      "F2(gamma1) =  3.15685644717e-07\n",
      "F2(gamma2) =  -2.94454359426e+12\n",
      "quadr gamma =  0.318057490536\n",
      "iter_num =  5\n",
      "CURRENT X =  [-0.00517594  0.99684606 -0.0062357  -0.03258411 -0.07190643]\n",
      "NORM =  1.0\n",
      "case quadr\n",
      "gamma1 =  0.200930474989\n",
      "gamma2 =  -0.00994224502111\n",
      "F2(gamma1) =  7.78373689446e-08\n",
      "F2(gamma2) =  -7.23953247889e+13\n",
      "quadr gamma =  0.200930474989\n",
      "iter_num =  6\n",
      "CURRENT X =  [-0.00518362  0.99685414 -0.00624632 -0.03258659 -0.07179176]\n",
      "NORM =  1.0\n",
      "case quadr\n",
      "gamma1 =  0.318051187482\n",
      "gamma2 =  -0.00994224293971\n",
      "F2(gamma1) =  5.222802249e-10\n",
      "F2(gamma2) =  -1.77967317744e+15\n",
      "quadr gamma =  0.318051187482\n",
      "iter_num =  7\n",
      "CURRENT X =  [-0.0051905   0.99685479 -0.00624925 -0.03256428 -0.07179206]\n",
      "NORM =  1.0\n",
      "case quadr\n",
      "gamma1 =  0.200950849967\n",
      "gamma2 =  -0.0099421970486\n",
      "F2(gamma1) =  1.28715268775e-10\n",
      "F2(gamma2) =  -1.14769465894e+16\n",
      "quadr gamma =  0.200950849967\n",
      "iter_num =  8\n",
      "CURRENT X =  [-0.00519081  0.99685512 -0.00624969 -0.03256438 -0.0717874 ]\n",
      "NORM =  1.0\n",
      "case quadr\n",
      "gamma1 =  0.315776258656\n",
      "gamma2 =  -0.00994095059949\n",
      "F2(gamma1) =  8.89019712256e-13\n",
      "F2(gamma2) =  -3564305371.67\n",
      "quadr gamma =  0.315776258656\n",
      "iter_num =  9\n",
      "CURRENT X =  [-0.00519109  0.99685515 -0.00624981 -0.03256347 -0.07178741]\n",
      "NORM =  1.0\n"
     ]
    }
   ],
   "source": [
    "x0 = np.array([-1., 1., 3., 0., -2.])\n",
    "xs = []\n",
    "fs = []\n",
    "x = method(A, x0, 1)"
   ]
  },
  {
   "cell_type": "code",
   "execution_count": 43,
   "metadata": {},
   "outputs": [
    {
     "name": "stdout",
     "output_type": "stream",
     "text": [
      "f* =  -100.580905156\n",
      "x* =  [-0.00519109  0.99685515 -0.00624981 -0.03256347 -0.07178741]\n",
      "norm check:  1.0\n"
     ]
    }
   ],
   "source": [
    "print 'f* = ', x.dot(np.dot(A,x))\n",
    "print 'x* = ', x\n",
    "print 'norm check: ', np.linalg.norm(x)"
   ]
  },
  {
   "cell_type": "code",
   "execution_count": 44,
   "metadata": {
    "scrolled": true
   },
   "outputs": [
    {
     "data": {
      "image/png": "[encoded data removed]",
      "text/plain": [
       "<matplotlib.figure.Figure at 0x7f5d0d5fac50>"
      ]
     },
     "metadata": {},
     "output_type": "display_data"
    }
   ],
   "source": [
    "fstar = fs[np.argmin(fs)]\n",
    "fminfstar = fs - np.ones(len(fs)) * fstar\n",
    "logf = np.log(fminfstar[:len(fs) - 1])\n",
    "\n",
    "plt.figure()\n",
    "plt.scatter(range(len(logf)), logf)\n",
    "plt.xlabel('iteration number')\n",
    "plt.ylabel('log(f)')\n",
    "plt.title('semilog')\n",
    "plt.show()"
   ]
  },
  {
   "cell_type": "markdown",
   "metadata": {},
   "source": [
    "Начальная точка\n",
    "$$x_0 = \\frac{(-2, 10, 9, 1, 0)^T}{\\sqrt{186}}$$"
   ]
  },
  {
   "cell_type": "code",
   "execution_count": 45,
   "metadata": {
    "scrolled": true
   },
   "outputs": [
    {
     "name": "stdout",
     "output_type": "stream",
     "text": [
      "case quadr\n",
      "gamma1 =  0.12485978257\n",
      "gamma2 =  -0.00995103731318\n",
      "F2(gamma1) =  34.0067546133\n",
      "F2(gamma2) =  -1048101.76996\n",
      "quadr gamma =  0.12485978257\n",
      "iter_num =  0\n",
      "CURRENT X =  [-0.0316612   0.99688461 -0.01016266 -0.03815115 -0.06049679]\n",
      "NORM =  1.0\n",
      "gamma1 =  0.343748922404\n",
      "gamma2 =  -0.00994232413798\n",
      "F2(gamma1) =  0.000589432982805\n",
      "F2(gamma2) =  -1161070033.41\n",
      "case quadr\n",
      "gamma1 =  0.141327180204\n",
      "gamma2 =  -0.00994224795108\n",
      "F2(gamma1) =  0.000166696540916\n",
      "F2(gamma2) =  -132785457493.0\n",
      "quadr gamma =  0.141327180204\n",
      "iter_num =  2\n",
      "CURRENT X =  [-0.00529539  0.99689663 -0.0063243  -0.03243218 -0.07125471]\n",
      "NORM =  1.0\n",
      "gamma1 =  0.94384119492\n",
      "gamma2 =  -0.0099422451037\n",
      "F2(gamma1) =  3.51256026358e-09\n",
      "F2(gamma2) =  -3.5539382119e+12\n",
      "case quadr\n",
      "gamma1 =  0.141702922478\n",
      "gamma2 =  -0.00994224500668\n",
      "F2(gamma1) =  2.45820895996e-07\n",
      "F2(gamma2) =  -8.91245778587e+13\n",
      "quadr gamma =  0.141702922478\n",
      "iter_num =  4\n",
      "CURRENT X =  [-0.00519441  0.99685684 -0.00625262 -0.0325579  -0.07176585]\n",
      "NORM =  1.0\n",
      "gamma1 =  0.940086327397\n",
      "gamma2 =  -0.00994224666154\n",
      "F2(gamma1) =  5.68605723879e-12\n",
      "F2(gamma2) =  -2.23026454401e+15\n",
      "case quadr\n",
      "gamma1 =  0.141679508899\n",
      "gamma2 =  -0.00994224555039\n",
      "F2(gamma1) =  3.92729617456e-10\n",
      "F2(gamma2) =  -5.58050201982e+16\n",
      "quadr gamma =  0.141679508899\n",
      "iter_num =  6\n",
      "CURRENT X =  [-0.00519125  0.99685523 -0.00624994 -0.03256322 -0.07178636]\n",
      "NORM =  1.0\n",
      "gamma1 =  1.00478639495\n",
      "gamma2 =  -0.00994264494943\n",
      "F2(gamma1) =  6.9675224249e-15\n",
      "F2(gamma2) =  -288405148965.0\n"
     ]
    }
   ],
   "source": [
    "x0 = np.array([-2., 10., 9., 1., 0.])\n",
    "x0 = x0 / np.linalg.norm(x0)\n",
    "xs = []\n",
    "fs = []\n",
    "x = method(A, x0, 2)"
   ]
  },
  {
   "cell_type": "code",
   "execution_count": 46,
   "metadata": {},
   "outputs": [
    {
     "name": "stdout",
     "output_type": "stream",
     "text": [
      "f* =  -100.580905156\n",
      "x* =  [-0.00519117  0.99685517 -0.00624985 -0.03256327 -0.07178719]\n",
      "norm check:  1.0\n"
     ]
    }
   ],
   "source": [
    "print 'f* = ', x.dot(np.dot(A,x))\n",
    "print 'x* = ', x\n",
    "print 'norm check: ', np.linalg.norm(x)"
   ]
  },
  {
   "cell_type": "code",
   "execution_count": 47,
   "metadata": {
    "scrolled": false
   },
   "outputs": [
    {
     "data": {
      "image/png": "[encoded data removed]",
      "text/plain": [
       "<matplotlib.figure.Figure at 0x7f5d0d5fab10>"
      ]
     },
     "metadata": {},
     "output_type": "display_data"
    }
   ],
   "source": [
    "fstar = fs[np.argmin(fs)]\n",
    "fminfstar = fs - np.ones(len(fs)) * fstar\n",
    "logf = np.log(fminfstar[:len(fs) - 1])\n",
    "\n",
    "plt.figure()\n",
    "plt.scatter(range(len(logf)), logf)\n",
    "plt.xlabel('iteration number')\n",
    "plt.ylabel('log(f)')\n",
    "plt.title('semilog')\n",
    "plt.show()"
   ]
  }
 ],
 "metadata": {
  "kernelspec": {
   "display_name": "Python 2",
   "language": "python",
   "name": "python2"
  },
  "language_info": {
   "codemirror_mode": {
    "name": "ipython",
    "version": 2
   },
   "file_extension": ".py",
   "mimetype": "text/x-python",
   "name": "python",
   "nbconvert_exporter": "python",
   "pygments_lexer": "ipython2",
   "version": "2.7.13"
  }
 },
 "nbformat": 4,
 "nbformat_minor": 1
}
