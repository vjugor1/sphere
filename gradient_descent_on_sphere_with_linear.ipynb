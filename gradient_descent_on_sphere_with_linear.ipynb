{
 "cells": [
  {
   "cell_type": "markdown",
   "metadata": {},
   "source": [
    "# Постановка задачи\n",
    "$$\\underset{\\| x \\|^2 = 1}{min} f(x) = x^T A x + b^T x$$"
   ]
  },
  {
   "cell_type": "markdown",
   "metadata": {},
   "source": [
    "# Применяется метод наискорейшего спуска\n",
    "$$x^{k+1} = x^k - \\gamma^k \\nabla f(x^k)$$\n",
    "$$\\gamma^k = \\underset{\\gamma \\geq 0}{argmin} f(P_S(x^k - \\gamma \\nabla f(x^k)))$$"
   ]
  },
  {
   "cell_type": "markdown",
   "metadata": {},
   "source": [
    "# Вычислим шаг \n",
    "$$\\underset{\\gamma \\geq 0}{argmin} \\left(\\frac{x^k - \\gamma(Ax^x + b)^T}{\\| x^k - \\gamma(Ax^x + b) \\|}\\right) A \\left(\\frac{x^k - \\gamma(Ax^x + b)}{\\| x^k - \\gamma(Ax^x + b) \\|}\\right) + b^T \\left(\\frac{x^k - \\gamma(Ax^x + b)}{\\| x^k - \\gamma(Ax^x + b) \\|}\\right)$$"
   ]
  },
  {
   "cell_type": "code",
   "execution_count": 20,
   "metadata": {
    "collapsed": true
   },
   "outputs": [],
   "source": [
    "import numpy as np\n",
    "from matplotlib import pyplot as plt\n",
    "%matplotlib inline"
   ]
  },
  {
   "cell_type": "code",
   "execution_count": 21,
   "metadata": {
    "collapsed": false
   },
   "outputs": [
    {
     "name": "stdout",
     "output_type": "stream",
     "text": [
      "[[   1.    1.    1.]\n",
      " [   1.  100.    1.]\n",
      " [   1.    1.    1.]]\n",
      "[ 1.  2.  3.]\n"
     ]
    }
   ],
   "source": [
    "A = np.array([[1., 1., 1.], [1., 100., 1.], [1., 1., 1.]])\n",
    "b = np.array([1., 2., 3.])\n",
    "print A\n",
    "print b\n",
    "r = 100."
   ]
  },
  {
   "cell_type": "markdown",
   "metadata": {
    "collapsed": true
   },
   "source": [
    "# Применим метод штрафных функций:\n",
    "$$M = \\left(\\frac{x^k - \\gamma(Ax^x + b)^T}{\\| x^k - \\gamma(Ax^x + b) \\|}\\right) A \\left(\\frac{x^k - \\gamma(Ax^x + b)}{\\| x^k - \\gamma(Ax^x + b) \\|}\\right) + b^T \\left(\\frac{x^k - \\gamma(Ax^x + b)}{\\| x^k - \\gamma(Ax^x + b) \\|}\\right) + r (-\\gamma)^2_+$$\n"
   ]
  },
  {
   "cell_type": "code",
   "execution_count": 22,
   "metadata": {
    "collapsed": false
   },
   "outputs": [],
   "source": [
    "def M(gamma):\n",
    "    return (xk - gamma * (np.dot(A, xk) + b)).dot(np.dot(A, xk - gamma * (np.dot(A, xk) + b))) / np.linalg.norm(xk - gamma * (np.dot(A, xk) + b)) ** 2 + b.dot((xk - gamma * (np.dot(A, xk) + b))) / np.linalg.norm(xk - gamma * (np.dot(A, xk) + b)) + r * np.max([0., -gamma]) ** 2\n",
    "    "
   ]
  },
  {
   "cell_type": "markdown",
   "metadata": {},
   "source": [
    "## Минимум оштрафованной функции будем находить градиентным спуском. Градиент:"
   ]
  },
  {
   "cell_type": "markdown",
   "metadata": {},
   "source": [
    "$$M'_{\\gamma} = \\frac{\\gamma^2 (-2a_2'a_3 + 2a_2 a_3') + \\gamma (2a_3a_1' - 2 a_2a_1' - 2a_3' a_1) + 2a_1a_2'}{(\\gamma^2 a_3' - 2 \\gamma a_2' + a_1' )^2} - 2b^Tx^k \\frac{\\sum_{i=1}^{n}(x^k_i - \\gamma(Ax^k + b)_i)(Ax^k + b)_i}{\\| x^k - \\gamma(Ax^k + b) \\|^3} - \\frac{b^T (Ax^k+b)}{\\| x^k - \\gamma(Ax^k + b) \\|}  + \\gamma(Ax^k+b)^Tb \\frac{\\sum_{i=1}^{n}(x^k_i - \\gamma(Ax^k + b)_i)(Ax^k + b)_i}{\\| x^k - \\gamma(Ax^k + b) \\|^3} - 2r(-\\gamma)_+$$\n",
    "Где введены обозначения:\n",
    "\n",
    "$a_3 = (Ax^k + b)^T A (Ax^k + b)$\n",
    "\n",
    "$a_2 = (x^k)^TA(Ax^k + b)$\n",
    "\n",
    "$a_1 = (x^k)^T A x^k$\n",
    "\n",
    "$a_3' = (Ax^k + b)^T  (Ax^k + b)$\n",
    "\n",
    "$a_2' = (x^k)^T(Ax^k + b)$\n",
    "\n",
    "$a_1' = (x^k)^T  x^k$\n"
   ]
  },
  {
   "cell_type": "code",
   "execution_count": 23,
   "metadata": {
    "collapsed": true
   },
   "outputs": [],
   "source": [
    "def gradM(gamma):\n",
    "    \"\"\"\n",
    "    a3 = (np.dot(A, xk) + b).dot(np.dot(A, np.dot(A, xk) + b))\n",
    "    a2 = (xk).dot(np.dot(A, np.dot(A, xk) + b))\n",
    "    a1 = (xk).dot(np.dot(A,xk))\n",
    "    a3t = (np.dot(A, xk) + b).dot(np.dot(np.eye(A.shape[0]), np.dot(A, xk) + b))\n",
    "    a2t = (xk).dot(np.dot(np.eye(A.shape[0]), np.dot(A, xk) + b))\n",
    "    a1t = (xk).dot(np.dot(np.eye(A.shape[0]),xk))\n",
    "    \"\"\"\n",
    "    first = (gamma ** 2 *(-2 * a2t * a3 + 2 * a2 * a3t) + gamma * (2 * a3 * a1t - 2 * a2 * a1t - 2 * a3t * a1) + 2 * a1 * a2t) / ((gamma ** 2 * a3t - 2 * gamma * a2t + a1t)**2)\n",
    "    sumfrac = sum((xk - gamma * (np.dot(A, xk) + b)) * (np.dot(A, xk) + b)) / (np.linalg.norm(xk - gamma * (np.dot(A, xk) + b)) ** 3)\n",
    "    second  = - 2 * np.dot(b, xk) * sumfrac\n",
    "    third = - (np.dot(b, np.dot(A, xk) + b)) / (np.linalg.norm(xk - gamma * (np.dot(A, xk ) + b)))\n",
    "    fourth =  gamma * np.dot(np.dot(A, xk) + b,b) * sumfrac\n",
    "    fifth = - 2 * r * max([0., -gamma])\n",
    "    return first + second + third + fourth + fifth"
   ]
  },
  {
   "cell_type": "markdown",
   "metadata": {},
   "source": [
    "# Поскольку вычисление шага как в методе наискорешего спуска немного затруднительно, а константа Липшица для градиента не видна, применим для вычисления шага backtracking line search:"
   ]
  },
  {
   "cell_type": "code",
   "execution_count": 46,
   "metadata": {
    "collapsed": true
   },
   "outputs": [],
   "source": [
    "def backtracking_line_search(f, gradf, x, p): # attention! this is for scalar function of one varianle\n",
    "    alpha = 1.\n",
    "    c = 1e-3\n",
    "    ro = 0.5\n",
    "    i = 0\n",
    "    while(f(x + alpha * p) > (f(x) +  c * alpha * gradf(x) * p)):\n",
    "        alpha = ro * alpha\n",
    "        print 'iteration number: ', i\n",
    "        print 'alpha_i = ', alpha\n",
    "        i += 1\n",
    "    return alpha"
   ]
  },
  {
   "cell_type": "code",
   "execution_count": 71,
   "metadata": {
    "collapsed": true
   },
   "outputs": [],
   "source": [
    "def get_new_gamma(f, gradf, x0):\n",
    "    #Pts_x = [x0]\n",
    "    #Pts_y = [f(x0)]\n",
    "    p = lambda x: -gradf(x)\n",
    "    x1 = x0\n",
    "    x2 = x1 + backtracking_line_search(f, gradf, x1, p(x1)) * p(x1)\n",
    "    j = 0\n",
    "    while (np.abs(x2 - x1) > 1e-3):\n",
    "        x1 = x2\n",
    "        x2 = x1 + backtracking_line_search(f, gradf, x1, p(x1)) * p(x1)\n",
    "        #Pts_x.append(x2)\n",
    "        #Pts_y.append(f(x2))\n",
    "        j += 1\n",
    "    print 'total iterations: ', j\n",
    "    return x2#, Pts_x, Pts_y"
   ]
  },
  {
   "cell_type": "code",
   "execution_count": 74,
   "metadata": {
    "collapsed": false,
    "scrolled": true
   },
   "outputs": [
    {
     "name": "stdout",
     "output_type": "stream",
     "text": [
      "iteration number:  0\n",
      "alpha_i =  0.5\n",
      "iteration number:  1\n",
      "alpha_i =  0.25\n",
      "iteration number:  0\n",
      "alpha_i =  0.5\n",
      "iteration number:  1\n",
      "alpha_i =  0.25\n",
      "iteration number:  2\n",
      "alpha_i =  0.125\n",
      "iteration number:  3\n",
      "alpha_i =  0.0625\n",
      "total iterations:  36\n",
      "528.497099458\n"
     ]
    }
   ],
   "source": [
    "#test cell\n",
    "xk = np.array([1., 0., 0])\n",
    "a3 = (np.dot(A, xk) + b).dot(np.dot(A, np.dot(A, xk) + b))\n",
    "a2 = (xk).dot(np.dot(A, np.dot(A, xk) + b))\n",
    "a1 = (xk).dot(np.dot(A,xk))\n",
    "a3t = (np.dot(A, xk) + b).dot(np.dot(np.eye(A.shape[0]), np.dot(A, xk) + b))\n",
    "a2t = (xk).dot(np.dot(np.eye(A.shape[0]), np.dot(A, xk) + b))\n",
    "a1t = (xk).dot(np.dot(np.eye(A.shape[0]),xk))\n",
    "print get_new_gamma(M, gradM, 528.)"
   ]
  },
  {
   "cell_type": "code",
   "execution_count": 75,
   "metadata": {
    "collapsed": true
   },
   "outputs": [
    {
     "name": "stdout",
     "output_type": "stream",
     "text": [
      "iteration number:  0\n",
      "alpha_i =  0.5\n",
      "iteration number:  0\n",
      "alpha_i =  0.5\n",
      "iteration number:  1\n",
      "alpha_i =  0.25\n",
      "iteration number:  0\n",
      "alpha_i =  0.5\n",
      "iteration number:  1\n",
      "alpha_i =  0.25\n",
      "iteration number:  2\n",
      "alpha_i =  0.125\n",
      "iteration number:  3\n",
      "alpha_i =  0.0625\n",
      "iteration number:  4\n",
      "alpha_i =  0.03125\n",
      "iteration number:  5\n",
      "alpha_i =  0.015625\n",
      "total iterations:  110287\n",
      "iter_num =  1\n",
      "iteration number:  0\n",
      "alpha_i =  0.5\n",
      "iteration number:  0\n",
      "alpha_i =  0.5\n",
      "iteration number:  1\n",
      "alpha_i =  0.25\n",
      "iteration number:  0\n",
      "alpha_i =  0.5\n",
      "iteration number:  1\n",
      "alpha_i =  0.25\n",
      "iteration number:  2\n",
      "alpha_i =  0.125\n",
      "iteration number:  3\n",
      "alpha_i =  0.0625\n",
      "iteration number:  4\n",
      "alpha_i =  0.03125\n",
      "iteration number:  5\n",
      "alpha_i =  0.015625\n",
      "total iterations:  110287\n",
      "iter_num =  2\n",
      "iteration number:  0\n",
      "alpha_i =  0.5\n",
      "iteration number:  0\n",
      "alpha_i =  0.5\n",
      "iteration number:  1\n",
      "alpha_i =  0.25\n",
      "iteration number:  0\n",
      "alpha_i =  0.5\n",
      "iteration number:  1\n",
      "alpha_i =  0.25\n",
      "iteration number:  2\n",
      "alpha_i =  0.125\n",
      "iteration number:  3\n",
      "alpha_i =  0.0625\n",
      "iteration number:  4\n",
      "alpha_i =  0.03125\n",
      "iteration number:  5\n",
      "alpha_i =  0.015625\n",
      "total iterations:  110287\n",
      "iter_num =  3\n",
      "iteration number:  0\n",
      "alpha_i =  0.5\n",
      "iteration number:  0\n",
      "alpha_i =  0.5\n",
      "iteration number:  1\n",
      "alpha_i =  0.25\n",
      "iteration number:  0\n",
      "alpha_i =  0.5\n",
      "iteration number:  1\n",
      "alpha_i =  0.25\n",
      "iteration number:  2\n",
      "alpha_i =  0.125\n",
      "iteration number:  3\n",
      "alpha_i =  0.0625\n",
      "iteration number:  4\n",
      "alpha_i =  0.03125\n",
      "iteration number:  5\n",
      "alpha_i =  0.015625\n",
      "total iterations:  110287\n",
      "iter_num =  4\n",
      "iteration number:  0\n",
      "alpha_i =  0.5\n",
      "iteration number:  0\n",
      "alpha_i =  0.5\n",
      "iteration number:  1\n",
      "alpha_i =  0.25\n",
      "iteration number:  0\n",
      "alpha_i =  0.5\n",
      "iteration number:  1\n",
      "alpha_i =  0.25\n",
      "iteration number:  2\n",
      "alpha_i =  0.125\n",
      "iteration number:  3\n",
      "alpha_i =  0.0625\n",
      "iteration number:  4\n",
      "alpha_i =  0.03125\n",
      "iteration number:  5\n",
      "alpha_i =  0.015625\n",
      "total iterations:  110287\n",
      "iter_num =  5\n",
      "iteration number:  0\n",
      "alpha_i =  0.5\n",
      "iteration number:  0\n",
      "alpha_i =  0.5\n",
      "iteration number:  1\n",
      "alpha_i =  0.25\n",
      "iteration number:  0\n",
      "alpha_i =  0.5\n",
      "iteration number:  1\n",
      "alpha_i =  0.25\n",
      "iteration number:  2\n",
      "alpha_i =  0.125\n",
      "iteration number:  3\n",
      "alpha_i =  0.0625\n",
      "iteration number:  4\n",
      "alpha_i =  0.03125\n",
      "iteration number:  5\n",
      "alpha_i =  0.015625\n",
      "total iterations:  110287\n",
      "iter_num =  6\n",
      "iteration number:  0\n",
      "alpha_i =  0.5\n",
      "iteration number:  0\n",
      "alpha_i =  0.5\n",
      "iteration number:  1\n",
      "alpha_i =  0.25\n",
      "iteration number:  0\n",
      "alpha_i =  0.5\n",
      "iteration number:  1\n",
      "alpha_i =  0.25\n",
      "iteration number:  2\n",
      "alpha_i =  0.125\n",
      "iteration number:  3\n",
      "alpha_i =  0.0625\n",
      "iteration number:  4\n",
      "alpha_i =  0.03125\n",
      "iteration number:  5\n",
      "alpha_i =  0.015625\n",
      "total iterations:  110287\n",
      "iter_num =  7\n",
      "iteration number:  0\n",
      "alpha_i =  0.5\n",
      "iteration number:  0\n",
      "alpha_i =  0.5\n",
      "iteration number:  1\n",
      "alpha_i =  0.25\n",
      "iteration number:  0\n",
      "alpha_i =  0.5\n",
      "iteration number:  1\n",
      "alpha_i =  0.25\n",
      "iteration number:  2\n",
      "alpha_i =  0.125\n",
      "iteration number:  3\n",
      "alpha_i =  0.0625\n",
      "iteration number:  4\n",
      "alpha_i =  0.03125\n",
      "iteration number:  5\n",
      "alpha_i =  0.015625\n",
      "total iterations:  110287\n",
      "iter_num =  8\n",
      "iteration number:  0\n",
      "alpha_i =  0.5\n",
      "iteration number:  0\n",
      "alpha_i =  0.5\n",
      "iteration number:  1\n",
      "alpha_i =  0.25\n",
      "iteration number:  0\n",
      "alpha_i =  0.5\n",
      "iteration number:  1\n",
      "alpha_i =  0.25\n",
      "iteration number:  2\n",
      "alpha_i =  0.125\n",
      "iteration number:  3\n",
      "alpha_i =  0.0625\n",
      "iteration number:  4\n",
      "alpha_i =  0.03125\n",
      "iteration number:  5\n",
      "alpha_i =  0.015625\n",
      "total iterations:  110287\n",
      "iter_num =  9\n",
      "iteration number:  0\n",
      "alpha_i =  0.5\n",
      "iteration number:  0\n",
      "alpha_i =  0.5\n",
      "iteration number:  1\n",
      "alpha_i =  0.25\n",
      "iteration number:  0\n",
      "alpha_i =  0.5\n",
      "iteration number:  1\n",
      "alpha_i =  0.25\n",
      "iteration number:  2\n",
      "alpha_i =  0.125\n",
      "iteration number:  3\n",
      "alpha_i =  0.0625\n",
      "iteration number:  4\n",
      "alpha_i =  0.03125\n",
      "iteration number:  5\n",
      "alpha_i =  0.015625\n",
      "total iterations:  110287\n",
      "iter_num =  10\n"
     ]
    },
    {
     "ename": "KeyboardInterrupt",
     "evalue": "",
     "output_type": "error",
     "traceback": [
      "\u001b[1;31m---------------------------------------------------------------------------\u001b[0m",
      "\u001b[1;31mKeyboardInterrupt\u001b[0m                         Traceback (most recent call last)",
      "\u001b[1;32m<ipython-input-75-aad1960c54fc>\u001b[0m in \u001b[0;36m<module>\u001b[1;34m()\u001b[0m\n\u001b[0;32m     12\u001b[0m     \u001b[0ma2t\u001b[0m \u001b[1;33m=\u001b[0m \u001b[1;33m(\u001b[0m\u001b[0mxk\u001b[0m\u001b[1;33m)\u001b[0m\u001b[1;33m.\u001b[0m\u001b[0mdot\u001b[0m\u001b[1;33m(\u001b[0m\u001b[0mnp\u001b[0m\u001b[1;33m.\u001b[0m\u001b[0mdot\u001b[0m\u001b[1;33m(\u001b[0m\u001b[0mnp\u001b[0m\u001b[1;33m.\u001b[0m\u001b[0meye\u001b[0m\u001b[1;33m(\u001b[0m\u001b[0mA\u001b[0m\u001b[1;33m.\u001b[0m\u001b[0mshape\u001b[0m\u001b[1;33m[\u001b[0m\u001b[1;36m0\u001b[0m\u001b[1;33m]\u001b[0m\u001b[1;33m)\u001b[0m\u001b[1;33m,\u001b[0m \u001b[0mnp\u001b[0m\u001b[1;33m.\u001b[0m\u001b[0mdot\u001b[0m\u001b[1;33m(\u001b[0m\u001b[0mA\u001b[0m\u001b[1;33m,\u001b[0m \u001b[0mxk\u001b[0m\u001b[1;33m)\u001b[0m \u001b[1;33m+\u001b[0m \u001b[0mb\u001b[0m\u001b[1;33m)\u001b[0m\u001b[1;33m)\u001b[0m\u001b[1;33m\u001b[0m\u001b[0m\n\u001b[0;32m     13\u001b[0m     \u001b[0ma1t\u001b[0m \u001b[1;33m=\u001b[0m \u001b[1;33m(\u001b[0m\u001b[0mxk\u001b[0m\u001b[1;33m)\u001b[0m\u001b[1;33m.\u001b[0m\u001b[0mdot\u001b[0m\u001b[1;33m(\u001b[0m\u001b[0mnp\u001b[0m\u001b[1;33m.\u001b[0m\u001b[0mdot\u001b[0m\u001b[1;33m(\u001b[0m\u001b[0mnp\u001b[0m\u001b[1;33m.\u001b[0m\u001b[0meye\u001b[0m\u001b[1;33m(\u001b[0m\u001b[0mA\u001b[0m\u001b[1;33m.\u001b[0m\u001b[0mshape\u001b[0m\u001b[1;33m[\u001b[0m\u001b[1;36m0\u001b[0m\u001b[1;33m]\u001b[0m\u001b[1;33m)\u001b[0m\u001b[1;33m,\u001b[0m\u001b[0mxk\u001b[0m\u001b[1;33m)\u001b[0m\u001b[1;33m)\u001b[0m\u001b[1;33m\u001b[0m\u001b[0m\n\u001b[1;32m---> 14\u001b[1;33m     \u001b[0mgamma\u001b[0m \u001b[1;33m=\u001b[0m \u001b[0mget_new_gamma\u001b[0m\u001b[1;33m(\u001b[0m\u001b[0mM\u001b[0m\u001b[1;33m,\u001b[0m \u001b[0mgradM\u001b[0m\u001b[1;33m,\u001b[0m \u001b[1;36m500.0\u001b[0m\u001b[1;33m)\u001b[0m\u001b[1;33m\u001b[0m\u001b[0m\n\u001b[0m\u001b[0;32m     15\u001b[0m     \u001b[0mxkk\u001b[0m \u001b[1;33m=\u001b[0m \u001b[1;33m(\u001b[0m\u001b[0mxk\u001b[0m \u001b[1;33m-\u001b[0m \u001b[0mgamma\u001b[0m \u001b[1;33m*\u001b[0m \u001b[0mgradM\u001b[0m\u001b[1;33m(\u001b[0m\u001b[0mgamma\u001b[0m\u001b[1;33m)\u001b[0m\u001b[1;33m)\u001b[0m \u001b[1;33m/\u001b[0m \u001b[0mnp\u001b[0m\u001b[1;33m.\u001b[0m\u001b[0mlinalg\u001b[0m\u001b[1;33m.\u001b[0m\u001b[0mnorm\u001b[0m\u001b[1;33m(\u001b[0m\u001b[0mxk\u001b[0m \u001b[1;33m-\u001b[0m \u001b[0mgamma\u001b[0m \u001b[1;33m*\u001b[0m \u001b[0mgradM\u001b[0m\u001b[1;33m(\u001b[0m\u001b[0mgamma\u001b[0m\u001b[1;33m)\u001b[0m\u001b[1;33m)\u001b[0m\u001b[1;33m\u001b[0m\u001b[0m\n\u001b[0;32m     16\u001b[0m     \u001b[1;32mif\u001b[0m \u001b[1;33m(\u001b[0m\u001b[0mnp\u001b[0m\u001b[1;33m.\u001b[0m\u001b[0mlinalg\u001b[0m\u001b[1;33m.\u001b[0m\u001b[0mnorm\u001b[0m\u001b[1;33m(\u001b[0m\u001b[0mxkk\u001b[0m \u001b[1;33m-\u001b[0m \u001b[0mxk\u001b[0m\u001b[1;33m)\u001b[0m \u001b[1;33m<\u001b[0m \u001b[1;36m1e-4\u001b[0m\u001b[1;33m)\u001b[0m\u001b[1;33m:\u001b[0m\u001b[1;33m\u001b[0m\u001b[0m\n",
      "\u001b[1;32m<ipython-input-71-dd7f29e66579>\u001b[0m in \u001b[0;36mget_new_gamma\u001b[1;34m(f, gradf, x0)\u001b[0m\n\u001b[0;32m      8\u001b[0m     \u001b[1;32mwhile\u001b[0m \u001b[1;33m(\u001b[0m\u001b[0mnp\u001b[0m\u001b[1;33m.\u001b[0m\u001b[0mabs\u001b[0m\u001b[1;33m(\u001b[0m\u001b[0mx2\u001b[0m \u001b[1;33m-\u001b[0m \u001b[0mx1\u001b[0m\u001b[1;33m)\u001b[0m \u001b[1;33m>\u001b[0m \u001b[1;36m1e-3\u001b[0m\u001b[1;33m)\u001b[0m\u001b[1;33m:\u001b[0m\u001b[1;33m\u001b[0m\u001b[0m\n\u001b[0;32m      9\u001b[0m         \u001b[0mx1\u001b[0m \u001b[1;33m=\u001b[0m \u001b[0mx2\u001b[0m\u001b[1;33m\u001b[0m\u001b[0m\n\u001b[1;32m---> 10\u001b[1;33m         \u001b[0mx2\u001b[0m \u001b[1;33m=\u001b[0m \u001b[0mx1\u001b[0m \u001b[1;33m+\u001b[0m \u001b[0mbacktracking_line_search\u001b[0m\u001b[1;33m(\u001b[0m\u001b[0mf\u001b[0m\u001b[1;33m,\u001b[0m \u001b[0mgradf\u001b[0m\u001b[1;33m,\u001b[0m \u001b[0mx1\u001b[0m\u001b[1;33m,\u001b[0m \u001b[0mp\u001b[0m\u001b[1;33m(\u001b[0m\u001b[0mx1\u001b[0m\u001b[1;33m)\u001b[0m\u001b[1;33m)\u001b[0m \u001b[1;33m*\u001b[0m \u001b[0mp\u001b[0m\u001b[1;33m(\u001b[0m\u001b[0mx1\u001b[0m\u001b[1;33m)\u001b[0m\u001b[1;33m\u001b[0m\u001b[0m\n\u001b[0m\u001b[0;32m     11\u001b[0m         \u001b[1;31m#Pts_x.append(x2)\u001b[0m\u001b[1;33m\u001b[0m\u001b[1;33m\u001b[0m\u001b[0m\n\u001b[0;32m     12\u001b[0m         \u001b[1;31m#Pts_y.append(f(x2))\u001b[0m\u001b[1;33m\u001b[0m\u001b[1;33m\u001b[0m\u001b[0m\n",
      "\u001b[1;32m<ipython-input-46-be25878085ee>\u001b[0m in \u001b[0;36mbacktracking_line_search\u001b[1;34m(f, gradf, x, p)\u001b[0m\n\u001b[0;32m      4\u001b[0m     \u001b[0mro\u001b[0m \u001b[1;33m=\u001b[0m \u001b[1;36m0.5\u001b[0m\u001b[1;33m\u001b[0m\u001b[0m\n\u001b[0;32m      5\u001b[0m     \u001b[0mi\u001b[0m \u001b[1;33m=\u001b[0m \u001b[1;36m0\u001b[0m\u001b[1;33m\u001b[0m\u001b[0m\n\u001b[1;32m----> 6\u001b[1;33m     \u001b[1;32mwhile\u001b[0m\u001b[1;33m(\u001b[0m\u001b[0mf\u001b[0m\u001b[1;33m(\u001b[0m\u001b[0mx\u001b[0m \u001b[1;33m+\u001b[0m \u001b[0malpha\u001b[0m \u001b[1;33m*\u001b[0m \u001b[0mp\u001b[0m\u001b[1;33m)\u001b[0m \u001b[1;33m>\u001b[0m \u001b[1;33m(\u001b[0m\u001b[0mf\u001b[0m\u001b[1;33m(\u001b[0m\u001b[0mx\u001b[0m\u001b[1;33m)\u001b[0m \u001b[1;33m+\u001b[0m  \u001b[0mc\u001b[0m \u001b[1;33m*\u001b[0m \u001b[0malpha\u001b[0m \u001b[1;33m*\u001b[0m \u001b[0mgradf\u001b[0m\u001b[1;33m(\u001b[0m\u001b[0mx\u001b[0m\u001b[1;33m)\u001b[0m \u001b[1;33m*\u001b[0m \u001b[0mp\u001b[0m\u001b[1;33m)\u001b[0m\u001b[1;33m)\u001b[0m\u001b[1;33m:\u001b[0m\u001b[1;33m\u001b[0m\u001b[0m\n\u001b[0m\u001b[0;32m      7\u001b[0m         \u001b[0malpha\u001b[0m \u001b[1;33m=\u001b[0m \u001b[0mro\u001b[0m \u001b[1;33m*\u001b[0m \u001b[0malpha\u001b[0m\u001b[1;33m\u001b[0m\u001b[0m\n\u001b[0;32m      8\u001b[0m         \u001b[1;32mprint\u001b[0m \u001b[1;34m'iteration number: '\u001b[0m\u001b[1;33m,\u001b[0m \u001b[0mi\u001b[0m\u001b[1;33m\u001b[0m\u001b[0m\n",
      "\u001b[1;32m<ipython-input-23-294bab32012d>\u001b[0m in \u001b[0;36mgradM\u001b[1;34m(gamma)\u001b[0m\n\u001b[0;32m      9\u001b[0m     \"\"\"\n\u001b[0;32m     10\u001b[0m     \u001b[0mfirst\u001b[0m \u001b[1;33m=\u001b[0m \u001b[1;33m(\u001b[0m\u001b[0mgamma\u001b[0m \u001b[1;33m**\u001b[0m \u001b[1;36m2\u001b[0m \u001b[1;33m*\u001b[0m\u001b[1;33m(\u001b[0m\u001b[1;33m-\u001b[0m\u001b[1;36m2\u001b[0m \u001b[1;33m*\u001b[0m \u001b[0ma2t\u001b[0m \u001b[1;33m*\u001b[0m \u001b[0ma3\u001b[0m \u001b[1;33m+\u001b[0m \u001b[1;36m2\u001b[0m \u001b[1;33m*\u001b[0m \u001b[0ma2\u001b[0m \u001b[1;33m*\u001b[0m \u001b[0ma3t\u001b[0m\u001b[1;33m)\u001b[0m \u001b[1;33m+\u001b[0m \u001b[0mgamma\u001b[0m \u001b[1;33m*\u001b[0m \u001b[1;33m(\u001b[0m\u001b[1;36m2\u001b[0m \u001b[1;33m*\u001b[0m \u001b[0ma3\u001b[0m \u001b[1;33m*\u001b[0m \u001b[0ma1t\u001b[0m \u001b[1;33m-\u001b[0m \u001b[1;36m2\u001b[0m \u001b[1;33m*\u001b[0m \u001b[0ma2\u001b[0m \u001b[1;33m*\u001b[0m \u001b[0ma1t\u001b[0m \u001b[1;33m-\u001b[0m \u001b[1;36m2\u001b[0m \u001b[1;33m*\u001b[0m \u001b[0ma3t\u001b[0m \u001b[1;33m*\u001b[0m \u001b[0ma1\u001b[0m\u001b[1;33m)\u001b[0m \u001b[1;33m+\u001b[0m \u001b[1;36m2\u001b[0m \u001b[1;33m*\u001b[0m \u001b[0ma1\u001b[0m \u001b[1;33m*\u001b[0m \u001b[0ma2t\u001b[0m\u001b[1;33m)\u001b[0m \u001b[1;33m/\u001b[0m \u001b[1;33m(\u001b[0m\u001b[1;33m(\u001b[0m\u001b[0mgamma\u001b[0m \u001b[1;33m**\u001b[0m \u001b[1;36m2\u001b[0m \u001b[1;33m*\u001b[0m \u001b[0ma3t\u001b[0m \u001b[1;33m-\u001b[0m \u001b[1;36m2\u001b[0m \u001b[1;33m*\u001b[0m \u001b[0mgamma\u001b[0m \u001b[1;33m*\u001b[0m \u001b[0ma2t\u001b[0m \u001b[1;33m+\u001b[0m \u001b[0ma1t\u001b[0m\u001b[1;33m)\u001b[0m\u001b[1;33m**\u001b[0m\u001b[1;36m2\u001b[0m\u001b[1;33m)\u001b[0m\u001b[1;33m\u001b[0m\u001b[0m\n\u001b[1;32m---> 11\u001b[1;33m     \u001b[0msumfrac\u001b[0m \u001b[1;33m=\u001b[0m \u001b[0msum\u001b[0m\u001b[1;33m(\u001b[0m\u001b[1;33m(\u001b[0m\u001b[0mxk\u001b[0m \u001b[1;33m-\u001b[0m \u001b[0mgamma\u001b[0m \u001b[1;33m*\u001b[0m \u001b[1;33m(\u001b[0m\u001b[0mnp\u001b[0m\u001b[1;33m.\u001b[0m\u001b[0mdot\u001b[0m\u001b[1;33m(\u001b[0m\u001b[0mA\u001b[0m\u001b[1;33m,\u001b[0m \u001b[0mxk\u001b[0m\u001b[1;33m)\u001b[0m \u001b[1;33m+\u001b[0m \u001b[0mb\u001b[0m\u001b[1;33m)\u001b[0m\u001b[1;33m)\u001b[0m \u001b[1;33m*\u001b[0m \u001b[1;33m(\u001b[0m\u001b[0mnp\u001b[0m\u001b[1;33m.\u001b[0m\u001b[0mdot\u001b[0m\u001b[1;33m(\u001b[0m\u001b[0mA\u001b[0m\u001b[1;33m,\u001b[0m \u001b[0mxk\u001b[0m\u001b[1;33m)\u001b[0m \u001b[1;33m+\u001b[0m \u001b[0mb\u001b[0m\u001b[1;33m)\u001b[0m\u001b[1;33m)\u001b[0m \u001b[1;33m/\u001b[0m \u001b[1;33m(\u001b[0m\u001b[0mnp\u001b[0m\u001b[1;33m.\u001b[0m\u001b[0mlinalg\u001b[0m\u001b[1;33m.\u001b[0m\u001b[0mnorm\u001b[0m\u001b[1;33m(\u001b[0m\u001b[0mxk\u001b[0m \u001b[1;33m-\u001b[0m \u001b[0mgamma\u001b[0m \u001b[1;33m*\u001b[0m \u001b[1;33m(\u001b[0m\u001b[0mnp\u001b[0m\u001b[1;33m.\u001b[0m\u001b[0mdot\u001b[0m\u001b[1;33m(\u001b[0m\u001b[0mA\u001b[0m\u001b[1;33m,\u001b[0m \u001b[0mxk\u001b[0m\u001b[1;33m)\u001b[0m \u001b[1;33m+\u001b[0m \u001b[0mb\u001b[0m\u001b[1;33m)\u001b[0m\u001b[1;33m)\u001b[0m \u001b[1;33m**\u001b[0m \u001b[1;36m3\u001b[0m\u001b[1;33m)\u001b[0m\u001b[1;33m\u001b[0m\u001b[0m\n\u001b[0m\u001b[0;32m     12\u001b[0m     \u001b[0msecond\u001b[0m  \u001b[1;33m=\u001b[0m \u001b[1;33m-\u001b[0m \u001b[1;36m2\u001b[0m \u001b[1;33m*\u001b[0m \u001b[0mnp\u001b[0m\u001b[1;33m.\u001b[0m\u001b[0mdot\u001b[0m\u001b[1;33m(\u001b[0m\u001b[0mb\u001b[0m\u001b[1;33m,\u001b[0m \u001b[0mxk\u001b[0m\u001b[1;33m)\u001b[0m \u001b[1;33m*\u001b[0m \u001b[0msumfrac\u001b[0m\u001b[1;33m\u001b[0m\u001b[0m\n\u001b[0;32m     13\u001b[0m     \u001b[0mthird\u001b[0m \u001b[1;33m=\u001b[0m \u001b[1;33m-\u001b[0m \u001b[1;33m(\u001b[0m\u001b[0mnp\u001b[0m\u001b[1;33m.\u001b[0m\u001b[0mdot\u001b[0m\u001b[1;33m(\u001b[0m\u001b[0mb\u001b[0m\u001b[1;33m,\u001b[0m \u001b[0mnp\u001b[0m\u001b[1;33m.\u001b[0m\u001b[0mdot\u001b[0m\u001b[1;33m(\u001b[0m\u001b[0mA\u001b[0m\u001b[1;33m,\u001b[0m \u001b[0mxk\u001b[0m\u001b[1;33m)\u001b[0m \u001b[1;33m+\u001b[0m \u001b[0mb\u001b[0m\u001b[1;33m)\u001b[0m\u001b[1;33m)\u001b[0m \u001b[1;33m/\u001b[0m \u001b[1;33m(\u001b[0m\u001b[0mnp\u001b[0m\u001b[1;33m.\u001b[0m\u001b[0mlinalg\u001b[0m\u001b[1;33m.\u001b[0m\u001b[0mnorm\u001b[0m\u001b[1;33m(\u001b[0m\u001b[0mxk\u001b[0m \u001b[1;33m-\u001b[0m \u001b[0mgamma\u001b[0m \u001b[1;33m*\u001b[0m \u001b[1;33m(\u001b[0m\u001b[0mnp\u001b[0m\u001b[1;33m.\u001b[0m\u001b[0mdot\u001b[0m\u001b[1;33m(\u001b[0m\u001b[0mA\u001b[0m\u001b[1;33m,\u001b[0m \u001b[0mxk\u001b[0m \u001b[1;33m)\u001b[0m \u001b[1;33m+\u001b[0m \u001b[0mb\u001b[0m\u001b[1;33m)\u001b[0m\u001b[1;33m)\u001b[0m\u001b[1;33m)\u001b[0m\u001b[1;33m\u001b[0m\u001b[0m\n",
      "\u001b[1;31mKeyboardInterrupt\u001b[0m: "
     ]
    }
   ],
   "source": [
    "print_rate = 10\n",
    "k = 0\n",
    "x0 = np.array([1., 0., 1.])\n",
    "prevx = x0\n",
    "notenough = True\n",
    "while(notenough):\n",
    "    xk = x0\n",
    "    a3 = (np.dot(A, xk) + b).dot(np.dot(A, np.dot(A, xk) + b))\n",
    "    a2 = (xk).dot(np.dot(A, np.dot(A, xk) + b))\n",
    "    a1 = (xk).dot(np.dot(A,xk))\n",
    "    a3t = (np.dot(A, xk) + b).dot(np.dot(np.eye(A.shape[0]), np.dot(A, xk) + b))\n",
    "    a2t = (xk).dot(np.dot(np.eye(A.shape[0]), np.dot(A, xk) + b))\n",
    "    a1t = (xk).dot(np.dot(np.eye(A.shape[0]),xk))\n",
    "    gamma = get_new_gamma(M, gradM, 500.0)\n",
    "    xkk = (xk - gamma * gradM(gamma)) / np.linalg.norm(xk - gamma * gradM(gamma))\n",
    "    if (np.linalg.norm(xkk - xk) < 1e-4):\n",
    "        notenough = False\n",
    "    k += 1\n",
    "    if (k % print_rate == 0):\n",
    "        print 'iter_num = ', k\n",
    "print xkk"
   ]
  },
  {
   "cell_type": "code",
   "execution_count": 77,
   "metadata": {
    "collapsed": false
   },
   "outputs": [
    {
     "name": "stdout",
     "output_type": "stream",
     "text": [
      "[ 0.60028747  0.52849779  0.60028747]\n",
      "34.0995191591\n"
     ]
    }
   ],
   "source": [
    "print xkk\n",
    "print xkk.dot(np.dot(A, xkk)) + np.dot(b, xkk)"
   ]
  }
 ],
 "metadata": {
  "anaconda-cloud": {},
  "kernelspec": {
   "display_name": "Python [Root]",
   "language": "python",
   "name": "Python [Root]"
  },
  "language_info": {
   "codemirror_mode": {
    "name": "ipython",
    "version": 2
   },
   "file_extension": ".py",
   "mimetype": "text/x-python",
   "name": "python",
   "nbconvert_exporter": "python",
   "pygments_lexer": "ipython2",
   "version": "2.7.12"
  }
 },
 "nbformat": 4,
 "nbformat_minor": 0
}
