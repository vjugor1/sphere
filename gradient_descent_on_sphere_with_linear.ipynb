{
 "cells": [
  {
   "cell_type": "markdown",
   "metadata": {},
   "source": [
    "# Постановка задачи\n",
    "$$\\underset{\\| x \\|^2 = 1}{min} f(x) = x^T A x + b^T x$$"
   ]
  },
  {
   "cell_type": "markdown",
   "metadata": {},
   "source": [
    "# Применяется метод наискорейшего спуска\n",
    "$$x^{k+1} =P_S(x^k - \\gamma^k \\nabla f(x^k))$$\n",
    "$$\\gamma^k = \\underset{\\gamma \\geq 0}{argmin} f(P_S(x^k - \\gamma \\nabla f(x^k)))$$"
   ]
  },
  {
   "cell_type": "markdown",
   "metadata": {},
   "source": [
    "# Вычислим шаг \n",
    "$$\\underset{\\gamma \\geq 0}{argmin} \\left(\\frac{x^k - \\gamma(Ax^x + b)^T}{\\| x^k - \\gamma(Ax^x + b) \\|}\\right) A \\left(\\frac{x^k - \\gamma(Ax^x + b)}{\\| x^k - \\gamma(Ax^x + b) \\|}\\right) + b^T \\left(\\frac{x^k - \\gamma(Ax^x + b)}{\\| x^k - \\gamma(Ax^x + b) \\|}\\right)$$"
   ]
  },
  {
   "cell_type": "code",
   "execution_count": 1,
   "metadata": {
    "collapsed": true
   },
   "outputs": [],
   "source": [
    "import numpy as np\n",
    "from matplotlib import pyplot as plt\n",
    "%matplotlib inline"
   ]
  },
  {
   "cell_type": "code",
   "execution_count": 54,
   "metadata": {
    "collapsed": false
   },
   "outputs": [
    {
     "name": "stdout",
     "output_type": "stream",
     "text": [
      "[[   1.    1.    1.]\n",
      " [   1. -100.    1.]\n",
      " [   1.    1.    1.]]\n",
      "[ 1.  2.  3.]\n"
     ]
    }
   ],
   "source": [
    "A = np.array([[1., 1., 1.], [1., -100., 1.], [1., 1., 1.]])\n",
    "b = np.array([1., 2., 3.])\n",
    "print A\n",
    "print b\n",
    "r = 1."
   ]
  },
  {
   "cell_type": "markdown",
   "metadata": {
    "collapsed": true
   },
   "source": [
    "# Применим метод штрафных функций:\n",
    "$$M = \\left(\\frac{x^k - \\gamma(Ax^k + b)^T}{\\| x^k - \\gamma(Ax^k + b) \\|}\\right) A \\left(\\frac{x^k - \\gamma(Ax^k + b)}{\\| x^k - \\gamma(Ax^k + b) \\|}\\right) + b^T \\left(\\frac{x^k - \\gamma(Ax^k + b)}{\\| x^k - \\gamma(Ax^k + b) \\|}\\right) + r (-\\gamma)^2_+$$\n"
   ]
  },
  {
   "cell_type": "code",
   "execution_count": 55,
   "metadata": {
    "collapsed": false
   },
   "outputs": [],
   "source": [
    "def M(gamma):\n",
    "    return (xk - gamma * (np.dot(A, xk) + b)).dot(np.dot(A, xk - gamma * (np.dot(A, xk) + b))) / np.linalg.norm(xk - gamma * (np.dot(A, xk) + b)) ** 2 + b.dot((xk - gamma * (np.dot(A, xk) + b))) / np.linalg.norm(xk - gamma * (np.dot(A, xk) + b)) + r * np.max([0., -gamma]) ** 2\n",
    "    "
   ]
  },
  {
   "cell_type": "markdown",
   "metadata": {},
   "source": [
    "## Минимум оштрафованной функции будем находить градиентным спуском. Градиент:"
   ]
  },
  {
   "cell_type": "markdown",
   "metadata": {},
   "source": [
    "$$M'_{\\gamma} = \\frac{\\gamma^2 (-2a_2'a_3 + 2a_2 a_3') + \\gamma (2a_3a_1' - 2 a_2a_1' - 2a_3' a_1) + 2a_1a_2'}{(\\gamma^2 a_3' - 2 \\gamma a_2' + a_1' )^2} - 2b^Tx^k \\frac{\\sum_{i=1}^{n}(x^k_i - \\gamma(Ax^k + b)_i)(Ax^k + b)_i}{\\| x^k - \\gamma(Ax^k + b) \\|^3} - \\frac{b^T (Ax^k+b)}{\\| x^k - \\gamma(Ax^k + b) \\|}  + \\gamma(Ax^k+b)^Tb \\frac{\\sum_{i=1}^{n}(x^k_i - \\gamma(Ax^k + b)_i)(Ax^k + b)_i}{\\| x^k - \\gamma(Ax^k + b) \\|^3} - 2r(-\\gamma)_+$$\n",
    "Где введены обозначения:\n",
    "\n",
    "$a_3 = (Ax^k + b)^T A (Ax^k + b)$\n",
    "\n",
    "$a_2 = (x^k)^TA(Ax^k + b)$\n",
    "\n",
    "$a_1 = (x^k)^T A x^k$\n",
    "\n",
    "$a_3' = (Ax^k + b)^T  (Ax^k + b)$\n",
    "\n",
    "$a_2' = (x^k)^T(Ax^k + b)$\n",
    "\n",
    "$a_1' = (x^k)^T  x^k$\n"
   ]
  },
  {
   "cell_type": "code",
   "execution_count": 56,
   "metadata": {
    "collapsed": true
   },
   "outputs": [],
   "source": [
    "def gradM(gamma):\n",
    "    \"\"\"\n",
    "    a3 = (np.dot(A, xk) + b).dot(np.dot(A, np.dot(A, xk) + b))\n",
    "    a2 = (xk).dot(np.dot(A, np.dot(A, xk) + b))\n",
    "    a1 = (xk).dot(np.dot(A,xk))\n",
    "    a3t = (np.dot(A, xk) + b).dot(np.dot(np.eye(A.shape[0]), np.dot(A, xk) + b))\n",
    "    a2t = (xk).dot(np.dot(np.eye(A.shape[0]), np.dot(A, xk) + b))\n",
    "    a1t = (xk).dot(np.dot(np.eye(A.shape[0]),xk))\n",
    "    \"\"\"\n",
    "    first = (gamma ** 2 *(-2 * a2t * a3 + 2 * a2 * a3t) + gamma * (2 * a3 * a1t - 2 * a2 * a1t - 2 * a3t * a1) + 2 * a1 * a2t) / ((gamma ** 2 * a3t - 2 * gamma * a2t + a1t)**2)\n",
    "    sumfrac = sum((xk - gamma * (np.dot(A, xk) + b)) * (np.dot(A, xk) + b)) / (np.linalg.norm(xk - gamma * (np.dot(A, xk) + b)) ** 3)\n",
    "    second  = - 2 * np.dot(b, xk) * sumfrac\n",
    "    third = - (np.dot(b, np.dot(A, xk) + b)) / (np.linalg.norm(xk - gamma * (np.dot(A, xk ) + b)))\n",
    "    fourth =  gamma * np.dot(np.dot(A, xk) + b,b) * sumfrac\n",
    "    fifth = - 2 * r * max([0., -gamma])\n",
    "    return first + second + third + fourth + fifth"
   ]
  },
  {
   "cell_type": "markdown",
   "metadata": {},
   "source": [
    "# Поскольку вычисление шага как в методе наискорешего спуска немного затруднительно, а константа Липшица для градиента не видна, применим для вычисления шага backtracking line search:"
   ]
  },
  {
   "cell_type": "code",
   "execution_count": 57,
   "metadata": {
    "collapsed": true
   },
   "outputs": [],
   "source": [
    "def backtracking_line_search(f, gradf, x, p): # attention! this is for scalar function of one varianle\n",
    "    alpha = 1.\n",
    "    c = 1e-3\n",
    "    ro = 0.5\n",
    "    i = 0\n",
    "    while(f(x + alpha * p) < (f(x) +  c * alpha * gradf(x) * p)):\n",
    "        alpha = ro * alpha\n",
    "        #print 'iteration number: ', i\n",
    "        #print 'alpha_i = ', alpha\n",
    "        i += 1\n",
    "    return alpha"
   ]
  },
  {
   "cell_type": "code",
   "execution_count": 58,
   "metadata": {
    "collapsed": true
   },
   "outputs": [],
   "source": [
    "def get_new_gamma(f, gradf, x0):\n",
    "    #Pts_x = [x0]\n",
    "    #Pts_y = [f(x0)]\n",
    "    p = lambda x: -gradf(x)\n",
    "    x1 = x0\n",
    "    x2 = x1 + 1 * backtracking_line_search(f, gradf, x1, p(x1)) * p(x1)\n",
    "    j = 0\n",
    "    while (np.abs(x2 - x1) > 1e-1):\n",
    "        x1 = x2\n",
    "        x2 = x1 + backtracking_line_search(f, gradf, x1, p(x1)) * p(x1)\n",
    "        #Pts_x.append(x2)\n",
    "        #Pts_y.append(f(x2))\n",
    "        j += 1\n",
    "    #print 'total iterations: ', j\n",
    "    return x2#, Pts_x, Pts_y"
   ]
  },
  {
   "cell_type": "code",
   "execution_count": 50,
   "metadata": {
    "collapsed": false,
    "scrolled": true
   },
   "outputs": [
    {
     "name": "stdout",
     "output_type": "stream",
     "text": [
      "528.007807755\n"
     ]
    }
   ],
   "source": [
    "#test cell\n",
    "xk = np.array([3., 10., 0])\n",
    "a3 = (np.dot(A, xk) + b).dot(np.dot(A, np.dot(A, xk) + b))\n",
    "a2 = (xk).dot(np.dot(A, np.dot(A, xk) + b))\n",
    "a1 = (xk).dot(np.dot(A,xk))\n",
    "a3t = (np.dot(A, xk) + b).dot(np.dot(np.eye(A.shape[0]), np.dot(A, xk) + b))\n",
    "a2t = (xk).dot(np.dot(np.eye(A.shape[0]), np.dot(A, xk) + b))\n",
    "a1t = (xk).dot(np.dot(np.eye(A.shape[0]),xk))\n",
    "print get_new_gamma(M, gradM, 528.)"
   ]
  },
  {
   "cell_type": "code",
   "execution_count": 59,
   "metadata": {
    "collapsed": false
   },
   "outputs": [
    {
     "name": "stdout",
     "output_type": "stream",
     "text": [
      "-101.979569958\n",
      "-101.979571322\n"
     ]
    }
   ],
   "source": [
    "print M(1305)\n",
    "print M(528)"
   ]
  },
  {
   "cell_type": "code",
   "execution_count": 60,
   "metadata": {
    "collapsed": false
   },
   "outputs": [
    {
     "name": "stdout",
     "output_type": "stream",
     "text": [
      "iter_num =  1\n",
      "xk =  [ 1.  0.  0.]\n",
      "xkk =  [-0.36921978 -0.55760526 -0.74347369]\n",
      "gamma  =  73.8434756796\n",
      "iter_num =  2\n",
      "xk =  [-0.36921978 -0.55760526 -0.74347369]\n",
      "xkk =  [ 0.01173888 -0.99965163 -0.02363933]\n",
      "gamma  =  73.8992400275\n",
      "iter_num =  3\n",
      "xk =  [ 0.01173888 -0.99965163 -0.02363933]\n",
      "xkk =  [  1.14827423e-04  -9.99809843e-01  -1.95003647e-02]\n",
      "gamma  =  73.9549339563\n",
      "iter_num =  4\n",
      "xk =  [  1.14827423e-04  -9.99809843e-01  -1.95003647e-02]\n",
      "xkk =  [  1.88215640e-04  -9.99811332e-01  -1.94233120e-02]\n",
      "gamma  =  74.01057779\n",
      "iter_num =  5\n",
      "xk =  [  1.88215640e-04  -9.99811332e-01  -1.94233120e-02]\n",
      "xkk =  [  1.86764412e-04  -9.99811305e-01  -1.94247047e-02]\n",
      "gamma  =  74.066179941\n",
      "[  1.86764412e-04  -9.99811305e-01  -1.94247047e-02]\n"
     ]
    }
   ],
   "source": [
    "print_rate = 1\n",
    "k = 0\n",
    "x0 = np.array([1., 0., 0.])\n",
    "notenough = True\n",
    "xs = []\n",
    "fs = []\n",
    "xk = x0\n",
    "gamma0 = 1.\n",
    "while(notenough):\n",
    "    a3 = (np.dot(A, xk) + b).dot(np.dot(A, np.dot(A, xk) + b))\n",
    "    a2 = (xk).dot(np.dot(A, np.dot(A, xk) + b))\n",
    "    a1 = (xk).dot(np.dot(A,xk))\n",
    "    a3t = (np.dot(A, xk) + b).dot(np.dot(np.eye(A.shape[0]), np.dot(A, xk) + b))\n",
    "    a2t = (xk).dot(np.dot(np.eye(A.shape[0]), np.dot(A, xk) + b))\n",
    "    a1t = (xk).dot(np.dot(np.eye(A.shape[0]),xk))\n",
    "    gamma = get_new_gamma(M, gradM, gamma0)\n",
    "    gamma0 = gamma\n",
    "    xkk = (xk - gamma * (np.dot(A, xk) + b)) / np.linalg.norm(xk - gamma * (np.dot(A, xk) + b))\n",
    "    if (np.linalg.norm(xkk - xk) < 1e-4):\n",
    "        notenough = False\n",
    "    k += 1\n",
    "    if (k % print_rate == 0):\n",
    "        print 'iter_num = ', k\n",
    "        print 'xk = ', xk\n",
    "        print 'xkk = ', xkk\n",
    "        print 'gamma  = ', gamma\n",
    "    xk = xkk\n",
    "    xs.append(xkk) \n",
    "    fs.append(xkk.dot(np.dot(A, xkk)) + np.dot(b, xkk))\n",
    "    if k > 20: break\n",
    "print xkk"
   ]
  },
  {
   "cell_type": "code",
   "execution_count": 61,
   "metadata": {
    "collapsed": false
   },
   "outputs": [
    {
     "name": "stderr",
     "output_type": "stream",
     "text": [
      "C:\\Anaconda2\\lib\\site-packages\\ipykernel\\__main__.py:3: RuntimeWarning: divide by zero encountered in log\n",
      "  app.launch_new_instance()\n"
     ]
    },
    {
     "data": {
      "image/png": "[encoded data removed]",
      "text/plain": [
       "<matplotlib.figure.Figure at 0x8524cf8>"
      ]
     },
     "metadata": {},
     "output_type": "display_data"
    }
   ],
   "source": [
    "fstar = fs[np.argmin(fs)]\n",
    "fminfstar = fs - np.ones(len(fs)) * fstar\n",
    "logf = np.log(fminfstar[:len(fs) - 1])\n",
    "\n",
    "plt.figure()\n",
    "plt.scatter(range(len(logf)), logf)\n",
    "plt.xlabel('iteration number')\n",
    "plt.ylabel('log(f)')\n",
    "plt.title('semilog')\n",
    "plt.show()"
   ]
  },
  {
   "cell_type": "code",
   "execution_count": 62,
   "metadata": {
    "collapsed": false
   },
   "outputs": [
    {
     "name": "stdout",
     "output_type": "stream",
     "text": [
      "[  1.86764412e-04  -9.99811305e-01  -1.94247047e-02]\n",
      "-101.981135838\n",
      "-101.981135838\n"
     ]
    }
   ],
   "source": [
    "#xk = np.array([  5.86293514e-04,   9.99803278e-01,  -1.98257615e-02])\n",
    "print xkk\n",
    "print xkk.dot(np.dot(A, xkk)) + np.dot(b, xkk)\n",
    "print xk.dot(np.dot(A, xk)) + np.dot(b, xk)"
   ]
  }
 ],
 "metadata": {
  "anaconda-cloud": {},
  "kernelspec": {
   "display_name": "Python [Root]",
   "language": "python",
   "name": "Python [Root]"
  },
  "language_info": {
   "codemirror_mode": {
    "name": "ipython",
    "version": 2
   },
   "file_extension": ".py",
   "mimetype": "text/x-python",
   "name": "python",
   "nbconvert_exporter": "python",
   "pygments_lexer": "ipython2",
   "version": "2.7.12"
  }
 },
 "nbformat": 4,
 "nbformat_minor": 0
}
